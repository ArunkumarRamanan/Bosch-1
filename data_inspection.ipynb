{
 "cells": [
  {
   "cell_type": "markdown",
   "metadata": {},
   "source": [
    "# Data inspection "
   ]
  },
  {
   "cell_type": "code",
   "execution_count": 3,
   "metadata": {
    "collapsed": true
   },
   "outputs": [],
   "source": [
    "import os\n",
    "import time\n",
    "import datetime\n",
    "\n",
    "\n",
    "import numpy as np\n",
    "import pandas as pd\n",
    "\n",
    "import seaborn as sns\n",
    "import matplotlib.pyplot as plt\n",
    "\n",
    "import c\n",
    "\n",
    "%matplotlib inline"
   ]
  },
  {
   "cell_type": "code",
   "execution_count": 6,
   "metadata": {
    "collapsed": false
   },
   "outputs": [
    {
     "name": "stdout",
     "output_type": "stream",
     "text": [
      "The history saving thread hit an unexpected error (OperationalError('unable to open database file',)).History will not be written to the database.\n"
     ]
    }
   ],
   "source": [
    "def read_last_column(csv_file):\n",
    "    sample = pd.read_csv(os.path.join(c.BASE_PATH,csv_file), nrows=1)\n",
    "    \n",
    "    return pd.read_csv(os.path.join(c.BASE_PATH,csv_file),usecols=[sample.shape[1]-1])\n",
    "\n",
    "def read_first_column(csv_file):\n",
    "    return pd.read_csv(os.path.join(c.BASE_PATH,csv_file),usecols=[0])\n",
    "\n",
    "def read_first_rows(csv_file):\n",
    "    return pd.read_csv(os.path.join(c.BASE_PATH,csv_file),\n",
    "                       nrows=100000, \n",
    "                       index_col=0,\n",
    "                       dtype='object')\n",
    "\n",
    "def calculate_sparsity(df):\n",
    "    n_nulls = df.isnull().sum().sum()\n",
    "    \n",
    "    return float(n_nulls)/df.size\n",
    "\n",
    "def analyze_files(csv_file, includes_target=False):\n",
    "    \n",
    "    file_ids = read_first_column(csv_file)\n",
    "    file_sample = read_first_rows(csv_file)\n",
    "    \n",
    "    # Report on id columns\n",
    "    print('Id info: rows: {} | nunique: {} | min: {} | max: {} | mean diff: {}'.format(file_ids.shape[0],\n",
    "                                                                                        file_ids.Id.nunique(), \n",
    "                                                                            file_ids.Id.min(), \n",
    "                                                                            file_ids.Id.max(), \n",
    "                                                                            file_ids.Id.diff().mean()))\n",
    "    # Report target columns\n",
    "    \n",
    "    if includes_target:\n",
    "        y = read_last_column(csv_file)\n",
    "        file_sample.drop(file_sample.columns[-1], axis=1, inplace=True)\n",
    "        print('Target mean: {}'.format(y.Response.mean()))\n",
    "    \n",
    "    # Report sample information\n",
    "    print('Sample columns: {}'.format(file_sample.shape[1]))\n",
    "    print('Sample sparsity: {}'.format(calculate_sparsity(file_sample)))\n",
    "    \n",
    "    print file_sample.head()\n",
    "    \n",
    "    \n",
    "    # Report numerical analysis only if contains only numeric columns\n",
    "    if (file_sample.dtypes=='object').sum()==0:\n",
    "        \n",
    "        s_mean = file_sample.mean()\n",
    "        s_max = file_sample.max()\n",
    "        s_min = file_sample.min()\n",
    "\n",
    "        print('Sample info minima: min: {} | max: {} | mean: {}'.format(s_min.min(),\n",
    "                                                                        s_min.max(), \n",
    "                                                                        s_min.mean()))\n",
    "        \n",
    "        print('Sample info maxima: min: {} | max: {} | mean: {}'.format(s_max.min(),\n",
    "                                                                        s_max.max(), \n",
    "                                                                        s_max.mean()))\n",
    "\n",
    "        print('Sample info mean: min: {} | max: {} | mean: {}'.format(s_mean.min(),\n",
    "                                                                      s_mean.max(), \n",
    "                                                                      s_mean.mean()))\n",
    "    else:\n",
    "        # Analyze categorical info\n",
    "        pass\n",
    "    \n",
    "    if includes_target:\n",
    "        return file_ids, file_sample, y\n",
    "    else:\n",
    "        return file_ids, file_sample\n",
    "    "
   ]
  },
  {
   "cell_type": "markdown",
   "metadata": {},
   "source": [
    "## Inspect train data"
   ]
  },
  {
   "cell_type": "markdown",
   "metadata": {},
   "source": [
    "### Categorical data"
   ]
  },
  {
   "cell_type": "code",
   "execution_count": 7,
   "metadata": {
    "collapsed": false
   },
   "outputs": [
    {
     "name": "stdout",
     "output_type": "stream",
     "text": [
      "Id info: rows: 1183747 | nunique: 1183747 | min: 4 | max: 2367495 | mean diff: 1.99999915522\n",
      "Sample columns: 2140\n",
      "Sample sparsity: 0.973536929907\n",
      "   L0_S1_F25 L0_S1_F27 L0_S1_F29 L0_S1_F31 L0_S2_F33 L0_S2_F35 L0_S2_F37  \\\n",
      "Id                                                                         \n",
      "4        NaN       NaN       NaN       NaN       NaN       NaN       NaN   \n",
      "6        NaN       NaN       NaN       NaN       NaN       NaN       NaN   \n",
      "7        NaN       NaN       NaN       NaN       NaN       NaN       NaN   \n",
      "9        NaN       NaN       NaN       NaN       NaN       NaN       NaN   \n",
      "11       NaN       NaN       NaN       NaN       NaN       NaN       NaN   \n",
      "\n",
      "   L0_S2_F39 L0_S2_F41 L0_S2_F43     ...      L3_S49_F4225 L3_S49_F4227  \\\n",
      "Id                                   ...                                  \n",
      "4        NaN       NaN       NaN     ...               NaN          NaN   \n",
      "6        NaN       NaN       NaN     ...               NaN          NaN   \n",
      "7        NaN       NaN       NaN     ...               NaN          NaN   \n",
      "9        NaN       NaN       NaN     ...               NaN          NaN   \n",
      "11       NaN       NaN       NaN     ...               NaN          NaN   \n",
      "\n",
      "   L3_S49_F4229 L3_S49_F4230 L3_S49_F4232 L3_S49_F4234 L3_S49_F4235  \\\n",
      "Id                                                                    \n",
      "4           NaN          NaN          NaN          NaN          NaN   \n",
      "6           NaN          NaN          NaN          NaN          NaN   \n",
      "7           NaN          NaN          NaN          NaN          NaN   \n",
      "9           NaN          NaN          NaN          NaN          NaN   \n",
      "11          NaN          NaN          NaN          NaN          NaN   \n",
      "\n",
      "   L3_S49_F4237 L3_S49_F4239 L3_S49_F4240  \n",
      "Id                                         \n",
      "4           NaN          NaN          NaN  \n",
      "6           NaN          NaN          NaN  \n",
      "7           NaN          NaN          NaN  \n",
      "9           NaN          NaN          NaN  \n",
      "11          NaN          NaN          NaN  \n",
      "\n",
      "[5 rows x 2140 columns]\n"
     ]
    }
   ],
   "source": [
    "tr_cat = analyze_files('train_categorical.csv')"
   ]
  },
  {
   "cell_type": "markdown",
   "metadata": {},
   "source": [
    "### Numeric data"
   ]
  },
  {
   "cell_type": "code",
   "execution_count": 176,
   "metadata": {
    "collapsed": false
   },
   "outputs": [
    {
     "name": "stdout",
     "output_type": "stream",
     "text": [
      "Id info: rows: 1183747 | nunique: 1183747 | min: 4 | max: 2367495 | mean diff: 1.99999915522\n",
      "Target mean: 0.00581120796927\n",
      "Sample columns: 968\n",
      "Sample sparsity: 0.811379628099\n",
      "    L0_S0_F0  L0_S0_F2  L0_S0_F4  L0_S0_F6  L0_S0_F8  L0_S0_F10  L0_S0_F12  \\\n",
      "Id                                                                           \n",
      "4      0.030    -0.034    -0.197    -0.179     0.118      0.116     -0.015   \n",
      "6        NaN       NaN       NaN       NaN       NaN        NaN        NaN   \n",
      "7      0.088     0.086     0.003    -0.052     0.161      0.025     -0.015   \n",
      "9     -0.036    -0.064     0.294     0.330     0.074      0.161      0.022   \n",
      "11    -0.055    -0.086     0.294     0.330     0.118      0.025      0.030   \n",
      "\n",
      "    L0_S0_F14  L0_S0_F16  L0_S0_F18      ...       L3_S50_F4243  L3_S50_F4245  \\\n",
      "Id                                       ...                                    \n",
      "4      -0.032      0.020      0.083      ...                NaN           NaN   \n",
      "6         NaN        NaN        NaN      ...                NaN           NaN   \n",
      "7      -0.072     -0.225     -0.147      ...                NaN           NaN   \n",
      "9       0.128     -0.026     -0.046      ...                NaN           NaN   \n",
      "11      0.168     -0.169     -0.099      ...                NaN           NaN   \n",
      "\n",
      "    L3_S50_F4247  L3_S50_F4249  L3_S50_F4251  L3_S50_F4253  L3_S51_F4256  \\\n",
      "Id                                                                         \n",
      "4            NaN           NaN           NaN           NaN           NaN   \n",
      "6            NaN           NaN           NaN           NaN           NaN   \n",
      "7            NaN           NaN           NaN           NaN           NaN   \n",
      "9            NaN           NaN           NaN           NaN           NaN   \n",
      "11           NaN           NaN           NaN           NaN           NaN   \n",
      "\n",
      "    L3_S51_F4258  L3_S51_F4260  L3_S51_F4262  \n",
      "Id                                            \n",
      "4            NaN           NaN           NaN  \n",
      "6            NaN           NaN           NaN  \n",
      "7            NaN           NaN           NaN  \n",
      "9            NaN           NaN           NaN  \n",
      "11           NaN           NaN           NaN  \n",
      "\n",
      "[5 rows x 968 columns]\n",
      "Sample info minima: min: -1.0 | max: 0.001 | mean: -0.304087809917\n",
      "Sample info maxima: min: 0.0 | max: 1.0 | mean: 0.350164256198\n",
      "Sample info mean: min: -0.0517011070111 | max: 0.0549513513514 | mean: -0.000655423802137\n"
     ]
    }
   ],
   "source": [
    "tr_num = analyze_files('train_numeric.csv', includes_target=True)"
   ]
  },
  {
   "cell_type": "markdown",
   "metadata": {},
   "source": [
    "### Date data"
   ]
  },
  {
   "cell_type": "code",
   "execution_count": 177,
   "metadata": {
    "collapsed": false
   },
   "outputs": [
    {
     "name": "stdout",
     "output_type": "stream",
     "text": [
      "Id info: rows: 1183747 | nunique: 1183747 | min: 4 | max: 2367495 | mean diff: 1.99999915522\n",
      "Sample columns: 1156\n",
      "Sample sparsity: 0.823041652249\n",
      "    L0_S0_D1  L0_S0_D3  L0_S0_D5  L0_S0_D7  L0_S0_D9  L0_S0_D11  L0_S0_D13  \\\n",
      "Id                                                                           \n",
      "4      82.24     82.24     82.24     82.24     82.24      82.24      82.24   \n",
      "6        NaN       NaN       NaN       NaN       NaN        NaN        NaN   \n",
      "7    1618.70   1618.70   1618.70   1618.70   1618.70    1618.70    1618.70   \n",
      "9    1149.20   1149.20   1149.20   1149.20   1149.20    1149.20    1149.20   \n",
      "11    602.64    602.64    602.64    602.64    602.64     602.64     602.64   \n",
      "\n",
      "    L0_S0_D15  L0_S0_D17  L0_S0_D19      ...       L3_S50_D4246  L3_S50_D4248  \\\n",
      "Id                                       ...                                    \n",
      "4       82.24      82.24      82.24      ...                NaN           NaN   \n",
      "6         NaN        NaN        NaN      ...                NaN           NaN   \n",
      "7     1618.70    1618.70    1618.70      ...                NaN           NaN   \n",
      "9     1149.20    1149.20    1149.20      ...                NaN           NaN   \n",
      "11     602.64     602.64     602.64      ...                NaN           NaN   \n",
      "\n",
      "    L3_S50_D4250  L3_S50_D4252  L3_S50_D4254  L3_S51_D4255  L3_S51_D4257  \\\n",
      "Id                                                                         \n",
      "4            NaN           NaN           NaN           NaN           NaN   \n",
      "6            NaN           NaN           NaN           NaN           NaN   \n",
      "7            NaN           NaN           NaN           NaN           NaN   \n",
      "9            NaN           NaN           NaN           NaN           NaN   \n",
      "11           NaN           NaN           NaN           NaN           NaN   \n",
      "\n",
      "    L3_S51_D4259  L3_S51_D4261  L3_S51_D4263  \n",
      "Id                                            \n",
      "4            NaN           NaN           NaN  \n",
      "6            NaN           NaN           NaN  \n",
      "7            NaN           NaN           NaN  \n",
      "9            NaN           NaN           NaN  \n",
      "11           NaN           NaN           NaN  \n",
      "\n",
      "[5 rows x 1156 columns]\n",
      "Sample info minima: min: 0.01 | max: 1217.0 | mean: 182.573991304\n",
      "Sample info maxima: min: 179.35 | max: 1718.48 | mean: 1513.58545217\n",
      "Sample info mean: min: 113.293265616 | max: 1217.0 | mean: 879.635407695\n"
     ]
    }
   ],
   "source": [
    "tr_date = analyze_files('train_date.csv')"
   ]
  },
  {
   "cell_type": "code",
   "execution_count": 183,
   "metadata": {
    "collapsed": false
   },
   "outputs": [
    {
     "name": "stdout",
     "output_type": "stream",
     "text": [
      "set([])\n",
      "set([])\n",
      "set([])\n",
      "set([])\n"
     ]
    }
   ],
   "source": [
    "print set(tr_cat[0]) ^ set(tr_num[0])\n",
    "print set(tr_cat[0]) ^ set(tr_date[0])\n",
    "print set(tr_date[0]) ^ set(tr_cat[0])\n",
    "print set(tr_num[0]) ^ set(tr_cat[0])"
   ]
  },
  {
   "cell_type": "markdown",
   "metadata": {},
   "source": [
    "## Inspect test data"
   ]
  },
  {
   "cell_type": "code",
   "execution_count": 172,
   "metadata": {
    "collapsed": false
   },
   "outputs": [
    {
     "name": "stdout",
     "output_type": "stream",
     "text": [
      "Id info: rows: 1183748 | nunique: 1183748 | min: 1 | max: 2367494 | mean diff: 1.99999915522\n",
      "Sample columns: 2140\n",
      "Sample sparsity: 0.973467682243\n",
      "   L0_S1_F25 L0_S1_F27 L0_S1_F29 L0_S1_F31 L0_S2_F33 L0_S2_F35 L0_S2_F37  \\\n",
      "Id                                                                         \n",
      "1        NaN       NaN       NaN       NaN       NaN       NaN       NaN   \n",
      "2        NaN       NaN       NaN       NaN       NaN       NaN       NaN   \n",
      "3        NaN       NaN       NaN       NaN       NaN       NaN       NaN   \n",
      "5        NaN       NaN       NaN       NaN       NaN       NaN       NaN   \n",
      "8        NaN       NaN       NaN       NaN       NaN       NaN       NaN   \n",
      "\n",
      "   L0_S2_F39 L0_S2_F41 L0_S2_F43     ...      L3_S49_F4225 L3_S49_F4227  \\\n",
      "Id                                   ...                                  \n",
      "1        NaN       NaN       NaN     ...               NaN          NaN   \n",
      "2        NaN       NaN       NaN     ...               NaN          NaN   \n",
      "3        NaN       NaN       NaN     ...               NaN          NaN   \n",
      "5        NaN       NaN       NaN     ...               NaN          NaN   \n",
      "8        NaN       NaN       NaN     ...               NaN          NaN   \n",
      "\n",
      "   L3_S49_F4229 L3_S49_F4230 L3_S49_F4232 L3_S49_F4234 L3_S49_F4235  \\\n",
      "Id                                                                    \n",
      "1           NaN          NaN          NaN          NaN          NaN   \n",
      "2           NaN          NaN          NaN          NaN          NaN   \n",
      "3           NaN          NaN          NaN          NaN          NaN   \n",
      "5           NaN          NaN          NaN          NaN          NaN   \n",
      "8           NaN          NaN          NaN          NaN          NaN   \n",
      "\n",
      "   L3_S49_F4237 L3_S49_F4239 L3_S49_F4240  \n",
      "Id                                         \n",
      "1           NaN          NaN          NaN  \n",
      "2           NaN          NaN          NaN  \n",
      "3           NaN          NaN          NaN  \n",
      "5           NaN          NaN          NaN  \n",
      "8           NaN          NaN          NaN  \n",
      "\n",
      "[5 rows x 2140 columns]\n"
     ]
    }
   ],
   "source": [
    "cat = analyze_files('test_categorical.csv')"
   ]
  },
  {
   "cell_type": "code",
   "execution_count": 170,
   "metadata": {
    "collapsed": false
   },
   "outputs": [
    {
     "name": "stdout",
     "output_type": "stream",
     "text": [
      "Id info: rows: 1183748 | nunique: 1183748 | min: 1 | max: 2367494 | mean diff: 1.99999915522\n",
      "Sample columns: 968\n",
      "Sample sparsity: 0.811429504132\n",
      "    L0_S0_F0  L0_S0_F2  L0_S0_F4  L0_S0_F6  L0_S0_F8  L0_S0_F10  L0_S0_F12  \\\n",
      "Id                                                                           \n",
      "1        NaN       NaN       NaN       NaN       NaN        NaN        NaN   \n",
      "2        NaN       NaN       NaN       NaN       NaN        NaN        NaN   \n",
      "3        NaN       NaN       NaN       NaN       NaN        NaN        NaN   \n",
      "5     -0.016    -0.026    -0.033    -0.016     0.205     -0.157        0.0   \n",
      "8        NaN       NaN       NaN       NaN       NaN        NaN        NaN   \n",
      "\n",
      "    L0_S0_F14  L0_S0_F16  L0_S0_F18      ...       L3_S50_F4243  L3_S50_F4245  \\\n",
      "Id                                       ...                                    \n",
      "1         NaN        NaN        NaN      ...                NaN           NaN   \n",
      "2         NaN        NaN        NaN      ...                NaN           NaN   \n",
      "3         NaN        NaN        NaN      ...                NaN           NaN   \n",
      "5       0.008      0.087      0.077      ...                NaN           NaN   \n",
      "8         NaN        NaN        NaN      ...                NaN           NaN   \n",
      "\n",
      "    L3_S50_F4247  L3_S50_F4249  L3_S50_F4251  L3_S50_F4253  L3_S51_F4256  \\\n",
      "Id                                                                         \n",
      "1            NaN           NaN           NaN           NaN           NaN   \n",
      "2            NaN           NaN           NaN           NaN           NaN   \n",
      "3            NaN           NaN           NaN           NaN           NaN   \n",
      "5            NaN           NaN           NaN           NaN           NaN   \n",
      "8            NaN           NaN           NaN           NaN           NaN   \n",
      "\n",
      "    L3_S51_F4258  L3_S51_F4260  L3_S51_F4262  \n",
      "Id                                            \n",
      "1            NaN           NaN           NaN  \n",
      "2            NaN           NaN           NaN  \n",
      "3            NaN           NaN           NaN  \n",
      "5            NaN           NaN           NaN  \n",
      "8            NaN           NaN           NaN  \n",
      "\n",
      "[5 rows x 968 columns]\n",
      "Sample info minima: min: -1.0 | max: 0.0 | mean: -0.338421487603\n",
      "Sample info maxima: min: 0.0 | max: 1.0 | mean: 0.35294731405\n",
      "Sample info mean: min: -0.0899361702128 | max: 0.0618157894737 | mean: -0.000654695630268\n"
     ]
    }
   ],
   "source": [
    "num = analyze_files('test_numeric.csv')"
   ]
  },
  {
   "cell_type": "code",
   "execution_count": 173,
   "metadata": {
    "collapsed": false
   },
   "outputs": [
    {
     "name": "stdout",
     "output_type": "stream",
     "text": [
      "Id info: rows: 1183748 | nunique: 1183748 | min: 1 | max: 2367494 | mean diff: 1.99999915522\n",
      "Sample columns: 1156\n",
      "Sample sparsity: 0.823052128028\n",
      "    L0_S0_D1  L0_S0_D3  L0_S0_D5  L0_S0_D7  L0_S0_D9  L0_S0_D11  L0_S0_D13  \\\n",
      "Id                                                                           \n",
      "1        NaN       NaN       NaN       NaN       NaN        NaN        NaN   \n",
      "2        NaN       NaN       NaN       NaN       NaN        NaN        NaN   \n",
      "3        NaN       NaN       NaN       NaN       NaN        NaN        NaN   \n",
      "5     255.45    255.45    255.45    255.45    255.45     255.45     255.45   \n",
      "8        NaN       NaN       NaN       NaN       NaN        NaN        NaN   \n",
      "\n",
      "    L0_S0_D15  L0_S0_D17  L0_S0_D19      ...       L3_S50_D4246  L3_S50_D4248  \\\n",
      "Id                                       ...                                    \n",
      "1         NaN        NaN        NaN      ...                NaN           NaN   \n",
      "2         NaN        NaN        NaN      ...                NaN           NaN   \n",
      "3         NaN        NaN        NaN      ...                NaN           NaN   \n",
      "5      255.45     255.45     255.45      ...                NaN           NaN   \n",
      "8         NaN        NaN        NaN      ...                NaN           NaN   \n",
      "\n",
      "    L3_S50_D4250  L3_S50_D4252  L3_S50_D4254  L3_S51_D4255  L3_S51_D4257  \\\n",
      "Id                                                                         \n",
      "1            NaN           NaN           NaN           NaN           NaN   \n",
      "2            NaN           NaN           NaN           NaN           NaN   \n",
      "3            NaN           NaN           NaN           NaN           NaN   \n",
      "5            NaN           NaN           NaN           NaN           NaN   \n",
      "8            NaN           NaN           NaN           NaN           NaN   \n",
      "\n",
      "    L3_S51_D4259  L3_S51_D4261  L3_S51_D4263  \n",
      "Id                                            \n",
      "1            NaN           NaN           NaN  \n",
      "2            NaN           NaN           NaN  \n",
      "3            NaN           NaN           NaN  \n",
      "5            NaN           NaN           NaN  \n",
      "8            NaN           NaN           NaN  \n",
      "\n",
      "[5 rows x 1156 columns]\n",
      "Sample info minima: min: 0.28 | max: 1042.45 | mean: 180.05882149\n",
      "Sample info maxima: min: 179.35 | max: 1718.47 | mean: 1500.9420104\n",
      "Sample info mean: min: 112.937781146 | max: 1091.0903183 | mean: 883.336378888\n"
     ]
    }
   ],
   "source": [
    "date = analyze_files('test_date.csv')"
   ]
  },
  {
   "cell_type": "code",
   "execution_count": 182,
   "metadata": {
    "collapsed": false
   },
   "outputs": [
    {
     "name": "stdout",
     "output_type": "stream",
     "text": [
      "set([])\n",
      "set([])\n",
      "set([])\n",
      "set([])\n"
     ]
    }
   ],
   "source": [
    "print set(cat[0]) ^ set(num[0])\n",
    "print set(cat[0]) ^ set(date[0])\n",
    "print set(date[0]) ^ set(cat[0])\n",
    "print set(num[0]) ^ set(cat[0])"
   ]
  },
  {
   "cell_type": "markdown",
   "metadata": {},
   "source": [
    "### Check relation between test and train"
   ]
  },
  {
   "cell_type": "code",
   "execution_count": 181,
   "metadata": {
    "collapsed": false
   },
   "outputs": [
    {
     "name": "stdout",
     "output_type": "stream",
     "text": [
      "set([])\n",
      "set([])\n",
      "set([])\n"
     ]
    }
   ],
   "source": [
    "print set(cat[0]) ^ set(tr_cat[0])\n",
    "print set(date[0]) ^ set(tr_date[0])\n",
    "print set(num[0]) ^ set(tr_num[0])"
   ]
  },
  {
   "cell_type": "code",
   "execution_count": 186,
   "metadata": {
    "collapsed": false
   },
   "outputs": [
    {
     "data": {
      "text/plain": [
       "<matplotlib.axes._subplots.AxesSubplot at 0x17671db90>"
      ]
     },
     "execution_count": 186,
     "metadata": {},
     "output_type": "execute_result"
    },
    {
     "data": {
      "image/png": "[encoded data removed]",
      "text/plain": [
       "<matplotlib.figure.Figure at 0x17671d510>"
      ]
     },
     "metadata": {},
     "output_type": "display_data"
    }
   ],
   "source": [
    "(cat[0].Id - tr_cat[0].Id).hist()"
   ]
  },
  {
   "cell_type": "code",
   "execution_count": null,
   "metadata": {
    "collapsed": true
   },
   "outputs": [],
   "source": []
  }
 ],
 "metadata": {
  "kernelspec": {
   "display_name": "Python 2",
   "language": "python",
   "name": "python2"
  },
  "language_info": {
   "codemirror_mode": {
    "name": "ipython",
    "version": 2
   },
   "file_extension": ".py",
   "mimetype": "text/x-python",
   "name": "python",
   "nbconvert_exporter": "python",
   "pygments_lexer": "ipython2",
   "version": "2.7.11"
  }
 },
 "nbformat": 4,
 "nbformat_minor": 0
}
