{
 "cells": [
  {
   "cell_type": "code",
   "execution_count": 400,
   "metadata": {
    "collapsed": true
   },
   "outputs": [],
   "source": [
    "import os\n",
    "import re\n",
    "import pickle\n",
    "import time\n",
    "import datetime\n",
    "\n",
    "import numpy as np\n",
    "import pandas as pd\n",
    "\n",
    "import seaborn as sns\n",
    "import matplotlib.pyplot as plt\n",
    "\n",
    "from scipy.sparse import csr_matrix\n",
    "\n",
    "%matplotlib inline\n",
    "\n",
    "# Custom modules\n",
    "import const\n",
    "import func"
   ]
  },
  {
   "cell_type": "markdown",
   "metadata": {},
   "source": [
    "## Load data"
   ]
  },
  {
   "cell_type": "code",
   "execution_count": 2,
   "metadata": {
    "collapsed": false
   },
   "outputs": [
    {
     "data": {
      "text/plain": [
       "['train_numeric', 'train_categorical_to_num', 'train_date']"
      ]
     },
     "execution_count": 2,
     "metadata": {},
     "output_type": "execute_result"
    }
   ],
   "source": [
    "const.TRAIN_FILES"
   ]
  },
  {
   "cell_type": "code",
   "execution_count": 50,
   "metadata": {
    "collapsed": true
   },
   "outputs": [],
   "source": [
    "[num_info, cat_info, date_info] = [func.get_station_info(f) for f in const.TRAIN_FILES]\n",
    "\n",
    "# Date features refer to numeric/categorical features\n",
    "date_info['ref_feat_nr'] = date_info['feature_nr'] - 1"
   ]
  },
  {
   "cell_type": "code",
   "execution_count": 366,
   "metadata": {
    "collapsed": false
   },
   "outputs": [
    {
     "name": "stdout",
     "output_type": "stream",
     "text": [
      "Returning <open file '/Volumes/My Book/kaggle_bosch/train_numeric.pkl', mode 'rb' at 0x116717b70>\n",
      "Returning <open file '/Volumes/My Book/kaggle_bosch/train_date.pkl', mode 'rb' at 0x116717b70>\n",
      "Returning <open file '/Volumes/My Book/kaggle_bosch/train_categorical_to_num.pkl', mode 'rb' at 0x116717b70>\n"
     ]
    }
   ],
   "source": [
    "num_data = func.load_data_file(const.TRAIN_FILES[0])\n",
    "date_data = func.load_data_file(const.TRAIN_FILES[2])\n",
    "cat_data = func.load_data_file(const.TRAIN_FILES[1])"
   ]
  },
  {
   "cell_type": "code",
   "execution_count": 352,
   "metadata": {
    "collapsed": true
   },
   "outputs": [],
   "source": [
    "#del num_data, date_data, cat_data"
   ]
  },
  {
   "cell_type": "code",
   "execution_count": 351,
   "metadata": {
    "collapsed": false
   },
   "outputs": [],
   "source": [
    "ids = num_data['data']['ids']\n",
    "y = num_data['data']['y']"
   ]
  },
  {
   "cell_type": "code",
   "execution_count": 57,
   "metadata": {
    "collapsed": false
   },
   "outputs": [
    {
     "data": {
      "text/html": [
       "<div>\n",
       "<table border=\"1\" class=\"dataframe\">\n",
       "  <thead>\n",
       "    <tr style=\"text-align: right;\">\n",
       "      <th></th>\n",
       "      <th>line</th>\n",
       "      <th>station</th>\n",
       "      <th>feature_nr</th>\n",
       "      <th>name</th>\n",
       "      <th>ref_feat_nr</th>\n",
       "    </tr>\n",
       "  </thead>\n",
       "  <tbody>\n",
       "    <tr>\n",
       "      <th>0</th>\n",
       "      <td>0</td>\n",
       "      <td>0</td>\n",
       "      <td>1</td>\n",
       "      <td>L0_S0_D1</td>\n",
       "      <td>0</td>\n",
       "    </tr>\n",
       "    <tr>\n",
       "      <th>1</th>\n",
       "      <td>0</td>\n",
       "      <td>0</td>\n",
       "      <td>3</td>\n",
       "      <td>L0_S0_D3</td>\n",
       "      <td>2</td>\n",
       "    </tr>\n",
       "    <tr>\n",
       "      <th>2</th>\n",
       "      <td>0</td>\n",
       "      <td>0</td>\n",
       "      <td>5</td>\n",
       "      <td>L0_S0_D5</td>\n",
       "      <td>4</td>\n",
       "    </tr>\n",
       "    <tr>\n",
       "      <th>3</th>\n",
       "      <td>0</td>\n",
       "      <td>0</td>\n",
       "      <td>7</td>\n",
       "      <td>L0_S0_D7</td>\n",
       "      <td>6</td>\n",
       "    </tr>\n",
       "    <tr>\n",
       "      <th>4</th>\n",
       "      <td>0</td>\n",
       "      <td>0</td>\n",
       "      <td>9</td>\n",
       "      <td>L0_S0_D9</td>\n",
       "      <td>8</td>\n",
       "    </tr>\n",
       "  </tbody>\n",
       "</table>\n",
       "</div>"
      ],
      "text/plain": [
       "   line  station  feature_nr      name  ref_feat_nr\n",
       "0     0        0           1  L0_S0_D1            0\n",
       "1     0        0           3  L0_S0_D3            2\n",
       "2     0        0           5  L0_S0_D5            4\n",
       "3     0        0           7  L0_S0_D7            6\n",
       "4     0        0           9  L0_S0_D9            8"
      ]
     },
     "execution_count": 57,
     "metadata": {},
     "output_type": "execute_result"
    }
   ],
   "source": [
    "date_info.head()"
   ]
  },
  {
   "cell_type": "code",
   "execution_count": 299,
   "metadata": {
    "collapsed": false
   },
   "outputs": [
    {
     "data": {
      "text/html": [
       "<div>\n",
       "<table border=\"1\" class=\"dataframe\">\n",
       "  <thead>\n",
       "    <tr style=\"text-align: right;\">\n",
       "      <th></th>\n",
       "      <th>col_nr</th>\n",
       "      <th>feature_type</th>\n",
       "    </tr>\n",
       "    <tr>\n",
       "      <th>date_col_n</th>\n",
       "      <th></th>\n",
       "      <th></th>\n",
       "    </tr>\n",
       "  </thead>\n",
       "  <tbody>\n",
       "    <tr>\n",
       "      <th>0</th>\n",
       "      <td>0</td>\n",
       "      <td>numeric</td>\n",
       "    </tr>\n",
       "    <tr>\n",
       "      <th>1</th>\n",
       "      <td>1</td>\n",
       "      <td>numeric</td>\n",
       "    </tr>\n",
       "    <tr>\n",
       "      <th>2</th>\n",
       "      <td>2</td>\n",
       "      <td>numeric</td>\n",
       "    </tr>\n",
       "    <tr>\n",
       "      <th>3</th>\n",
       "      <td>3</td>\n",
       "      <td>numeric</td>\n",
       "    </tr>\n",
       "    <tr>\n",
       "      <th>4</th>\n",
       "      <td>4</td>\n",
       "      <td>numeric</td>\n",
       "    </tr>\n",
       "  </tbody>\n",
       "</table>\n",
       "</div>"
      ],
      "text/plain": [
       "            col_nr feature_type\n",
       "date_col_n                     \n",
       "0                0      numeric\n",
       "1                1      numeric\n",
       "2                2      numeric\n",
       "3                3      numeric\n",
       "4                4      numeric"
      ]
     },
     "execution_count": 299,
     "metadata": {},
     "output_type": "execute_result"
    }
   ],
   "source": [
    "# Load \n",
    "date_lut = pd.read_csv('./data/date_col_lookup_table.csv', index_col='date_col_n')\n",
    "date_lut.head()"
   ]
  },
  {
   "cell_type": "code",
   "execution_count": 318,
   "metadata": {
    "collapsed": false
   },
   "outputs": [
    {
     "data": {
      "text/plain": [
       "categorical    759\n",
       "numeric        366\n",
       "unknown         31\n",
       "Name: feature_type, dtype: int64"
      ]
     },
     "execution_count": 318,
     "metadata": {},
     "output_type": "execute_result"
    }
   ],
   "source": [
    "date_lut.feature_type.value_counts()"
   ]
  },
  {
   "cell_type": "markdown",
   "metadata": {},
   "source": [
    "## Get a better idea of how much data per sample"
   ]
  },
  {
   "cell_type": "code",
   "execution_count": 5,
   "metadata": {
    "collapsed": false
   },
   "outputs": [],
   "source": [
    "row_nonzeros_num = np.diff(num_data['data']['features'].indptr)\n",
    "row_nonzeros_cat = np.diff(cat_data['data']['features'].indptr)"
   ]
  },
  {
   "cell_type": "code",
   "execution_count": 6,
   "metadata": {
    "collapsed": false
   },
   "outputs": [
    {
     "data": {
      "text/plain": [
       "<matplotlib.text.Text at 0x115f38c10>"
      ]
     },
     "execution_count": 6,
     "metadata": {},
     "output_type": "execute_result"
    },
    {
     "data": {
      "image/png": "[encoded data removed]",
      "text/plain": [
       "<matplotlib.figure.Figure at 0x115dfd5d0>"
      ]
     },
     "metadata": {},
     "output_type": "display_data"
    }
   ],
   "source": [
    "fig, (ax1, ax2) = plt.subplots(1,2,figsize=(13,5))\n",
    "ax1.hist(row_nonzeros_num, bins=100)\n",
    "ax2.hist(row_nonzeros_cat, bins=100)\n",
    "ax1.set_title('Numeric event count distribution')\n",
    "ax2.set_title('Categorical event count distribution')"
   ]
  },
  {
   "cell_type": "markdown",
   "metadata": {},
   "source": [
    "## Visualize one product"
   ]
  },
  {
   "cell_type": "markdown",
   "metadata": {},
   "source": [
    "This analysis can be really messy, because each sample:\n",
    "- Between 0 and 300 categorical features\n",
    "- Between 0 and 300 numeric features\n",
    "- Less or more timestamp features\n",
    "To simplify and start easy collect per sample:\n",
    "- Number of categorical features\n",
    "- Number of numeric features\n",
    "- Number of timestamp features\n",
    "- Number of categorical features with a timestamp\n",
    "- Number of numeric features with a timestamp"
   ]
  },
  {
   "cell_type": "code",
   "execution_count": 163,
   "metadata": {
    "collapsed": true
   },
   "outputs": [],
   "source": [
    "pid=107"
   ]
  },
  {
   "cell_type": "code",
   "execution_count": 164,
   "metadata": {
    "collapsed": false
   },
   "outputs": [],
   "source": [
    "prod_ids = num_data['data']['ids']\n",
    "sample_nr = prod_ids[prod_ids.Id==pid].index.values[0]"
   ]
  },
  {
   "cell_type": "code",
   "execution_count": 371,
   "metadata": {
    "collapsed": false
   },
   "outputs": [],
   "source": [
    "def collect_sample_info(x):\n",
    "    sample_nr = x.name\n",
    "    \n",
    "    # Collect data from three datasets\n",
    "    num_mea = num_data['data']['features'][sample_nr,:]\n",
    "    dat_mea = date_data['data']['features'][sample_nr,:]\n",
    "    cat_mea = cat_data['data']['features'][sample_nr,:]\n",
    "    \n",
    "    # Get indices of non-zero elements\n",
    "    # This goes wrong with sparse dataset if values are zero!!!\n",
    "    # TO-DO: REDO ON DENSE DATASETS\n",
    "    n_col_num = num_mea.nonzero()[1] # column indices of non zero elements\n",
    "    n_col_cat = cat_mea.nonzero()[1] # column indices of non zero elements\n",
    "    n_col_dat = dat_mea.nonzero()[1] # column indices of non zero elements\n",
    "    \n",
    "    # Get date column indices from numeric/categoric indices\n",
    "    #n_col_num_t = pd.Series([date_col_lot_num[n] for n in n_col_num])\n",
    "    #n_col_cat_t = pd.Series([date_col_lot_cat[n] for n in n_col_cat])\n",
    "    feat_types_count = date_lut[date_lut.index.isin(n_col_dat)].feature_type.value_counts()\n",
    "    \n",
    "    cat_count = feat_types_count['categorical'] if 'categorical' in feat_types_count.index else 0\n",
    "    num_count = feat_types_count['numeric'] if 'numeric' in feat_types_count.index else 0\n",
    "    unk_count = feat_types_count['unknown'] if 'unknown' in feat_types_count.index else 0\n",
    "    \n",
    "    # Get some info on timing\n",
    "    tmin = -1\n",
    "    tmax = -1\n",
    "    if len(n_col_dat)>0:\n",
    "        t = [dat_mea[0,n] for n in n_col_dat]\n",
    "        tmin = min(t)\n",
    "        tmax = max(t)\n",
    "    \n",
    "    #\n",
    "    output = {'id': sample_nr,\n",
    "              'n_numeric': n_col_num.shape[0],\n",
    "              'n_categorical': n_col_cat.shape[0],\n",
    "              'n_timestamp': n_col_dat.shape[0],\n",
    "              'n_numeric_t': num_count,\n",
    "              'n_categorical_t': cat_count,\n",
    "              'n_unknown': unk_count,\n",
    "              't_min': tmin,\n",
    "              't_max': tmax}\n",
    "    \n",
    "    return pd.Series(output)"
   ]
  },
  {
   "cell_type": "code",
   "execution_count": 372,
   "metadata": {
    "collapsed": false
   },
   "outputs": [],
   "source": [
    "prod_info = prod_ids.apply(lambda x: collect_sample_info(x), axis=1)"
   ]
  },
  {
   "cell_type": "code",
   "execution_count": 373,
   "metadata": {
    "collapsed": false
   },
   "outputs": [],
   "source": [
    "prod_info['Response'] = y.values\n",
    "prod_info['t_delta'] = prod_info['t_max'] - prod_info['t_min']"
   ]
  },
  {
   "cell_type": "code",
   "execution_count": 374,
   "metadata": {
    "collapsed": false
   },
   "outputs": [
    {
     "data": {
      "text/html": [
       "<div>\n",
       "<table border=\"1\" class=\"dataframe\">\n",
       "  <thead>\n",
       "    <tr style=\"text-align: right;\">\n",
       "      <th></th>\n",
       "      <th>id</th>\n",
       "      <th>n_categorical</th>\n",
       "      <th>n_categorical_t</th>\n",
       "      <th>n_numeric</th>\n",
       "      <th>n_numeric_t</th>\n",
       "      <th>n_timestamp</th>\n",
       "      <th>n_unknown</th>\n",
       "      <th>t_max</th>\n",
       "      <th>t_min</th>\n",
       "      <th>Response</th>\n",
       "      <th>t_delta</th>\n",
       "    </tr>\n",
       "  </thead>\n",
       "  <tbody>\n",
       "    <tr>\n",
       "      <th>0</th>\n",
       "      <td>0.0</td>\n",
       "      <td>0.0</td>\n",
       "      <td>83.0</td>\n",
       "      <td>133.0</td>\n",
       "      <td>91.0</td>\n",
       "      <td>179.0</td>\n",
       "      <td>5.0</td>\n",
       "      <td>87.290001</td>\n",
       "      <td>82.239998</td>\n",
       "      <td>0</td>\n",
       "      <td>5.050003</td>\n",
       "    </tr>\n",
       "    <tr>\n",
       "      <th>1</th>\n",
       "      <td>1.0</td>\n",
       "      <td>0.0</td>\n",
       "      <td>116.0</td>\n",
       "      <td>154.0</td>\n",
       "      <td>90.0</td>\n",
       "      <td>209.0</td>\n",
       "      <td>3.0</td>\n",
       "      <td>1315.750000</td>\n",
       "      <td>1313.119995</td>\n",
       "      <td>0</td>\n",
       "      <td>2.630005</td>\n",
       "    </tr>\n",
       "    <tr>\n",
       "      <th>2</th>\n",
       "      <td>2.0</td>\n",
       "      <td>63.0</td>\n",
       "      <td>114.0</td>\n",
       "      <td>150.0</td>\n",
       "      <td>90.0</td>\n",
       "      <td>207.0</td>\n",
       "      <td>3.0</td>\n",
       "      <td>1624.420044</td>\n",
       "      <td>1618.699951</td>\n",
       "      <td>0</td>\n",
       "      <td>5.720093</td>\n",
       "    </tr>\n",
       "    <tr>\n",
       "      <th>3</th>\n",
       "      <td>3.0</td>\n",
       "      <td>63.0</td>\n",
       "      <td>109.0</td>\n",
       "      <td>152.0</td>\n",
       "      <td>93.0</td>\n",
       "      <td>207.0</td>\n",
       "      <td>5.0</td>\n",
       "      <td>1154.160034</td>\n",
       "      <td>1149.199951</td>\n",
       "      <td>0</td>\n",
       "      <td>4.960083</td>\n",
       "    </tr>\n",
       "    <tr>\n",
       "      <th>4</th>\n",
       "      <td>4.0</td>\n",
       "      <td>63.0</td>\n",
       "      <td>109.0</td>\n",
       "      <td>151.0</td>\n",
       "      <td>93.0</td>\n",
       "      <td>207.0</td>\n",
       "      <td>5.0</td>\n",
       "      <td>606.020020</td>\n",
       "      <td>602.640015</td>\n",
       "      <td>0</td>\n",
       "      <td>3.380005</td>\n",
       "    </tr>\n",
       "    <tr>\n",
       "      <th>5</th>\n",
       "      <td>5.0</td>\n",
       "      <td>63.0</td>\n",
       "      <td>109.0</td>\n",
       "      <td>151.0</td>\n",
       "      <td>93.0</td>\n",
       "      <td>207.0</td>\n",
       "      <td>5.0</td>\n",
       "      <td>1339.729980</td>\n",
       "      <td>1331.660034</td>\n",
       "      <td>0</td>\n",
       "      <td>8.069946</td>\n",
       "    </tr>\n",
       "    <tr>\n",
       "      <th>6</th>\n",
       "      <td>6.0</td>\n",
       "      <td>63.0</td>\n",
       "      <td>100.0</td>\n",
       "      <td>153.0</td>\n",
       "      <td>104.0</td>\n",
       "      <td>209.0</td>\n",
       "      <td>5.0</td>\n",
       "      <td>1664.040039</td>\n",
       "      <td>1662.630005</td>\n",
       "      <td>0</td>\n",
       "      <td>1.410034</td>\n",
       "    </tr>\n",
       "    <tr>\n",
       "      <th>7</th>\n",
       "      <td>7.0</td>\n",
       "      <td>122.0</td>\n",
       "      <td>127.0</td>\n",
       "      <td>174.0</td>\n",
       "      <td>118.0</td>\n",
       "      <td>249.0</td>\n",
       "      <td>4.0</td>\n",
       "      <td>804.359985</td>\n",
       "      <td>791.219971</td>\n",
       "      <td>0</td>\n",
       "      <td>13.140015</td>\n",
       "    </tr>\n",
       "    <tr>\n",
       "      <th>8</th>\n",
       "      <td>8.0</td>\n",
       "      <td>63.0</td>\n",
       "      <td>77.0</td>\n",
       "      <td>131.0</td>\n",
       "      <td>93.0</td>\n",
       "      <td>175.0</td>\n",
       "      <td>5.0</td>\n",
       "      <td>518.080017</td>\n",
       "      <td>517.640015</td>\n",
       "      <td>0</td>\n",
       "      <td>0.440002</td>\n",
       "    </tr>\n",
       "    <tr>\n",
       "      <th>9</th>\n",
       "      <td>9.0</td>\n",
       "      <td>63.0</td>\n",
       "      <td>82.0</td>\n",
       "      <td>132.0</td>\n",
       "      <td>92.0</td>\n",
       "      <td>177.0</td>\n",
       "      <td>3.0</td>\n",
       "      <td>157.889999</td>\n",
       "      <td>156.270004</td>\n",
       "      <td>0</td>\n",
       "      <td>1.619995</td>\n",
       "    </tr>\n",
       "  </tbody>\n",
       "</table>\n",
       "</div>"
      ],
      "text/plain": [
       "    id  n_categorical  n_categorical_t  n_numeric  n_numeric_t  n_timestamp  \\\n",
       "0  0.0            0.0             83.0      133.0         91.0        179.0   \n",
       "1  1.0            0.0            116.0      154.0         90.0        209.0   \n",
       "2  2.0           63.0            114.0      150.0         90.0        207.0   \n",
       "3  3.0           63.0            109.0      152.0         93.0        207.0   \n",
       "4  4.0           63.0            109.0      151.0         93.0        207.0   \n",
       "5  5.0           63.0            109.0      151.0         93.0        207.0   \n",
       "6  6.0           63.0            100.0      153.0        104.0        209.0   \n",
       "7  7.0          122.0            127.0      174.0        118.0        249.0   \n",
       "8  8.0           63.0             77.0      131.0         93.0        175.0   \n",
       "9  9.0           63.0             82.0      132.0         92.0        177.0   \n",
       "\n",
       "   n_unknown        t_max        t_min  Response    t_delta  \n",
       "0        5.0    87.290001    82.239998         0   5.050003  \n",
       "1        3.0  1315.750000  1313.119995         0   2.630005  \n",
       "2        3.0  1624.420044  1618.699951         0   5.720093  \n",
       "3        5.0  1154.160034  1149.199951         0   4.960083  \n",
       "4        5.0   606.020020   602.640015         0   3.380005  \n",
       "5        5.0  1339.729980  1331.660034         0   8.069946  \n",
       "6        5.0  1664.040039  1662.630005         0   1.410034  \n",
       "7        4.0   804.359985   791.219971         0  13.140015  \n",
       "8        5.0   518.080017   517.640015         0   0.440002  \n",
       "9        3.0   157.889999   156.270004         0   1.619995  "
      ]
     },
     "execution_count": 374,
     "metadata": {},
     "output_type": "execute_result"
    }
   ],
   "source": [
    "prod_info.head(10)"
   ]
  },
  {
   "cell_type": "code",
   "execution_count": 375,
   "metadata": {
    "collapsed": false
   },
   "outputs": [
    {
     "data": {
      "text/html": [
       "<div>\n",
       "<table border=\"1\" class=\"dataframe\">\n",
       "  <thead>\n",
       "    <tr style=\"text-align: right;\">\n",
       "      <th></th>\n",
       "      <th>id</th>\n",
       "      <th>n_categorical</th>\n",
       "      <th>n_categorical_t</th>\n",
       "      <th>n_numeric</th>\n",
       "      <th>n_numeric_t</th>\n",
       "      <th>n_timestamp</th>\n",
       "      <th>n_unknown</th>\n",
       "      <th>t_max</th>\n",
       "      <th>t_min</th>\n",
       "      <th>t_delta</th>\n",
       "    </tr>\n",
       "    <tr>\n",
       "      <th>Response</th>\n",
       "      <th></th>\n",
       "      <th></th>\n",
       "      <th></th>\n",
       "      <th></th>\n",
       "      <th></th>\n",
       "      <th></th>\n",
       "      <th></th>\n",
       "      <th></th>\n",
       "      <th></th>\n",
       "      <th></th>\n",
       "    </tr>\n",
       "  </thead>\n",
       "  <tbody>\n",
       "    <tr>\n",
       "      <th>0</th>\n",
       "      <td>591866.131374</td>\n",
       "      <td>57.124088</td>\n",
       "      <td>105.906170</td>\n",
       "      <td>147.278363</td>\n",
       "      <td>95.268681</td>\n",
       "      <td>205.261021</td>\n",
       "      <td>4.086169</td>\n",
       "      <td>859.205175</td>\n",
       "      <td>848.510707</td>\n",
       "      <td>10.694468</td>\n",
       "    </tr>\n",
       "    <tr>\n",
       "      <th>1</th>\n",
       "      <td>593048.093182</td>\n",
       "      <td>61.553423</td>\n",
       "      <td>106.740369</td>\n",
       "      <td>147.878471</td>\n",
       "      <td>95.051316</td>\n",
       "      <td>205.733537</td>\n",
       "      <td>3.941852</td>\n",
       "      <td>774.026250</td>\n",
       "      <td>760.116118</td>\n",
       "      <td>13.910132</td>\n",
       "    </tr>\n",
       "  </tbody>\n",
       "</table>\n",
       "</div>"
      ],
      "text/plain": [
       "                     id  n_categorical  n_categorical_t   n_numeric  \\\n",
       "Response                                                              \n",
       "0         591866.131374      57.124088       105.906170  147.278363   \n",
       "1         593048.093182      61.553423       106.740369  147.878471   \n",
       "\n",
       "          n_numeric_t  n_timestamp  n_unknown       t_max       t_min  \\\n",
       "Response                                                                \n",
       "0           95.268681   205.261021   4.086169  859.205175  848.510707   \n",
       "1           95.051316   205.733537   3.941852  774.026250  760.116118   \n",
       "\n",
       "            t_delta  \n",
       "Response             \n",
       "0         10.694468  \n",
       "1         13.910132  "
      ]
     },
     "execution_count": 375,
     "metadata": {},
     "output_type": "execute_result"
    }
   ],
   "source": [
    "# Samples with Response 1 have very similar properties as samples with Response 0, no clues here...\n",
    "# They have more categorical test (on average 5%...)\n",
    "# Average time spend on all three lines is different\n",
    "prod_info.groupby('Response').mean()"
   ]
  },
  {
   "cell_type": "code",
   "execution_count": 377,
   "metadata": {
    "collapsed": false
   },
   "outputs": [
    {
     "data": {
      "text/html": [
       "<div>\n",
       "<table border=\"1\" class=\"dataframe\">\n",
       "  <thead>\n",
       "    <tr style=\"text-align: right;\">\n",
       "      <th></th>\n",
       "      <th>id</th>\n",
       "      <th>n_categorical</th>\n",
       "      <th>n_categorical_t</th>\n",
       "      <th>n_numeric</th>\n",
       "      <th>n_numeric_t</th>\n",
       "      <th>n_timestamp</th>\n",
       "      <th>n_unknown</th>\n",
       "      <th>t_max</th>\n",
       "      <th>t_min</th>\n",
       "      <th>t_delta</th>\n",
       "    </tr>\n",
       "    <tr>\n",
       "      <th>Response</th>\n",
       "      <th></th>\n",
       "      <th></th>\n",
       "      <th></th>\n",
       "      <th></th>\n",
       "      <th></th>\n",
       "      <th></th>\n",
       "      <th></th>\n",
       "      <th></th>\n",
       "      <th></th>\n",
       "      <th></th>\n",
       "    </tr>\n",
       "  </thead>\n",
       "  <tbody>\n",
       "    <tr>\n",
       "      <th>0</th>\n",
       "      <td>591919.996895</td>\n",
       "      <td>57.158085</td>\n",
       "      <td>105.969137</td>\n",
       "      <td>147.365711</td>\n",
       "      <td>95.325024</td>\n",
       "      <td>205.382750</td>\n",
       "      <td>4.088589</td>\n",
       "      <td>859.631647</td>\n",
       "      <td>848.930814</td>\n",
       "      <td>10.700833</td>\n",
       "    </tr>\n",
       "    <tr>\n",
       "      <th>1</th>\n",
       "      <td>593140.058892</td>\n",
       "      <td>61.571325</td>\n",
       "      <td>106.771412</td>\n",
       "      <td>147.921477</td>\n",
       "      <td>95.078959</td>\n",
       "      <td>205.793369</td>\n",
       "      <td>3.942998</td>\n",
       "      <td>774.251647</td>\n",
       "      <td>760.337470</td>\n",
       "      <td>13.914177</td>\n",
       "    </tr>\n",
       "  </tbody>\n",
       "</table>\n",
       "</div>"
      ],
      "text/plain": [
       "                     id  n_categorical  n_categorical_t   n_numeric  \\\n",
       "Response                                                              \n",
       "0         591919.996895      57.158085       105.969137  147.365711   \n",
       "1         593140.058892      61.571325       106.771412  147.921477   \n",
       "\n",
       "          n_numeric_t  n_timestamp  n_unknown       t_max       t_min  \\\n",
       "Response                                                                \n",
       "0           95.325024   205.382750   4.088589  859.631647  848.930814   \n",
       "1           95.078959   205.793369   3.942998  774.251647  760.337470   \n",
       "\n",
       "            t_delta  \n",
       "Response             \n",
       "0         10.700833  \n",
       "1         13.914177  "
      ]
     },
     "execution_count": 377,
     "metadata": {},
     "output_type": "execute_result"
    }
   ],
   "source": [
    "prod_info[prod_info.t_delta>0].groupby('Response').mean()"
   ]
  },
  {
   "cell_type": "code",
   "execution_count": 391,
   "metadata": {
    "collapsed": false
   },
   "outputs": [
    {
     "data": {
      "text/html": [
       "<div>\n",
       "<table border=\"1\" class=\"dataframe\">\n",
       "  <thead>\n",
       "    <tr style=\"text-align: right;\">\n",
       "      <th></th>\n",
       "      <th>id</th>\n",
       "      <th>n_categorical</th>\n",
       "      <th>n_categorical_t</th>\n",
       "      <th>n_numeric</th>\n",
       "      <th>n_numeric_t</th>\n",
       "      <th>n_timestamp</th>\n",
       "      <th>n_unknown</th>\n",
       "      <th>t_max</th>\n",
       "      <th>t_min</th>\n",
       "      <th>t_delta</th>\n",
       "    </tr>\n",
       "    <tr>\n",
       "      <th>Response</th>\n",
       "      <th></th>\n",
       "      <th></th>\n",
       "      <th></th>\n",
       "      <th></th>\n",
       "      <th></th>\n",
       "      <th></th>\n",
       "      <th></th>\n",
       "      <th></th>\n",
       "      <th></th>\n",
       "      <th></th>\n",
       "    </tr>\n",
       "  </thead>\n",
       "  <tbody>\n",
       "    <tr>\n",
       "      <th>0</th>\n",
       "      <td>613614.791885</td>\n",
       "      <td>82.945462</td>\n",
       "      <td>130.121728</td>\n",
       "      <td>166.094677</td>\n",
       "      <td>100.068063</td>\n",
       "      <td>234.139616</td>\n",
       "      <td>3.949825</td>\n",
       "      <td>912.474698</td>\n",
       "      <td>722.152687</td>\n",
       "      <td>190.322011</td>\n",
       "    </tr>\n",
       "    <tr>\n",
       "      <th>1</th>\n",
       "      <td>598362.645161</td>\n",
       "      <td>90.645161</td>\n",
       "      <td>126.612903</td>\n",
       "      <td>161.129032</td>\n",
       "      <td>98.645161</td>\n",
       "      <td>228.967742</td>\n",
       "      <td>3.709677</td>\n",
       "      <td>955.348387</td>\n",
       "      <td>755.482585</td>\n",
       "      <td>199.865801</td>\n",
       "    </tr>\n",
       "  </tbody>\n",
       "</table>\n",
       "</div>"
      ],
      "text/plain": [
       "                     id  n_categorical  n_categorical_t   n_numeric  \\\n",
       "Response                                                              \n",
       "0         613614.791885      82.945462       130.121728  166.094677   \n",
       "1         598362.645161      90.645161       126.612903  161.129032   \n",
       "\n",
       "          n_numeric_t  n_timestamp  n_unknown       t_max       t_min  \\\n",
       "Response                                                                \n",
       "0          100.068063   234.139616   3.949825  912.474698  722.152687   \n",
       "1           98.645161   228.967742   3.709677  955.348387  755.482585   \n",
       "\n",
       "             t_delta  \n",
       "Response              \n",
       "0         190.322011  \n",
       "1         199.865801  "
      ]
     },
     "execution_count": 391,
     "metadata": {},
     "output_type": "execute_result"
    }
   ],
   "source": [
    "prod_info[prod_info.t_delta>100].groupby('Response').mean()"
   ]
  },
  {
   "cell_type": "code",
   "execution_count": 346,
   "metadata": {
    "collapsed": false
   },
   "outputs": [
    {
     "data": {
      "text/plain": [
       "3     429173\n",
       "5     425482\n",
       "4     132175\n",
       "2     104359\n",
       "7      55674\n",
       "9      26476\n",
       "6       5379\n",
       "8       2130\n",
       "1       1667\n",
       "0        806\n",
       "11       272\n",
       "10        86\n",
       "12        68\n",
       "Name: n_unknown, dtype: int64"
      ]
     },
     "execution_count": 346,
     "metadata": {},
     "output_type": "execute_result"
    }
   ],
   "source": [
    "prod_info.n_unknown.value_counts()"
   ]
  },
  {
   "cell_type": "code",
   "execution_count": 394,
   "metadata": {
    "collapsed": false
   },
   "outputs": [
    {
     "data": {
      "text/plain": [
       "array([<matplotlib.axes._subplots.AxesSubplot object at 0x20f1edd50>,\n",
       "       <matplotlib.axes._subplots.AxesSubplot object at 0x227fb9c10>], dtype=object)"
      ]
     },
     "execution_count": 394,
     "metadata": {},
     "output_type": "execute_result"
    },
    {
     "data": {
      "image/png": "[encoded data removed]",
      "text/plain": [
       "<matplotlib.figure.Figure at 0x2615d6e10>"
      ]
     },
     "metadata": {},
     "output_type": "display_data"
    }
   ],
   "source": [
    "# There seems to be a cluster of products with around 75 categorical features...\n",
    "prod_info.hist('n_categorical_t',by='Response', sharex=True, bins=15)"
   ]
  },
  {
   "cell_type": "code",
   "execution_count": 387,
   "metadata": {
    "collapsed": false
   },
   "outputs": [
    {
     "data": {
      "image/png": "[encoded data removed]",
      "text/plain": [
       "<matplotlib.figure.Figure at 0x20f6012d0>"
      ]
     },
     "metadata": {},
     "output_type": "display_data"
    }
   ],
   "source": [
    "prod_info.hist('n_numeric_t',by='Response', sharex=True, bins=15)"
   ]
  },
  {
   "cell_type": "code",
   "execution_count": 393,
   "metadata": {
    "collapsed": false
   },
   "outputs": [
    {
     "data": {
      "text/plain": [
       "array([<matplotlib.axes._subplots.AxesSubplot object at 0x287a23dd0>,\n",
       "       <matplotlib.axes._subplots.AxesSubplot object at 0x27c947f90>], dtype=object)"
      ]
     },
     "execution_count": 393,
     "metadata": {},
     "output_type": "execute_result"
    },
    {
     "data": {
      "image/png": "[encoded data removed]",
      "text/plain": [
       "<matplotlib.figure.Figure at 0x2615d6f50>"
      ]
     },
     "metadata": {},
     "output_type": "display_data"
    }
   ],
   "source": [
    "prod_info.hist('t_delta',by='Response', sharex=True, bins=25)"
   ]
  },
  {
   "cell_type": "code",
   "execution_count": 402,
   "metadata": {
    "collapsed": false
   },
   "outputs": [
    {
     "data": {
      "text/plain": [
       "'2016-09-24 10:16:47.238378'"
      ]
     },
     "execution_count": 402,
     "metadata": {},
     "output_type": "execute_result"
    }
   ],
   "source": [
    "str(datetime.datetime.now())"
   ]
  },
  {
   "cell_type": "code",
   "execution_count": 406,
   "metadata": {
    "collapsed": false
   },
   "outputs": [],
   "source": [
    "column_info = {'id': 'product id',\n",
    "               'n_categorical_t': 'number of categorical features with a timestamp',\n",
    "             'n_numeric_t': 'number of numeric features with a timestamp',\n",
    "              'n_timestamp': 'number of timestamp features',\n",
    "              'n_unknown': 'number of timestamp features without categorical or numeric counterpart',\n",
    "              't_max': 'highest timestamp value',\n",
    "               't_min':'lowest timestamp value',\n",
    "               'Response': 'Response column from numeric',\n",
    "               't_delta': 't_max-t_min'}\n",
    "\n",
    "meta = {'created_by': 'joostgp',\n",
    "        'created_at': str(datetime.datetime.now()),\n",
    "        'script': 'eda_product_view.ipnb',\n",
    "        'description': column_info}"
   ]
  },
  {
   "cell_type": "code",
   "execution_count": 398,
   "metadata": {
    "collapsed": true
   },
   "outputs": [],
   "source": [
    "prod_info.drop(['n_numeric','n_categorical'], axis=1). \\\n",
    "    to_csv(os.path.join(const.DATA_PATH,'eda_prod_info.csv'), index=False)\n"
   ]
  },
  {
   "cell_type": "code",
   "execution_count": 407,
   "metadata": {
    "collapsed": false
   },
   "outputs": [],
   "source": [
    "with open(os.path.join(const.DATA_PATH, 'eda_prod_info.log'),'w') as f:\n",
    "\n",
    "    for (key, value) in meta.iteritems():\n",
    "        f.write('[{}]\\n'.format(key))\n",
    "        if isi\n",
    "        f.write('{}\\n'.format(value))\n",
    "        f.write('\\n')"
   ]
  },
  {
   "cell_type": "code",
   "execution_count": null,
   "metadata": {
    "collapsed": true
   },
   "outputs": [],
   "source": []
  }
 ],
 "metadata": {
  "kernelspec": {
   "display_name": "Python 2",
   "language": "python",
   "name": "python2"
  },
  "language_info": {
   "codemirror_mode": {
    "name": "ipython",
    "version": 2
   },
   "file_extension": ".py",
   "mimetype": "text/x-python",
   "name": "python",
   "nbconvert_exporter": "python",
   "pygments_lexer": "ipython2",
   "version": "2.7.11"
  }
 },
 "nbformat": 4,
 "nbformat_minor": 0
}
