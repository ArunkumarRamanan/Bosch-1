{
 "cells": [
  {
   "cell_type": "markdown",
   "metadata": {},
   "source": [
    "# EDA Station 24, 25 and 36\n",
    "This notebook attempts to separate station 24, 25 and station 36 into substations where all the samples have the same timestamp."
   ]
  },
  {
   "cell_type": "code",
   "execution_count": 1,
   "metadata": {
    "collapsed": true
   },
   "outputs": [],
   "source": [
    "import os\n",
    "import re\n",
    "import pickle\n",
    "import time\n",
    "import datetime\n",
    "\n",
    "import numpy as np\n",
    "import pandas as pd\n",
    "\n",
    "import seaborn as sns\n",
    "import matplotlib.pyplot as plt\n",
    "\n",
    "from scipy.sparse import csr_matrix\n",
    "\n",
    "%matplotlib inline\n",
    "\n",
    "# Custom modules\n",
    "import const\n",
    "import func"
   ]
  },
  {
   "cell_type": "markdown",
   "metadata": {},
   "source": [
    "## Load data"
   ]
  },
  {
   "cell_type": "code",
   "execution_count": 2,
   "metadata": {
    "collapsed": false
   },
   "outputs": [
    {
     "data": {
      "text/plain": [
       "['train_numeric', 'train_categorical_to_num', 'train_date']"
      ]
     },
     "execution_count": 2,
     "metadata": {},
     "output_type": "execute_result"
    }
   ],
   "source": [
    "const.TRAIN_FILES"
   ]
  },
  {
   "cell_type": "code",
   "execution_count": 3,
   "metadata": {
    "collapsed": false
   },
   "outputs": [],
   "source": [
    "date_info = func.get_station_info(const.TRAIN_FILES[2])"
   ]
  },
  {
   "cell_type": "code",
   "execution_count": 4,
   "metadata": {
    "collapsed": false
   },
   "outputs": [
    {
     "name": "stdout",
     "output_type": "stream",
     "text": [
      "Returning train_date.csv\n"
     ]
    }
   ],
   "source": [
    "date_data = func.load_data_file(const.TRAIN_FILES[2], ftype='csv')"
   ]
  },
  {
   "cell_type": "code",
   "execution_count": 5,
   "metadata": {
    "collapsed": false
   },
   "outputs": [],
   "source": [
    "date_data.set_index('Id', inplace=True)"
   ]
  },
  {
   "cell_type": "code",
   "execution_count": 6,
   "metadata": {
    "collapsed": false
   },
   "outputs": [],
   "source": [
    "date_data = date_data.transpose()"
   ]
  },
  {
   "cell_type": "code",
   "execution_count": 7,
   "metadata": {
    "collapsed": false
   },
   "outputs": [],
   "source": [
    "date_data = date_data.merge(date_info, how='left', left_index=True, right_on='name')"
   ]
  },
  {
   "cell_type": "code",
   "execution_count": 8,
   "metadata": {
    "collapsed": false
   },
   "outputs": [
    {
     "data": {
      "text/html": [
       "<div>\n",
       "<table border=\"1\" class=\"dataframe\">\n",
       "  <thead>\n",
       "    <tr style=\"text-align: right;\">\n",
       "      <th>Id</th>\n",
       "      <th>4</th>\n",
       "      <th>6</th>\n",
       "      <th>7</th>\n",
       "      <th>9</th>\n",
       "      <th>11</th>\n",
       "      <th>13</th>\n",
       "      <th>14</th>\n",
       "      <th>16</th>\n",
       "      <th>18</th>\n",
       "      <th>23</th>\n",
       "      <th>...</th>\n",
       "      <th>2367488</th>\n",
       "      <th>2367490</th>\n",
       "      <th>2367491</th>\n",
       "      <th>2367492</th>\n",
       "      <th>2367493</th>\n",
       "      <th>2367495</th>\n",
       "      <th>line</th>\n",
       "      <th>station</th>\n",
       "      <th>feature_nr</th>\n",
       "      <th>name</th>\n",
       "    </tr>\n",
       "  </thead>\n",
       "  <tbody>\n",
       "    <tr>\n",
       "      <th>0</th>\n",
       "      <td>82.24</td>\n",
       "      <td>NaN</td>\n",
       "      <td>1618.7</td>\n",
       "      <td>1149.2</td>\n",
       "      <td>602.64</td>\n",
       "      <td>1331.66</td>\n",
       "      <td>NaN</td>\n",
       "      <td>NaN</td>\n",
       "      <td>517.64</td>\n",
       "      <td>NaN</td>\n",
       "      <td>...</td>\n",
       "      <td>NaN</td>\n",
       "      <td>1239.9</td>\n",
       "      <td>NaN</td>\n",
       "      <td>1482.18</td>\n",
       "      <td>608.83</td>\n",
       "      <td>937.61</td>\n",
       "      <td>0</td>\n",
       "      <td>0</td>\n",
       "      <td>1</td>\n",
       "      <td>L0_S0_D1</td>\n",
       "    </tr>\n",
       "    <tr>\n",
       "      <th>1</th>\n",
       "      <td>82.24</td>\n",
       "      <td>NaN</td>\n",
       "      <td>1618.7</td>\n",
       "      <td>1149.2</td>\n",
       "      <td>602.64</td>\n",
       "      <td>1331.66</td>\n",
       "      <td>NaN</td>\n",
       "      <td>NaN</td>\n",
       "      <td>517.64</td>\n",
       "      <td>NaN</td>\n",
       "      <td>...</td>\n",
       "      <td>NaN</td>\n",
       "      <td>1239.9</td>\n",
       "      <td>NaN</td>\n",
       "      <td>1482.18</td>\n",
       "      <td>608.83</td>\n",
       "      <td>937.61</td>\n",
       "      <td>0</td>\n",
       "      <td>0</td>\n",
       "      <td>3</td>\n",
       "      <td>L0_S0_D3</td>\n",
       "    </tr>\n",
       "    <tr>\n",
       "      <th>2</th>\n",
       "      <td>82.24</td>\n",
       "      <td>NaN</td>\n",
       "      <td>1618.7</td>\n",
       "      <td>1149.2</td>\n",
       "      <td>602.64</td>\n",
       "      <td>1331.66</td>\n",
       "      <td>NaN</td>\n",
       "      <td>NaN</td>\n",
       "      <td>517.64</td>\n",
       "      <td>NaN</td>\n",
       "      <td>...</td>\n",
       "      <td>NaN</td>\n",
       "      <td>1239.9</td>\n",
       "      <td>NaN</td>\n",
       "      <td>1482.18</td>\n",
       "      <td>608.83</td>\n",
       "      <td>937.61</td>\n",
       "      <td>0</td>\n",
       "      <td>0</td>\n",
       "      <td>5</td>\n",
       "      <td>L0_S0_D5</td>\n",
       "    </tr>\n",
       "    <tr>\n",
       "      <th>3</th>\n",
       "      <td>82.24</td>\n",
       "      <td>NaN</td>\n",
       "      <td>1618.7</td>\n",
       "      <td>1149.2</td>\n",
       "      <td>602.64</td>\n",
       "      <td>1331.66</td>\n",
       "      <td>NaN</td>\n",
       "      <td>NaN</td>\n",
       "      <td>517.64</td>\n",
       "      <td>NaN</td>\n",
       "      <td>...</td>\n",
       "      <td>NaN</td>\n",
       "      <td>1239.9</td>\n",
       "      <td>NaN</td>\n",
       "      <td>1482.18</td>\n",
       "      <td>608.83</td>\n",
       "      <td>937.61</td>\n",
       "      <td>0</td>\n",
       "      <td>0</td>\n",
       "      <td>7</td>\n",
       "      <td>L0_S0_D7</td>\n",
       "    </tr>\n",
       "    <tr>\n",
       "      <th>4</th>\n",
       "      <td>82.24</td>\n",
       "      <td>NaN</td>\n",
       "      <td>1618.7</td>\n",
       "      <td>1149.2</td>\n",
       "      <td>602.64</td>\n",
       "      <td>1331.66</td>\n",
       "      <td>NaN</td>\n",
       "      <td>NaN</td>\n",
       "      <td>517.64</td>\n",
       "      <td>NaN</td>\n",
       "      <td>...</td>\n",
       "      <td>NaN</td>\n",
       "      <td>1239.9</td>\n",
       "      <td>NaN</td>\n",
       "      <td>1482.18</td>\n",
       "      <td>608.83</td>\n",
       "      <td>937.61</td>\n",
       "      <td>0</td>\n",
       "      <td>0</td>\n",
       "      <td>9</td>\n",
       "      <td>L0_S0_D9</td>\n",
       "    </tr>\n",
       "  </tbody>\n",
       "</table>\n",
       "<p>5 rows × 1183751 columns</p>\n",
       "</div>"
      ],
      "text/plain": [
       "Id      4   6       7       9      11       13  14  16      18  23    ...     \\\n",
       "0   82.24 NaN  1618.7  1149.2  602.64  1331.66 NaN NaN  517.64 NaN    ...      \n",
       "1   82.24 NaN  1618.7  1149.2  602.64  1331.66 NaN NaN  517.64 NaN    ...      \n",
       "2   82.24 NaN  1618.7  1149.2  602.64  1331.66 NaN NaN  517.64 NaN    ...      \n",
       "3   82.24 NaN  1618.7  1149.2  602.64  1331.66 NaN NaN  517.64 NaN    ...      \n",
       "4   82.24 NaN  1618.7  1149.2  602.64  1331.66 NaN NaN  517.64 NaN    ...      \n",
       "\n",
       "Id  2367488  2367490  2367491  2367492  2367493  2367495  line  station  \\\n",
       "0       NaN   1239.9      NaN  1482.18   608.83   937.61     0        0   \n",
       "1       NaN   1239.9      NaN  1482.18   608.83   937.61     0        0   \n",
       "2       NaN   1239.9      NaN  1482.18   608.83   937.61     0        0   \n",
       "3       NaN   1239.9      NaN  1482.18   608.83   937.61     0        0   \n",
       "4       NaN   1239.9      NaN  1482.18   608.83   937.61     0        0   \n",
       "\n",
       "Id  feature_nr      name  \n",
       "0            1  L0_S0_D1  \n",
       "1            3  L0_S0_D3  \n",
       "2            5  L0_S0_D5  \n",
       "3            7  L0_S0_D7  \n",
       "4            9  L0_S0_D9  \n",
       "\n",
       "[5 rows x 1183751 columns]"
      ]
     },
     "execution_count": 8,
     "metadata": {},
     "output_type": "execute_result"
    }
   ],
   "source": [
    "date_data.head()"
   ]
  },
  {
   "cell_type": "markdown",
   "metadata": {},
   "source": [
    "## Functions"
   ]
  },
  {
   "cell_type": "code",
   "execution_count": 9,
   "metadata": {
    "collapsed": true
   },
   "outputs": [],
   "source": [
    "def plot_shifts_and_sample_counts(data_set, title_tag=''):\n",
    "    '''Plots the number of NA's per feature in a station and possible cut points for substations '''\n",
    "    mean_dt = data_set.fillna(method='ffill').diff().mean(1)\n",
    "    shifts = mean_dt[mean_dt>0].index.values\n",
    "    \n",
    "    shift_ax = [data_set.index.get_loc(n) for n in shifts]\n",
    "    \n",
    "    f = plt.figure(figsize=(16,6))\n",
    "    ax = (data_set.isnull().sum(1)/data_set.shape[1]).plot(kind='bar')\n",
    "    ax.set_ylabel('Percentage NA samples')\n",
    "    ax.set_ylim([0, 1])\n",
    "    ax.set_title('Station timeline for entry point {}'.format(title_tag))\n",
    "    ymin, ymax = ax.get_ylim()\n",
    "    #for shift in shifts:\n",
    "        #print shift\n",
    "    ax.vlines(x=shift_ax, ymin=ymin, ymax=ymax, linewidth=2, color='k')#ax.set_ylim([0, 250])\n",
    "    \n",
    "    return shifts"
   ]
  },
  {
   "cell_type": "code",
   "execution_count": 10,
   "metadata": {
    "collapsed": true
   },
   "outputs": [],
   "source": [
    "def post_process(df):\n",
    "    df.drop(['line','station','name'], axis=1, inplace=True)\n",
    "    df.set_index('feature_nr', inplace=True)\n",
    "    \n",
    "    # Remove samples with only na data in column\n",
    "    no_info = df.isnull().sum()==df.shape[0]\n",
    "    df = df.loc[:,~no_info]\n",
    "    \n",
    "    # Set all timestamps to t=0\n",
    "    df = df.apply(lambda x: x - x.min(), axis=0)\n",
    "    \n",
    "    return df"
   ]
  },
  {
   "cell_type": "markdown",
   "metadata": {},
   "source": [
    "## Split data in station 24, station 25 and station 36"
   ]
  },
  {
   "cell_type": "code",
   "execution_count": 11,
   "metadata": {
    "collapsed": false
   },
   "outputs": [
    {
     "name": "stderr",
     "output_type": "stream",
     "text": [
      "/Users/joostbloom/anaconda/lib/python2.7/site-packages/ipykernel/__main__.py:2: SettingWithCopyWarning: \n",
      "A value is trying to be set on a copy of a slice from a DataFrame\n",
      "\n",
      "See the caveats in the documentation: http://pandas.pydata.org/pandas-docs/stable/indexing.html#indexing-view-versus-copy\n",
      "  from ipykernel import kernelapp as app\n"
     ]
    }
   ],
   "source": [
    "# Split data in station 24 and station 25\n",
    "date_data_24 = post_process(date_data[(date_data.line==1) & (date_data.station==24)])\n",
    "date_data_25 = post_process(date_data[(date_data.line==1) & (date_data.station==25)])\n",
    "date_data_36 = post_process(date_data[(date_data.line==3) & (date_data.station==36)])"
   ]
  },
  {
   "cell_type": "code",
   "execution_count": 12,
   "metadata": {
    "collapsed": true
   },
   "outputs": [],
   "source": [
    "del date_data"
   ]
  },
  {
   "cell_type": "markdown",
   "metadata": {},
   "source": [
    "## Analyze station 36"
   ]
  },
  {
   "cell_type": "code",
   "execution_count": 13,
   "metadata": {
    "collapsed": false
   },
   "outputs": [
    {
     "name": "stdout",
     "output_type": "stream",
     "text": [
      "Number of samples station 36: 569032\n",
      "Feature nr from 3919 to 3940\n"
     ]
    }
   ],
   "source": [
    "print('Number of samples station 36: {}'.format(date_data_36.shape[1]))\n",
    "print('Feature nr from {} to {}'.format(date_data_36.index.min(), date_data_36.index.max()))"
   ]
  },
  {
   "cell_type": "code",
   "execution_count": 14,
   "metadata": {
    "collapsed": false
   },
   "outputs": [
    {
     "name": "stdout",
     "output_type": "stream",
     "text": [
      "3919    569031\n",
      "3928         1\n",
      "dtype: int64\n"
     ]
    }
   ],
   "source": [
    "# Look at entry station for station 36\n",
    "entries36 = date_data_36.apply(lambda x: x.first_valid_index()).value_counts()\n",
    "print(entries36)"
   ]
  },
  {
   "cell_type": "code",
   "execution_count": 15,
   "metadata": {
    "collapsed": false
   },
   "outputs": [
    {
     "name": "stdout",
     "output_type": "stream",
     "text": [
      "3940    569032\n",
      "dtype: int64\n"
     ]
    }
   ],
   "source": [
    "# Look at exits of station 24\n",
    "exits36 = date_data_36.apply(lambda x: x.last_valid_index()).value_counts()\n",
    "print(exits36)"
   ]
  },
  {
   "cell_type": "code",
   "execution_count": 16,
   "metadata": {
    "collapsed": false
   },
   "outputs": [
    {
     "data": {
      "text/html": [
       "<div>\n",
       "<table border=\"1\" class=\"dataframe\">\n",
       "  <thead>\n",
       "    <tr style=\"text-align: right;\">\n",
       "      <th>Id</th>\n",
       "      <th>435812</th>\n",
       "    </tr>\n",
       "    <tr>\n",
       "      <th>feature_nr</th>\n",
       "      <th></th>\n",
       "    </tr>\n",
       "  </thead>\n",
       "  <tbody>\n",
       "    <tr>\n",
       "      <th>3919</th>\n",
       "      <td>NaN</td>\n",
       "    </tr>\n",
       "    <tr>\n",
       "      <th>3921</th>\n",
       "      <td>NaN</td>\n",
       "    </tr>\n",
       "    <tr>\n",
       "      <th>3923</th>\n",
       "      <td>NaN</td>\n",
       "    </tr>\n",
       "    <tr>\n",
       "      <th>3925</th>\n",
       "      <td>NaN</td>\n",
       "    </tr>\n",
       "    <tr>\n",
       "      <th>3928</th>\n",
       "      <td>0.0</td>\n",
       "    </tr>\n",
       "    <tr>\n",
       "      <th>3932</th>\n",
       "      <td>0.0</td>\n",
       "    </tr>\n",
       "    <tr>\n",
       "      <th>3936</th>\n",
       "      <td>0.0</td>\n",
       "    </tr>\n",
       "    <tr>\n",
       "      <th>3940</th>\n",
       "      <td>0.0</td>\n",
       "    </tr>\n",
       "  </tbody>\n",
       "</table>\n",
       "</div>"
      ],
      "text/plain": [
       "Id          435812\n",
       "feature_nr        \n",
       "3919           NaN\n",
       "3921           NaN\n",
       "3923           NaN\n",
       "3925           NaN\n",
       "3928           0.0\n",
       "3932           0.0\n",
       "3936           0.0\n",
       "3940           0.0"
      ]
     },
     "execution_count": 16,
     "metadata": {},
     "output_type": "execute_result"
    }
   ],
   "source": [
    "date_data_36.loc[:,date_data_36.loc[3919,:].isnull()]"
   ]
  },
  {
   "cell_type": "markdown",
   "metadata": {},
   "source": [
    "## Analyze station 24"
   ]
  },
  {
   "cell_type": "code",
   "execution_count": 17,
   "metadata": {
    "collapsed": false
   },
   "outputs": [
    {
     "name": "stdout",
     "output_type": "stream",
     "text": [
      "Number of samples station 24: 183727\n",
      "Feature nr from 677 to 1851\n"
     ]
    }
   ],
   "source": [
    "print('Number of samples station 24: {}'.format(date_data_24.shape[1]))\n",
    "print('Feature nr from {} to {}'.format(date_data_24.index.min(), date_data_24.index.max()))"
   ]
  },
  {
   "cell_type": "code",
   "execution_count": 18,
   "metadata": {
    "collapsed": false
   },
   "outputs": [
    {
     "name": "stdout",
     "output_type": "stream",
     "text": [
      "1511    132669\n",
      "1116     27178\n",
      "677      23862\n",
      "1826         8\n",
      "1765         4\n",
      "1809         3\n",
      "1583         1\n",
      "1568         1\n",
      "1566         1\n",
      "dtype: int64\n"
     ]
    }
   ],
   "source": [
    "# Look at entry station for station 24\n",
    "entries24 = date_data_24.apply(lambda x: x.first_valid_index()).value_counts()\n",
    "print(entries24)"
   ]
  },
  {
   "cell_type": "code",
   "execution_count": 19,
   "metadata": {
    "collapsed": false
   },
   "outputs": [
    {
     "name": "stdout",
     "output_type": "stream",
     "text": [
      "1851    132922\n",
      "1508     27052\n",
      "1112     23750\n",
      "1568         2\n",
      "1805         1\n",
      "dtype: int64\n"
     ]
    }
   ],
   "source": [
    "# Look at exits of station 24\n",
    "exits24 = date_data_24.apply(lambda x: x.last_valid_index()).value_counts()\n",
    "print(exits24)"
   ]
  },
  {
   "cell_type": "code",
   "execution_count": 20,
   "metadata": {
    "collapsed": false
   },
   "outputs": [
    {
     "name": "stdout",
     "output_type": "stream",
     "text": [
      "Exit stations for 1511\n",
      "1851    1.001771\n",
      "1568    0.000015\n",
      "1805    0.000008\n",
      "dtype: float64\n",
      "\n",
      "Exit stations for 1116\n",
      "1508    0.995364\n",
      "1851    0.005519\n",
      "dtype: float64\n",
      "\n",
      "Exit stations for 677\n",
      "1112    0.995306\n",
      "1851    0.003688\n",
      "1508    0.001006\n",
      "dtype: float64\n",
      "\n"
     ]
    }
   ],
   "source": [
    "# Look at exit station per major entry station\n",
    "\n",
    "for ix, entry in entries24[:3].iteritems():\n",
    "    print('Exit stations for {}'.format(ix))\n",
    "    print(date_data_24.loc[:,~date_data_24.loc[ix,:].isnull()] \\\n",
    "                                                       .apply(lambda x: x.last_valid_index()).value_counts()) \\\n",
    "                                                       / entry\n",
    "    print('')\n"
   ]
  },
  {
   "cell_type": "markdown",
   "metadata": {},
   "source": [
    "This shows two things:\n",
    "1. Samples that enter via one station, exit 99% of the time a specific station. So 99%+ of the samples in Station 24 follow on of these three paths..\n",
    "2. The entry and exit stations are not overlapping. So more than 99% of the samples follow only one of these three paths.\n",
    "\n",
    "Let's see how similar these three paths are:"
   ]
  },
  {
   "cell_type": "code",
   "execution_count": 21,
   "metadata": {
    "collapsed": false
   },
   "outputs": [
    {
     "data": {
      "text/html": [
       "<div>\n",
       "<table border=\"1\" class=\"dataframe\">\n",
       "  <thead>\n",
       "    <tr style=\"text-align: right;\">\n",
       "      <th></th>\n",
       "      <th>line</th>\n",
       "      <th>station</th>\n",
       "      <th>feature_nr</th>\n",
       "      <th>feat_nr_dat</th>\n",
       "      <th>name_dat</th>\n",
       "      <th>name_cat</th>\n",
       "      <th>name_num</th>\n",
       "    </tr>\n",
       "  </thead>\n",
       "  <tbody>\n",
       "    <tr>\n",
       "      <th>0</th>\n",
       "      <td>0</td>\n",
       "      <td>0</td>\n",
       "      <td>0</td>\n",
       "      <td>1.0</td>\n",
       "      <td>L0_S0_D1</td>\n",
       "      <td>NaN</td>\n",
       "      <td>L0_S0_F0</td>\n",
       "    </tr>\n",
       "    <tr>\n",
       "      <th>1</th>\n",
       "      <td>0</td>\n",
       "      <td>0</td>\n",
       "      <td>2</td>\n",
       "      <td>3.0</td>\n",
       "      <td>L0_S0_D3</td>\n",
       "      <td>NaN</td>\n",
       "      <td>L0_S0_F2</td>\n",
       "    </tr>\n",
       "    <tr>\n",
       "      <th>2</th>\n",
       "      <td>0</td>\n",
       "      <td>0</td>\n",
       "      <td>4</td>\n",
       "      <td>5.0</td>\n",
       "      <td>L0_S0_D5</td>\n",
       "      <td>NaN</td>\n",
       "      <td>L0_S0_F4</td>\n",
       "    </tr>\n",
       "    <tr>\n",
       "      <th>3</th>\n",
       "      <td>0</td>\n",
       "      <td>0</td>\n",
       "      <td>6</td>\n",
       "      <td>7.0</td>\n",
       "      <td>L0_S0_D7</td>\n",
       "      <td>NaN</td>\n",
       "      <td>L0_S0_F6</td>\n",
       "    </tr>\n",
       "    <tr>\n",
       "      <th>4</th>\n",
       "      <td>0</td>\n",
       "      <td>0</td>\n",
       "      <td>8</td>\n",
       "      <td>9.0</td>\n",
       "      <td>L0_S0_D9</td>\n",
       "      <td>NaN</td>\n",
       "      <td>L0_S0_F8</td>\n",
       "    </tr>\n",
       "  </tbody>\n",
       "</table>\n",
       "</div>"
      ],
      "text/plain": [
       "   line  station  feature_nr  feat_nr_dat  name_dat name_cat  name_num\n",
       "0     0        0           0          1.0  L0_S0_D1      NaN  L0_S0_F0\n",
       "1     0        0           2          3.0  L0_S0_D3      NaN  L0_S0_F2\n",
       "2     0        0           4          5.0  L0_S0_D5      NaN  L0_S0_F4\n",
       "3     0        0           6          7.0  L0_S0_D7      NaN  L0_S0_F6\n",
       "4     0        0           8          9.0  L0_S0_D9      NaN  L0_S0_F8"
      ]
     },
     "execution_count": 21,
     "metadata": {},
     "output_type": "execute_result"
    }
   ],
   "source": [
    "# Load feature look-up table to see how many numeric/categorical features there are\n",
    "date_info = pd.read_csv(os.path.join(const.DATA_PATH, 'date_feat_lut.csv'))\n",
    "date_info.head()"
   ]
  },
  {
   "cell_type": "code",
   "execution_count": 22,
   "metadata": {
    "collapsed": false
   },
   "outputs": [
    {
     "name": "stdout",
     "output_type": "stream",
     "text": [
      "Feature analysis for entry point 1511\n",
      "Number of date features: 91\n",
      "Number of cat features: 176\n",
      "Number of num features: 73\n",
      "(251, 7)\n",
      "\n",
      "Feature analysis for entry point 1116\n",
      "Number of date features: 91\n",
      "Number of cat features: 228\n",
      "Number of num features: 73\n",
      "(301, 7)\n",
      "\n",
      "Feature analysis for entry point 677\n",
      "Number of date features: 103\n",
      "Number of cat features: 249\n",
      "Number of num features: 83\n",
      "(332, 7)\n",
      "\n"
     ]
    }
   ],
   "source": [
    "for entry, exit in zip(entries24[:3].index.values, exits24[:3].index.values):\n",
    "    print('Feature analysis for entry point {}'.format(entry))\n",
    "    fea = date_info[(date_info.feature_nr>=entry) & (date_info.feature_nr<=exit)]\n",
    "    print('Number of date features: {}'.format((~fea.name_dat.isnull()).sum()))\n",
    "    print('Number of cat features: {}'.format((~fea.name_cat.isnull()).sum()))\n",
    "    print('Number of num features: {}'.format((~fea.name_num.isnull()).sum()))\n",
    "    print fea.shape\n",
    "    print('')"
   ]
  },
  {
   "cell_type": "markdown",
   "metadata": {},
   "source": [
    "They are very similar, but not the same, so we cannot shift them...:()"
   ]
  },
  {
   "cell_type": "code",
   "execution_count": 23,
   "metadata": {
    "collapsed": false
   },
   "outputs": [],
   "source": [
    "# So update entries and exit values\n",
    "entries24 = [677, 1116, 1511]\n",
    "exits24 = [1112, 1508, 1851]"
   ]
  },
  {
   "cell_type": "code",
   "execution_count": 24,
   "metadata": {
    "collapsed": false
   },
   "outputs": [
    {
     "name": "stdout",
     "output_type": "stream",
     "text": [
      "Station break points for entry point 677\n",
      "11 station breaks found: [ 697  702  801  804  807  813  818  909  999 1018 1062]\n",
      "\n",
      "Station break points for entry point 1116\n",
      "11 station breaks found: [1135 1158 1163 1168 1171 1178 1186 1277 1368 1413 1457]\n",
      "\n",
      "Station break points for entry point 1511\n",
      "11 station breaks found: [1522 1562 1566 1568 1570 1576 1583 1674 1765 1809 1826]\n",
      "\n"
     ]
    },
    {
     "data": {
      "image/png": "[encoded data removed]",
      "text/plain": [
       "<matplotlib.figure.Figure at 0x1713de690>"
      ]
     },
     "metadata": {},
     "output_type": "display_data"
    },
    {
     "data": {
      "image/png": "[encoded data removed]",
      "text/plain": [
       "<matplotlib.figure.Figure at 0x3bd958f50>"
      ]
     },
     "metadata": {},
     "output_type": "display_data"
    },
    {
     "data": {
      "image/png": "[encoded data removed]",
      "text/plain": [
       "<matplotlib.figure.Figure at 0x116ca0690>"
      ]
     },
     "metadata": {},
     "output_type": "display_data"
    }
   ],
   "source": [
    "# Look for the break points and plot number of samples over the features\n",
    "station_breaks_24 = []\n",
    "for entry, exit in zip(entries24, exits24):\n",
    "    print('Station break points for entry point {}'.format(entry))\n",
    "    \n",
    "    df = date_data_24.loc[entry:exit+1, :]\n",
    "    \n",
    "    # Include only samples with at least one value in this range\n",
    "    df = df.loc[:,~(df.isnull().sum(0)==df.shape[0])]\n",
    "    \n",
    "    station_breaks = plot_shifts_and_sample_counts(df, entry)\n",
    "    station_breaks_24.append(station_breaks)\n",
    "    \n",
    "    print('{} station breaks found: {}'.format(len(station_breaks),station_breaks)) \n",
    "    \n",
    "    print('')\n",
    "    "
   ]
  },
  {
   "cell_type": "markdown",
   "metadata": {},
   "source": [
    "## Analyze station 25"
   ]
  },
  {
   "cell_type": "code",
   "execution_count": 25,
   "metadata": {
    "collapsed": false
   },
   "outputs": [
    {
     "name": "stdout",
     "output_type": "stream",
     "text": [
      "Number of samples station 25: 83658\n",
      "Feature nr from 1854 to 3035\n"
     ]
    }
   ],
   "source": [
    "print('Number of samples station 25: {}'.format(date_data_25.shape[1]))\n",
    "print('Feature nr from {} to {}'.format(date_data_25.index.min(), date_data_25.index.max()))"
   ]
  },
  {
   "cell_type": "code",
   "execution_count": 26,
   "metadata": {
    "collapsed": false
   },
   "outputs": [
    {
     "name": "stdout",
     "output_type": "stream",
     "text": [
      "1854    55466\n",
      "2471     9855\n",
      "2230     6066\n",
      "2206     3611\n",
      "2780     3327\n",
      "2754     2475\n",
      "2497     1596\n",
      "2180     1243\n",
      "1867       17\n",
      "2238        1\n",
      "2788        1\n",
      "dtype: int64\n"
     ]
    }
   ],
   "source": [
    "# Look at entry station for station 25\n",
    "entries25 = date_data_25.apply(lambda x: x.first_valid_index()).value_counts()\n",
    "print(entries25)"
   ]
  },
  {
   "cell_type": "code",
   "execution_count": 27,
   "metadata": {
    "collapsed": false
   },
   "outputs": [
    {
     "name": "stdout",
     "output_type": "stream",
     "text": [
      "2178    54516\n",
      "3035    17772\n",
      "2469     7005\n",
      "2752     4262\n",
      "2093       34\n",
      "2133       22\n",
      "1879        7\n",
      "1898        7\n",
      "1883        6\n",
      "2228        5\n",
      "2874        3\n",
      "2778        3\n",
      "2992        3\n",
      "1975        3\n",
      "1887        2\n",
      "1895        2\n",
      "2204        1\n",
      "2444        1\n",
      "2952        1\n",
      "2053        1\n",
      "3010        1\n",
      "2495        1\n",
      "dtype: int64\n"
     ]
    }
   ],
   "source": [
    "# Look at exits of station 25\n",
    "exits25 = date_data_25.apply(lambda x: x.last_valid_index()).value_counts()\n",
    "print(exits25)"
   ]
  },
  {
   "cell_type": "markdown",
   "metadata": {},
   "source": [
    "So this one is little bit more complicated. There is one clear path (entry 1854 + exit at 2178), but the remaining paths are less clear. Lets look at exits for the Top7 entry points."
   ]
  },
  {
   "cell_type": "code",
   "execution_count": 28,
   "metadata": {
    "collapsed": false
   },
   "outputs": [
    {
     "name": "stdout",
     "output_type": "stream",
     "text": [
      "Exit stations for 1854\n",
      "2178    0.982566\n",
      "3035    0.006148\n",
      "2752    0.005499\n",
      "2469    0.004273\n",
      "2093    0.000613\n",
      "2133    0.000397\n",
      "1879    0.000126\n",
      "1898    0.000126\n",
      "1883    0.000108\n",
      "1975    0.000054\n",
      "1887    0.000036\n",
      "1895    0.000036\n",
      "2053    0.000018\n",
      "dtype: float64\n",
      "\n",
      "Exit stations for 2471\n",
      "3035    0.818569\n",
      "2752    0.182243\n",
      "2495    0.000101\n",
      "dtype: float64\n",
      "\n",
      "Exit stations for 2230\n",
      "2469    1.154468\n",
      "3035    0.023904\n",
      "2752    0.001484\n",
      "2444    0.000165\n",
      "dtype: float64\n",
      "\n",
      "Exit stations for 2206\n",
      "3035    0.721684\n",
      "2469    0.223484\n",
      "2752    0.054556\n",
      "2228    0.001385\n",
      "2444    0.000277\n",
      "dtype: float64\n",
      "\n",
      "Exit stations for 2780\n",
      "3035    5.341148\n",
      "2874    0.000902\n",
      "2992    0.000902\n",
      "2952    0.000301\n",
      "3010    0.000301\n",
      "dtype: float64\n",
      "\n",
      "Exit stations for 2754\n",
      "3035    0.999192\n",
      "2778    0.001212\n",
      "2992    0.000404\n",
      "dtype: float64\n",
      "\n",
      "Exit stations for 2497\n",
      "2752    2.670426\n",
      "3035    0.021930\n",
      "dtype: float64\n",
      "\n"
     ]
    }
   ],
   "source": [
    "# Look at exit station per major entry station\n",
    "\n",
    "for ix, entry in entries25[:7].iteritems():\n",
    "    print('Exit stations for {}'.format(ix))\n",
    "    print(date_data_25.loc[:,~date_data_25.loc[ix,:].isnull()] \\\n",
    "                                                       .apply(lambda x: x.last_valid_index()).value_counts()) \\\n",
    "                                                       / entry\n",
    "    print('')"
   ]
  },
  {
   "cell_type": "code",
   "execution_count": 29,
   "metadata": {
    "collapsed": false
   },
   "outputs": [
    {
     "name": "stdout",
     "output_type": "stream",
     "text": [
      "Entry stations for exit 2178\n",
      "1854    1.008420\n",
      "1867    0.000312\n",
      "dtype: float64\n",
      "\n",
      "Entry stations for exit 3035\n",
      "2471    0.453522\n",
      "2780    0.186811\n",
      "2206    0.146466\n",
      "2754    0.139039\n",
      "2180    0.047716\n",
      "1854    0.019187\n",
      "2230    0.006752\n",
      "2497    0.000450\n",
      "2788    0.000056\n",
      "dtype: float64\n",
      "\n",
      "Entry stations for exit 2469\n",
      "2230    0.855246\n",
      "2206    0.115489\n",
      "1854    0.033833\n",
      "2180    0.003426\n",
      "2238    0.000143\n",
      "dtype: float64\n",
      "\n"
     ]
    }
   ],
   "source": [
    "# Look at entry station per major exit station\n",
    "\n",
    "for ix, exit in exits25[:3].iteritems():\n",
    "    print('Entry stations for exit {}'.format(ix))\n",
    "    print(date_data_25.loc[:,~date_data_25.loc[ix,:].isnull()] \\\n",
    "                                                       .apply(lambda x: x.first_valid_index()).value_counts()) \\\n",
    "                                                       / exit\n",
    "    print('')"
   ]
  },
  {
   "cell_type": "markdown",
   "metadata": {},
   "source": [
    "There is one clear path (entry 1854 + exit at 2178) that is nicely separated from the others, but the others are quite messy. No further separation based on this analysis. In this case set exists and entries manually."
   ]
  },
  {
   "cell_type": "code",
   "execution_count": 30,
   "metadata": {
    "collapsed": true
   },
   "outputs": [],
   "source": [
    "entries25 = [1854, 2179]\n",
    "exits25 = [2178, 3035]"
   ]
  },
  {
   "cell_type": "code",
   "execution_count": 31,
   "metadata": {
    "collapsed": false
   },
   "outputs": [
    {
     "name": "stdout",
     "output_type": "stream",
     "text": [
      "Feature analysis for entry point 1854\n",
      "10 station breaks found: [1867 1883 1887 1891 1898 1902 1980 2058 2098 2138]\n",
      "\n",
      "Feature analysis for entry point 2179\n",
      "30 station breaks found: [2206 2230 2238 2240 2248 2251 2329 2406 2430 2445 2471 2497 2505 2507 2515\n",
      " 2518 2596 2674 2713 2728 2754 2780 2788 2790 2798 2801 2879 2957 2996 3011]\n",
      "\n"
     ]
    },
    {
     "data": {
      "image/png": "[encoded data removed]",
      "text/plain": [
       "<matplotlib.figure.Figure at 0x116ce1950>"
      ]
     },
     "metadata": {},
     "output_type": "display_data"
    },
    {
     "data": {
      "image/png": "[encoded data removed]",
      "text/plain": [
       "<matplotlib.figure.Figure at 0x11b0a8910>"
      ]
     },
     "metadata": {},
     "output_type": "display_data"
    }
   ],
   "source": [
    "# Look for the break points and plot number of samples over the features\n",
    "station_breaks_25 = []\n",
    "for entry, exit in zip(entries25, exits25):\n",
    "    print('Feature analysis for entry point {}'.format(entry))\n",
    "    \n",
    "    df = date_data_25.loc[entry:exit+1, :]\n",
    "    \n",
    "    # Include only samples with at least one value in this range\n",
    "    df = df.loc[:,~(df.isnull().sum(0)==df.shape[0])]\n",
    "    \n",
    "    station_breaks = plot_shifts_and_sample_counts(df, entry)\n",
    "    station_breaks_25.append(station_breaks)\n",
    "    \n",
    "    print('{} station breaks found: {}'.format(len(station_breaks),station_breaks)) \n",
    "    \n",
    "    print('')"
   ]
  },
  {
   "cell_type": "markdown",
   "metadata": {},
   "source": [
    "## Update look-up table with newly determined stations\n",
    "We need to update the look-up table and insert new stations for Station 24 and 25 and update the station after station 25."
   ]
  },
  {
   "cell_type": "code",
   "execution_count": 32,
   "metadata": {
    "collapsed": false
   },
   "outputs": [
    {
     "data": {
      "text/html": [
       "<div>\n",
       "<table border=\"1\" class=\"dataframe\">\n",
       "  <thead>\n",
       "    <tr style=\"text-align: right;\">\n",
       "      <th></th>\n",
       "      <th>line</th>\n",
       "      <th>station</th>\n",
       "      <th>feature_nr</th>\n",
       "      <th>feat_nr_dat</th>\n",
       "      <th>name_dat</th>\n",
       "      <th>name_cat</th>\n",
       "      <th>name_num</th>\n",
       "    </tr>\n",
       "  </thead>\n",
       "  <tbody>\n",
       "    <tr>\n",
       "      <th>0</th>\n",
       "      <td>0</td>\n",
       "      <td>0</td>\n",
       "      <td>0</td>\n",
       "      <td>1.0</td>\n",
       "      <td>L0_S0_D1</td>\n",
       "      <td>NaN</td>\n",
       "      <td>L0_S0_F0</td>\n",
       "    </tr>\n",
       "    <tr>\n",
       "      <th>1</th>\n",
       "      <td>0</td>\n",
       "      <td>0</td>\n",
       "      <td>2</td>\n",
       "      <td>3.0</td>\n",
       "      <td>L0_S0_D3</td>\n",
       "      <td>NaN</td>\n",
       "      <td>L0_S0_F2</td>\n",
       "    </tr>\n",
       "    <tr>\n",
       "      <th>2</th>\n",
       "      <td>0</td>\n",
       "      <td>0</td>\n",
       "      <td>4</td>\n",
       "      <td>5.0</td>\n",
       "      <td>L0_S0_D5</td>\n",
       "      <td>NaN</td>\n",
       "      <td>L0_S0_F4</td>\n",
       "    </tr>\n",
       "    <tr>\n",
       "      <th>3</th>\n",
       "      <td>0</td>\n",
       "      <td>0</td>\n",
       "      <td>6</td>\n",
       "      <td>7.0</td>\n",
       "      <td>L0_S0_D7</td>\n",
       "      <td>NaN</td>\n",
       "      <td>L0_S0_F6</td>\n",
       "    </tr>\n",
       "    <tr>\n",
       "      <th>4</th>\n",
       "      <td>0</td>\n",
       "      <td>0</td>\n",
       "      <td>8</td>\n",
       "      <td>9.0</td>\n",
       "      <td>L0_S0_D9</td>\n",
       "      <td>NaN</td>\n",
       "      <td>L0_S0_F8</td>\n",
       "    </tr>\n",
       "  </tbody>\n",
       "</table>\n",
       "</div>"
      ],
      "text/plain": [
       "   line  station  feature_nr  feat_nr_dat  name_dat name_cat  name_num\n",
       "0     0        0           0          1.0  L0_S0_D1      NaN  L0_S0_F0\n",
       "1     0        0           2          3.0  L0_S0_D3      NaN  L0_S0_F2\n",
       "2     0        0           4          5.0  L0_S0_D5      NaN  L0_S0_F4\n",
       "3     0        0           6          7.0  L0_S0_D7      NaN  L0_S0_F6\n",
       "4     0        0           8          9.0  L0_S0_D9      NaN  L0_S0_F8"
      ]
     },
     "execution_count": 32,
     "metadata": {},
     "output_type": "execute_result"
    }
   ],
   "source": [
    "# Current look up table\n",
    "date_info.head()"
   ]
  },
  {
   "cell_type": "code",
   "execution_count": 33,
   "metadata": {
    "collapsed": true
   },
   "outputs": [],
   "source": [
    "# Create new column for updated verions\n",
    "date_info['station_V2'] = date_info['station']"
   ]
  },
  {
   "cell_type": "markdown",
   "metadata": {},
   "source": [
    "### Insert station 24"
   ]
  },
  {
   "cell_type": "code",
   "execution_count": 34,
   "metadata": {
    "collapsed": false
   },
   "outputs": [
    {
     "data": {
      "text/plain": [
       "line                     1\n",
       "station                 24\n",
       "feature_nr             675\n",
       "feat_nr_dat            NaN\n",
       "name_dat               NaN\n",
       "name_cat       L1_S24_F675\n",
       "name_num               NaN\n",
       "station_V2              24\n",
       "Name: 497, dtype: object"
      ]
     },
     "execution_count": 34,
     "metadata": {},
     "output_type": "execute_result"
    }
   ],
   "source": [
    "# Find first feature of station 24\n",
    "first_feature = date_info[date_info.station==24].iloc[0].feature_nr\n",
    "date_info[date_info.station==24].iloc[0] "
   ]
  },
  {
   "cell_type": "code",
   "execution_count": 35,
   "metadata": {
    "collapsed": false
   },
   "outputs": [
    {
     "data": {
      "text/plain": [
       "line                      1\n",
       "station                  24\n",
       "feature_nr             1850\n",
       "feat_nr_dat            1851\n",
       "name_dat       L1_S24_D1851\n",
       "name_cat                NaN\n",
       "name_num       L1_S24_F1850\n",
       "station_V2               24\n",
       "Name: 1387, dtype: object"
      ]
     },
     "execution_count": 35,
     "metadata": {},
     "output_type": "execute_result"
    }
   ],
   "source": [
    "# Find first feature of station 24\n",
    "last_feature = date_info[date_info.station==24].iloc[-1].feature_nr\n",
    "date_info[date_info.station==24].iloc[-1] "
   ]
  },
  {
   "cell_type": "code",
   "execution_count": 36,
   "metadata": {
    "collapsed": false
   },
   "outputs": [
    {
     "data": {
      "text/plain": [
       "[array([ 697,  702,  801,  804,  807,  813,  818,  909,  999, 1018, 1062]),\n",
       " array([1135, 1158, 1163, 1168, 1171, 1178, 1186, 1277, 1368, 1413, 1457]),\n",
       " array([1522, 1562, 1566, 1568, 1570, 1576, 1583, 1674, 1765, 1809, 1826])]"
      ]
     },
     "execution_count": 36,
     "metadata": {},
     "output_type": "execute_result"
    }
   ],
   "source": [
    "station_breaks_24"
   ]
  },
  {
   "cell_type": "code",
   "execution_count": 37,
   "metadata": {
    "collapsed": false
   },
   "outputs": [],
   "source": [
    "# Update first feature\n",
    "station_nr = 24.1\n",
    "date_info.loc[date_info.feature_nr==first_feature, 'station_V2'] = station_nr"
   ]
  },
  {
   "cell_type": "code",
   "execution_count": 39,
   "metadata": {
    "collapsed": false
   },
   "outputs": [],
   "source": [
    "# Update all features\n",
    "for entry, exit, substations in zip(entries24, exits24, station_breaks_24):\n",
    "    #print('\\nNew substation')\n",
    "    \n",
    "    # Update first entry\n",
    "    #fs = date_info[date_info.feat_nr_dat==entry].feature_nr.values[0]\n",
    "    fe = date_info[date_info.feat_nr_dat==substations[0]].feature_nr.values[0]\n",
    "    date_info.loc[(date_info.feature_nr>first_feature) & (date_info.feature_nr<fe),'station_V2'] = station_nr\n",
    "    \n",
    "    for i in range(substations.shape[0]-1):\n",
    "        station_nr += 0.001\n",
    "        \n",
    "        \n",
    "        #print entry, station_break, station_nr\n",
    "        \n",
    "        # Find feature_number for this range\n",
    "        fs = date_info[date_info.feat_nr_dat==substations[i]].feature_nr.values[0]\n",
    "        fe = date_info[date_info.feat_nr_dat==substations[i+1]].feature_nr.values[0]\n",
    "        \n",
    "        # Update frame\n",
    "        date_info.loc[(date_info.feature_nr>=fs) & (date_info.feature_nr<fe),'station_V2'] = station_nr\n",
    "        \n",
    "        # Prepare next loop\n",
    "        #entry = station_break\n",
    "        first_feature = fe\n",
    "    \n",
    "    # Update last one including exit\n",
    "    fs = date_info[date_info.feat_nr_dat==substations[i+1]].feature_nr.values[0]\n",
    "    fe = date_info[date_info.feat_nr_dat==exit].feature_nr.values[0]\n",
    "    \n",
    "    # Update frame\n",
    "    date_info.loc[(date_info.feature_nr>=fs) & (date_info.feature_nr<=fe),'station_V2'] = station_nr + 0.001\n",
    "    \n",
    "    first_feature = fe\n",
    "    station_nr = round(station_nr + 0.1,1)"
   ]
  },
  {
   "cell_type": "code",
   "execution_count": 40,
   "metadata": {
    "collapsed": true
   },
   "outputs": [],
   "source": [
    "# Update last feature\n",
    "date_info.loc[date_info.feature_nr==last_feature, 'station_V2'] = date_info.loc[date_info.station==24].station_V2.max()"
   ]
  },
  {
   "cell_type": "markdown",
   "metadata": {},
   "source": [
    "### Insert station 25"
   ]
  },
  {
   "cell_type": "code",
   "execution_count": 41,
   "metadata": {
    "collapsed": false
   },
   "outputs": [
    {
     "data": {
      "text/plain": [
       "line                      1\n",
       "station                  25\n",
       "feature_nr             1852\n",
       "feat_nr_dat             NaN\n",
       "name_dat                NaN\n",
       "name_cat       L1_S25_F1852\n",
       "name_num                NaN\n",
       "station_V2               25\n",
       "Name: 1388, dtype: object"
      ]
     },
     "execution_count": 41,
     "metadata": {},
     "output_type": "execute_result"
    }
   ],
   "source": [
    "# Find first feature of station 25\n",
    "first_feature = date_info[date_info.station==25].iloc[0].feature_nr\n",
    "date_info[date_info.station==25].iloc[0] "
   ]
  },
  {
   "cell_type": "code",
   "execution_count": 42,
   "metadata": {
    "collapsed": false
   },
   "outputs": [
    {
     "data": {
      "text/plain": [
       "line                      1\n",
       "station                  25\n",
       "feature_nr             3034\n",
       "feat_nr_dat            3035\n",
       "name_dat       L1_S25_D3035\n",
       "name_cat                NaN\n",
       "name_num       L1_S25_F3034\n",
       "station_V2               25\n",
       "Name: 2253, dtype: object"
      ]
     },
     "execution_count": 42,
     "metadata": {},
     "output_type": "execute_result"
    }
   ],
   "source": [
    "# Find first feature of station 25\n",
    "last_feature = date_info[date_info.station==25].iloc[-1].feature_nr\n",
    "date_info[date_info.station==25].iloc[-1] "
   ]
  },
  {
   "cell_type": "code",
   "execution_count": 43,
   "metadata": {
    "collapsed": false
   },
   "outputs": [
    {
     "data": {
      "text/plain": [
       "[array([1867, 1883, 1887, 1891, 1898, 1902, 1980, 2058, 2098, 2138]),\n",
       " array([2206, 2230, 2238, 2240, 2248, 2251, 2329, 2406, 2430, 2445, 2471,\n",
       "        2497, 2505, 2507, 2515, 2518, 2596, 2674, 2713, 2728, 2754, 2780,\n",
       "        2788, 2790, 2798, 2801, 2879, 2957, 2996, 3011])]"
      ]
     },
     "execution_count": 43,
     "metadata": {},
     "output_type": "execute_result"
    }
   ],
   "source": [
    "station_breaks_25"
   ]
  },
  {
   "cell_type": "code",
   "execution_count": 44,
   "metadata": {
    "collapsed": true
   },
   "outputs": [],
   "source": [
    "# Update first feature\n",
    "station_nr = 25.1\n",
    "date_info.loc[date_info.feature_nr==first_feature, 'station_V2'] = station_nr"
   ]
  },
  {
   "cell_type": "code",
   "execution_count": 45,
   "metadata": {
    "collapsed": true
   },
   "outputs": [],
   "source": [
    "# Update all features\n",
    "for entry, exit, substations in zip(entries25, exits25, station_breaks_25):\n",
    "    #print('\\nNew substation')\n",
    "    \n",
    "    # Update first entry\n",
    "    #fs = date_info[date_info.feat_nr_dat==entry].feature_nr.values[0]\n",
    "    fe = date_info[date_info.feat_nr_dat==substations[0]].feature_nr.values[0]\n",
    "    date_info.loc[(date_info.feature_nr>first_feature) & (date_info.feature_nr<fe),'station_V2'] = station_nr\n",
    "    \n",
    "    for i in range(substations.shape[0]-1):\n",
    "        station_nr += 0.001\n",
    "        \n",
    "        \n",
    "        #print entry, station_break, station_nr\n",
    "        \n",
    "        # Find feature_number for this range\n",
    "        fs = date_info[date_info.feat_nr_dat==substations[i]].feature_nr.values[0]\n",
    "        fe = date_info[date_info.feat_nr_dat==substations[i+1]].feature_nr.values[0]\n",
    "        \n",
    "        # Update frame\n",
    "        date_info.loc[(date_info.feature_nr>=fs) & (date_info.feature_nr<fe),'station_V2'] = station_nr\n",
    "        \n",
    "        # Prepare next loop\n",
    "        #entry = station_break\n",
    "        first_feature = fe\n",
    "    \n",
    "    # Update last one including exit\n",
    "    fs = date_info[date_info.feat_nr_dat==substations[i+1]].feature_nr.values[0]\n",
    "    fe = date_info[date_info.feat_nr_dat==exit].feature_nr.values[0]\n",
    "    \n",
    "    # Update frame\n",
    "    date_info.loc[(date_info.feature_nr>=fs) & (date_info.feature_nr<=fe),'station_V2'] = station_nr + 0.001\n",
    "    \n",
    "    first_feature = fe\n",
    "    station_nr = round(station_nr + 0.1,1)"
   ]
  },
  {
   "cell_type": "code",
   "execution_count": 46,
   "metadata": {
    "collapsed": true
   },
   "outputs": [],
   "source": [
    "# Update last feature\n",
    "date_info.loc[date_info.feature_nr==last_feature, 'station_V2'] = date_info.loc[date_info.station==25].station_V2.max()"
   ]
  },
  {
   "cell_type": "markdown",
   "metadata": {},
   "source": [
    "### Export"
   ]
  },
  {
   "cell_type": "code",
   "execution_count": 47,
   "metadata": {
    "collapsed": true
   },
   "outputs": [],
   "source": [
    "date_info.to_csv(os.path.join(const.DATA_PATH, 'date_feat_lut_V2.csv'), index=False)"
   ]
  },
  {
   "cell_type": "code",
   "execution_count": null,
   "metadata": {
    "collapsed": true
   },
   "outputs": [],
   "source": []
  }
 ],
 "metadata": {
  "kernelspec": {
   "display_name": "Python 2",
   "language": "python",
   "name": "python2"
  },
  "language_info": {
   "codemirror_mode": {
    "name": "ipython",
    "version": 2
   },
   "file_extension": ".py",
   "mimetype": "text/x-python",
   "name": "python",
   "nbconvert_exporter": "python",
   "pygments_lexer": "ipython2",
   "version": "2.7.11"
  }
 },
 "nbformat": 4,
 "nbformat_minor": 0
}
