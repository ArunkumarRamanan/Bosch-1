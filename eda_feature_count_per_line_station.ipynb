{
 "cells": [
  {
   "cell_type": "markdown",
   "metadata": {},
   "source": [
    "# EDA Features per station\n",
    "Purpose of this notebook is to show an analysis of the relation between the line, station and features and to find out whether there is a trend between the Reponse and the line, station or feature.\n",
    "\n",
    "Observation from features per station:\n",
    "- The number of features differs per line, station\n",
    "- Couple of features have the wrong labels\n",
    "- 50%-70% of features do not have a timestamp feature\n",
    "- Some (~30) timestamp features colums do not exist in numeric or categorical train sets\n",
    "    \n",
    "Observations numeric features:\n",
    " - 48% of stations have all timestamps of numeric features\n",
    " - 44% of stations have zero timestamps of numeric features\n",
    " - 8% of stations has between 23% and 50% timestamps\n",
    "\n",
    "Observations categorical features:\n",
    " - 35% of stations have no categorical features\n",
    " - 21% of stations with categorical features have 50% timestamps\n",
    " - 5% of stations with categorical features have 0% timestamps\n",
    " \n",
    "Observation faulty vs. non-faulty:\n",
    " - Most stations are passed by the same amount (relatively) of faulty and non-faulty products.\n",
    " - Couple of stations have significant more faulty products -> this suggests at least a correlation!\n",
    " - The numeric values of the train data have approx zero mean for alle stations for non-faulty product. Several stations have non-zero mean for faulty products.\n",
    " - The variance of the numeric values of the train data is slightly lower for faulty products than non-faulty products. "
   ]
  },
  {
   "cell_type": "code",
   "execution_count": 61,
   "metadata": {
    "collapsed": true
   },
   "outputs": [],
   "source": [
    "import os\n",
    "import re\n",
    "import pickle\n",
    "\n",
    "import numpy as np\n",
    "import pandas as pd\n",
    "\n",
    "import seaborn as sns\n",
    "import matplotlib.pyplot as plt\n",
    "\n",
    "from scipy.sparse import csr_matrix\n",
    "\n",
    "from sklearn.preprocessing import StandardScaler\n",
    "\n",
    "%matplotlib inline\n",
    "\n",
    "# Custom modules\n",
    "import const\n",
    "import func"
   ]
  },
  {
   "cell_type": "markdown",
   "metadata": {},
   "source": [
    "## Load data\n",
    "Line, station, feature info is extracted from the column labels in the train data sets. Output is three dataframes with the line, station and feature_nr for each of the train data sets."
   ]
  },
  {
   "cell_type": "code",
   "execution_count": 3,
   "metadata": {
    "collapsed": false
   },
   "outputs": [],
   "source": [
    "def get_columns_csv(csv_file):\n",
    "    ''' gets data columns for csv file identifier '''\n",
    "    cols = list(pd.read_csv(os.path.join(const.BASE_PATH, csv_file + '.csv'), \n",
    "                              nrows=1,\n",
    "                              index_col=0,\n",
    "                             dtype=np.float32).columns)\n",
    "    #print cols\n",
    "    \n",
    "    if 'Response' in cols:\n",
    "        cols.remove('Response')\n",
    "    \n",
    "    \n",
    "    return cols\n",
    "\n",
    "def col_name_to_station_info(col_names):\n",
    "    return [[int(i) for i in re.findall(r'\\d+', col_name)] for col_name in col_names]\n",
    "\n",
    "def get_station_info(csv_file):\n",
    "    ''' extracts line and station info from list of columns '''\n",
    "    \n",
    "    cols = get_columns_csv(csv_file)\n",
    "    \n",
    "    station_info = [[int(i) for i in re.findall(r'\\d+', col_name)] for col_name in cols]\n",
    "    station_info = pd.DataFrame(station_info, columns=['line', 'station', 'feature_nr'])\n",
    "    \n",
    "    return station_info"
   ]
  },
  {
   "cell_type": "code",
   "execution_count": 8,
   "metadata": {
    "collapsed": false
   },
   "outputs": [
    {
     "data": {
      "text/plain": [
       "['train_numeric', 'train_categorical_to_num', 'train_date']"
      ]
     },
     "execution_count": 8,
     "metadata": {},
     "output_type": "execute_result"
    }
   ],
   "source": [
    "const.TRAIN_FILES"
   ]
  },
  {
   "cell_type": "code",
   "execution_count": 9,
   "metadata": {
    "collapsed": false
   },
   "outputs": [],
   "source": [
    "[num_info, cat_info, date_info] = [get_station_info(f) for f in const.TRAIN_FILES]\n",
    "\n",
    "# Date features refer to numeric/categorical features\n",
    "date_info['ref_feat_nr'] = date_info['feature_nr'] - 1"
   ]
  },
  {
   "cell_type": "code",
   "execution_count": 10,
   "metadata": {
    "collapsed": false
   },
   "outputs": [
    {
     "data": {
      "text/html": [
       "<div>\n",
       "<table border=\"1\" class=\"dataframe\">\n",
       "  <thead>\n",
       "    <tr style=\"text-align: right;\">\n",
       "      <th></th>\n",
       "      <th>line</th>\n",
       "      <th>station</th>\n",
       "      <th>feature_nr</th>\n",
       "    </tr>\n",
       "  </thead>\n",
       "  <tbody>\n",
       "    <tr>\n",
       "      <th>0</th>\n",
       "      <td>0</td>\n",
       "      <td>1</td>\n",
       "      <td>25</td>\n",
       "    </tr>\n",
       "    <tr>\n",
       "      <th>1</th>\n",
       "      <td>0</td>\n",
       "      <td>1</td>\n",
       "      <td>27</td>\n",
       "    </tr>\n",
       "    <tr>\n",
       "      <th>2</th>\n",
       "      <td>0</td>\n",
       "      <td>1</td>\n",
       "      <td>29</td>\n",
       "    </tr>\n",
       "    <tr>\n",
       "      <th>3</th>\n",
       "      <td>0</td>\n",
       "      <td>1</td>\n",
       "      <td>31</td>\n",
       "    </tr>\n",
       "    <tr>\n",
       "      <th>4</th>\n",
       "      <td>0</td>\n",
       "      <td>2</td>\n",
       "      <td>33</td>\n",
       "    </tr>\n",
       "  </tbody>\n",
       "</table>\n",
       "</div>"
      ],
      "text/plain": [
       "   line  station  feature_nr\n",
       "0     0        1          25\n",
       "1     0        1          27\n",
       "2     0        1          29\n",
       "3     0        1          31\n",
       "4     0        2          33"
      ]
     },
     "execution_count": 10,
     "metadata": {},
     "output_type": "execute_result"
    }
   ],
   "source": [
    "cat_info.head()"
   ]
  },
  {
   "cell_type": "markdown",
   "metadata": {},
   "source": [
    "### Analyze and aggregate line/station info\n",
    "Aggregate on line & station level to get an idea of distribution of features over the different lines. First count the number of features per line for each of the datasets."
   ]
  },
  {
   "cell_type": "code",
   "execution_count": 11,
   "metadata": {
    "collapsed": false
   },
   "outputs": [
    {
     "data": {
      "text/plain": [
       "1    513\n",
       "3    245\n",
       "0    168\n",
       "2     42\n",
       "Name: line, dtype: int64"
      ]
     },
     "execution_count": 11,
     "metadata": {},
     "output_type": "execute_result"
    }
   ],
   "source": [
    "# Number of stations differs per line, so lines are different\n",
    "num_info.line.value_counts()"
   ]
  },
  {
   "cell_type": "code",
   "execution_count": 12,
   "metadata": {
    "collapsed": false
   },
   "outputs": [
    {
     "data": {
      "text/plain": [
       "1    1227\n",
       "3     431\n",
       "0     323\n",
       "2     159\n",
       "Name: line, dtype: int64"
      ]
     },
     "execution_count": 12,
     "metadata": {},
     "output_type": "execute_result"
    }
   ],
   "source": [
    "cat_info.line.value_counts()"
   ]
  },
  {
   "cell_type": "code",
   "execution_count": 13,
   "metadata": {
    "collapsed": false
   },
   "outputs": [
    {
     "data": {
      "text/plain": [
       "1    621\n",
       "3    273\n",
       "0    184\n",
       "2     78\n",
       "Name: line, dtype: int64"
      ]
     },
     "execution_count": 13,
     "metadata": {},
     "output_type": "execute_result"
    }
   ],
   "source": [
    "date_info.line.value_counts()"
   ]
  },
  {
   "cell_type": "markdown",
   "metadata": {},
   "source": [
    "The date set has more features than the numeric, but less than the categorical. This means that a significant amount of the features has no timestamp. Questions is why and can the missing timestamps be imputed? Some lines have significant more features than others. This question will be further analyze below."
   ]
  },
  {
   "cell_type": "markdown",
   "metadata": {},
   "source": [
    "First create an aggregated dataframe with the feature count of each dataset per line and per station."
   ]
  },
  {
   "cell_type": "code",
   "execution_count": 15,
   "metadata": {
    "collapsed": false
   },
   "outputs": [
    {
     "data": {
      "text/html": [
       "<div>\n",
       "<table border=\"1\" class=\"dataframe\">\n",
       "  <thead>\n",
       "    <tr style=\"text-align: right;\">\n",
       "      <th></th>\n",
       "      <th></th>\n",
       "      <th>n_feat_num</th>\n",
       "      <th>n_feat_cat</th>\n",
       "      <th>n_feat_date</th>\n",
       "    </tr>\n",
       "    <tr>\n",
       "      <th>line</th>\n",
       "      <th>station</th>\n",
       "      <th></th>\n",
       "      <th></th>\n",
       "      <th></th>\n",
       "    </tr>\n",
       "  </thead>\n",
       "  <tbody>\n",
       "    <tr>\n",
       "      <th rowspan=\"5\" valign=\"top\">0</th>\n",
       "      <th>0</th>\n",
       "      <td>12.0</td>\n",
       "      <td>0.0</td>\n",
       "      <td>12</td>\n",
       "    </tr>\n",
       "    <tr>\n",
       "      <th>1</th>\n",
       "      <td>2.0</td>\n",
       "      <td>4.0</td>\n",
       "      <td>2</td>\n",
       "    </tr>\n",
       "    <tr>\n",
       "      <th>2</th>\n",
       "      <td>9.0</td>\n",
       "      <td>18.0</td>\n",
       "      <td>9</td>\n",
       "    </tr>\n",
       "    <tr>\n",
       "      <th>3</th>\n",
       "      <td>9.0</td>\n",
       "      <td>18.0</td>\n",
       "      <td>9</td>\n",
       "    </tr>\n",
       "    <tr>\n",
       "      <th>4</th>\n",
       "      <td>2.0</td>\n",
       "      <td>6.0</td>\n",
       "      <td>2</td>\n",
       "    </tr>\n",
       "  </tbody>\n",
       "</table>\n",
       "</div>"
      ],
      "text/plain": [
       "              n_feat_num  n_feat_cat  n_feat_date\n",
       "line station                                     \n",
       "0    0              12.0         0.0           12\n",
       "     1               2.0         4.0            2\n",
       "     2               9.0        18.0            9\n",
       "     3               9.0        18.0            9\n",
       "     4               2.0         6.0            2"
      ]
     },
     "execution_count": 15,
     "metadata": {},
     "output_type": "execute_result"
    }
   ],
   "source": [
    "station_info = pd.concat([num_info.groupby(['line','station']).feature_nr.agg({'n_feat_num':'count'}),\n",
    "                        cat_info.groupby(['line','station']).feature_nr.agg({'n_feat_cat':'count'}),\n",
    "                        date_info.groupby(['line','station']).feature_nr.agg({'n_feat_date':'count'})],\n",
    "                       axis=1).fillna(0)\n",
    "station_info.head()                    "
   ]
  },
  {
   "cell_type": "markdown",
   "metadata": {},
   "source": [
    "### Why are there sometimes more date features than numeric features?"
   ]
  },
  {
   "cell_type": "markdown",
   "metadata": {},
   "source": [
    "Take as first example line number 0 and station number 6.\n",
    "\n",
    "This station has 3 numeric features, 10 categorical features, but only five date features that all refer to the categorical features. The date features skip one feature every time, so that might be a clue that this info can be imputed. No timestamps from the numeric available for this station."
   ]
  },
  {
   "cell_type": "code",
   "execution_count": 16,
   "metadata": {
    "collapsed": false
   },
   "outputs": [
    {
     "name": "stdout",
     "output_type": "stream",
     "text": [
      "Numeric features\n",
      "    line  station  feature_nr\n",
      "36     0        6         118\n",
      "37     0        6         122\n",
      "38     0        6         132\n",
      "Categorical features\n",
      "    line  station  feature_nr\n",
      "46     0        6         119\n",
      "47     0        6         121\n",
      "48     0        6         123\n",
      "49     0        6         125\n",
      "50     0        6         126\n",
      "51     0        6         128\n",
      "52     0        6         129\n",
      "53     0        6         131\n",
      "54     0        6         133\n",
      "55     0        6         135\n",
      "Date features\n",
      "    line  station  feature_nr  ref_feat_nr\n",
      "36     0        6         120          119\n",
      "37     0        6         124          123\n",
      "38     0        6         127          126\n",
      "39     0        6         130          129\n",
      "40     0        6         134          133\n"
     ]
    }
   ],
   "source": [
    "line_nr = 0\n",
    "stat_nr = 6\n",
    "print 'Numeric features'\n",
    "print num_info[ (num_info.line==line_nr) & (num_info.station==stat_nr)]\n",
    "print 'Categorical features'\n",
    "print cat_info[ (cat_info.line==line_nr) & (cat_info.station==stat_nr)]\n",
    "print 'Date features'\n",
    "print date_info[ (date_info.line==line_nr) & (date_info.station==stat_nr)]"
   ]
  },
  {
   "cell_type": "markdown",
   "metadata": {},
   "source": [
    "Another, weird, example. This one has no categorical features, 4 numeric features and 6 date features. So there are more data features than numeric features? Are they maybe wrongly labeled and do they belong to a different station?"
   ]
  },
  {
   "cell_type": "code",
   "execution_count": 17,
   "metadata": {
    "collapsed": false
   },
   "outputs": [
    {
     "name": "stdout",
     "output_type": "stream",
     "text": [
      "Numeric features\n",
      "     line  station  feature_nr\n",
      "879     3       37        3944\n",
      "880     3       37        3946\n",
      "881     3       37        3948\n",
      "882     3       37        3950\n",
      "Categorical features\n",
      "Empty DataFrame\n",
      "Columns: [line, station, feature_nr]\n",
      "Index: []\n",
      "Date features\n",
      "      line  station  feature_nr  ref_feat_nr\n",
      "1050     3       37        3942         3941\n",
      "1051     3       37        3943         3942\n",
      "1052     3       37        3945         3944\n",
      "1053     3       37        3947         3946\n",
      "1054     3       37        3949         3948\n",
      "1055     3       37        3951         3950\n"
     ]
    }
   ],
   "source": [
    "line_nr = 3\n",
    "stat_nr = 37\n",
    "print 'Numeric features'\n",
    "print num_info[ (num_info.line==line_nr) & (num_info.station==stat_nr)]\n",
    "print 'Categorical features'\n",
    "print cat_info[ (cat_info.line==line_nr) & (cat_info.station==stat_nr)]\n",
    "print 'Date features'\n",
    "print date_info[ (date_info.line==line_nr) & (date_info.station==stat_nr)]"
   ]
  },
  {
   "cell_type": "code",
   "execution_count": 25,
   "metadata": {
    "collapsed": false
   },
   "outputs": [
    {
     "name": "stdout",
     "output_type": "stream",
     "text": [
      "Empty DataFrame\n",
      "Columns: [line, station, feature_nr]\n",
      "Index: []\n",
      "      line  station  feature_nr\n",
      "2012     3       36        3941\n"
     ]
    }
   ],
   "source": [
    "# Check whether these features were mislabeled and maybe there are found in different stations\n",
    "print num_info[num_info.feature_nr==3941]\n",
    "print cat_info[cat_info.feature_nr==3941]"
   ]
  },
  {
   "cell_type": "code",
   "execution_count": 26,
   "metadata": {
    "collapsed": false
   },
   "outputs": [
    {
     "name": "stdout",
     "output_type": "stream",
     "text": [
      "Empty DataFrame\n",
      "Columns: [line, station, feature_nr]\n",
      "Index: []\n",
      "Empty DataFrame\n",
      "Columns: [line, station, feature_nr]\n",
      "Index: []\n"
     ]
    }
   ],
   "source": [
    "# Check whether these features were mislabeled and maybe there are found in different stations\n",
    "print num_info[num_info.feature_nr==3942]\n",
    "print cat_info[cat_info.feature_nr==3942]"
   ]
  },
  {
   "cell_type": "markdown",
   "metadata": {},
   "source": [
    "So one of them was wrongly labeled and the other is not present in all datasets. Let's get an overview on whole train set level."
   ]
  },
  {
   "cell_type": "code",
   "execution_count": 27,
   "metadata": {
    "collapsed": false
   },
   "outputs": [
    {
     "name": "stdout",
     "output_type": "stream",
     "text": [
      "Numeric: 602 of 968 features do not have a timestamp\n",
      "Categorical: 1381 of 2140 features do not have a timestamp\n",
      "Date: 31 of 2140 features do not refer to numeric/categorical features\n"
     ]
    }
   ],
   "source": [
    "print('Numeric: {} of {} features do not have a timestamp'. \\\n",
    "          format(len(set(num_info.feature_nr.values) - set(date_info.ref_feat_nr.values)),\n",
    "                 num_info.shape[0]))\n",
    "print('Categorical: {} of {} features do not have a timestamp'. \\\n",
    "          format(len(set(cat_info.feature_nr.values) - set(date_info.ref_feat_nr.values)),\n",
    "                 cat_info.shape[0]))\n",
    "print('Date: {} of {} features do not refer to numeric/categorical features'. \\\n",
    "          format(len(set(date_info.ref_feat_nr.values) - set(cat_info.feature_nr.values) - set(num_info.feature_nr.values)),\n",
    "                 cat_info.shape[0]))"
   ]
  },
  {
   "cell_type": "markdown",
   "metadata": {},
   "source": [
    "There are different gaps between feature numbers. Might be interesting to double check the test set."
   ]
  },
  {
   "cell_type": "code",
   "execution_count": 38,
   "metadata": {
    "collapsed": false
   },
   "outputs": [
    {
     "data": {
      "text/plain": [
       "5     437\n",
       "4     176\n",
       "3      73\n",
       "2      20\n",
       "7       7\n",
       "15      6\n",
       "21      4\n",
       "23      4\n",
       "26      3\n",
       "9       3\n",
       "18      3\n",
       "11      2\n",
       "22      2\n",
       "27      2\n",
       "32      1\n",
       "49      1\n",
       "46      1\n",
       "38      1\n",
       "6       1\n",
       "34      1\n",
       "8       1\n",
       "24      1\n",
       "10      1\n",
       "13      1\n",
       "14      1\n",
       "31      1\n",
       "17      1\n",
       "51      1\n",
       "30      1\n",
       "67      1\n",
       "dtype: int64"
      ]
     },
     "execution_count": 38,
     "metadata": {},
     "output_type": "execute_result"
    }
   ],
   "source": [
    "# Plot value counts of gaps between feature numbers. \n",
    "pd.Series(np.diff(sorted(list(set(cat_info.feature_nr.values) & set(date_info.ref_feat_nr.values))))).value_counts()"
   ]
  },
  {
   "cell_type": "markdown",
   "metadata": {},
   "source": [
    "### Calculate per station amount of features with timestamp\n",
    "Calculate some more information about the stations. Add the relative amount of features with timestamp for categorical and numeric timestamps features."
   ]
  },
  {
   "cell_type": "code",
   "execution_count": 43,
   "metadata": {
    "collapsed": false
   },
   "outputs": [],
   "source": [
    "def timestap_coverage_per_station(x, date_info, num_info, cat_info):\n",
    "    line_nr = x.name[0]\n",
    "    station_nr = x.name[1]\n",
    "    \n",
    "    #print line_nr, station_nr\n",
    "    feat_with_timestamp = date_info[ (date_info.line==line_nr) & (date_info.station==station_nr)].ref_feat_nr.values\n",
    "    \n",
    "    #print feat_with_timestamp\n",
    "    num_with_timestamp = ((num_info.line==line_nr) & \\\n",
    "                          (num_info.station==station_nr) & \\\n",
    "                          (num_info.feature_nr.isin(feat_with_timestamp)))\n",
    "    cat_with_timestamp = ((cat_info.line==line_nr) & \\\n",
    "                          (cat_info.station==station_nr) & \\\n",
    "                          (cat_info.feature_nr.isin(feat_with_timestamp)))\n",
    "    t_without_cat_num = len(set(feat_with_timestamp) - \\\n",
    "                            set(num_info[num_with_timestamp].feature_nr) - \\\n",
    "                            set(cat_info[cat_with_timestamp].feature_nr))\n",
    "    \n",
    "    #print x['n_feat_num'],x['n_feat_cat']\n",
    "    #print num_with_timestamp,cat_with_timestamp\n",
    "    \n",
    "    \n",
    "    r_num = float(num_with_timestamp.sum()) / x['n_feat_num'] if x['n_feat_num']>0 else 0\n",
    "    r_cat = float(cat_with_timestamp.sum()) / x['n_feat_cat'] if x['n_feat_cat']>0 else 0\n",
    "    r_no = float(t_without_cat_num) \n",
    "    \n",
    "    #print r_num, r_cat\n",
    "\n",
    "    return pd.Series({'feat_cat_w_t': r_cat, 'feat_num_w_t': r_num, 'feat_t_wo_cn': r_no}).fillna(0).round(2)"
   ]
  },
  {
   "cell_type": "code",
   "execution_count": 44,
   "metadata": {
    "collapsed": false
   },
   "outputs": [],
   "source": [
    "station_info[['feat_cat_w_t','feat_num_w_t','feat_t_wo_ct']] = \\\n",
    "    station_info.apply(lambda x: timestap_coverage_per_station(x, date_info, num_info, cat_info), axis=1)"
   ]
  },
  {
   "cell_type": "code",
   "execution_count": 54,
   "metadata": {
    "collapsed": false
   },
   "outputs": [
    {
     "data": {
      "text/html": [
       "<div>\n",
       "<table border=\"1\" class=\"dataframe\">\n",
       "  <thead>\n",
       "    <tr style=\"text-align: right;\">\n",
       "      <th></th>\n",
       "      <th></th>\n",
       "      <th>n_feat_num</th>\n",
       "      <th>n_feat_cat</th>\n",
       "      <th>n_feat_date</th>\n",
       "      <th>feat_cat_w_t</th>\n",
       "      <th>feat_num_w_t</th>\n",
       "      <th>feat_t_wo_ct</th>\n",
       "    </tr>\n",
       "    <tr>\n",
       "      <th>line</th>\n",
       "      <th>station</th>\n",
       "      <th></th>\n",
       "      <th></th>\n",
       "      <th></th>\n",
       "      <th></th>\n",
       "      <th></th>\n",
       "      <th></th>\n",
       "    </tr>\n",
       "  </thead>\n",
       "  <tbody>\n",
       "    <tr>\n",
       "      <th rowspan=\"5\" valign=\"top\">0</th>\n",
       "      <th>0</th>\n",
       "      <td>12.0</td>\n",
       "      <td>0.0</td>\n",
       "      <td>12</td>\n",
       "      <td>0.00</td>\n",
       "      <td>1.0</td>\n",
       "      <td>0.0</td>\n",
       "    </tr>\n",
       "    <tr>\n",
       "      <th>1</th>\n",
       "      <td>2.0</td>\n",
       "      <td>4.0</td>\n",
       "      <td>2</td>\n",
       "      <td>0.50</td>\n",
       "      <td>0.0</td>\n",
       "      <td>0.0</td>\n",
       "    </tr>\n",
       "    <tr>\n",
       "      <th>2</th>\n",
       "      <td>9.0</td>\n",
       "      <td>18.0</td>\n",
       "      <td>9</td>\n",
       "      <td>0.50</td>\n",
       "      <td>0.0</td>\n",
       "      <td>0.0</td>\n",
       "    </tr>\n",
       "    <tr>\n",
       "      <th>3</th>\n",
       "      <td>9.0</td>\n",
       "      <td>18.0</td>\n",
       "      <td>9</td>\n",
       "      <td>0.50</td>\n",
       "      <td>0.0</td>\n",
       "      <td>0.0</td>\n",
       "    </tr>\n",
       "    <tr>\n",
       "      <th>4</th>\n",
       "      <td>2.0</td>\n",
       "      <td>6.0</td>\n",
       "      <td>2</td>\n",
       "      <td>0.33</td>\n",
       "      <td>0.0</td>\n",
       "      <td>0.0</td>\n",
       "    </tr>\n",
       "  </tbody>\n",
       "</table>\n",
       "</div>"
      ],
      "text/plain": [
       "              n_feat_num  n_feat_cat  n_feat_date  feat_cat_w_t  feat_num_w_t  \\\n",
       "line station                                                                    \n",
       "0    0              12.0         0.0           12          0.00           1.0   \n",
       "     1               2.0         4.0            2          0.50           0.0   \n",
       "     2               9.0        18.0            9          0.50           0.0   \n",
       "     3               9.0        18.0            9          0.50           0.0   \n",
       "     4               2.0         6.0            2          0.33           0.0   \n",
       "\n",
       "              feat_t_wo_ct  \n",
       "line station                \n",
       "0    0                 0.0  \n",
       "     1                 0.0  \n",
       "     2                 0.0  \n",
       "     3                 0.0  \n",
       "     4                 0.0  "
      ]
     },
     "execution_count": 54,
     "metadata": {},
     "output_type": "execute_result"
    }
   ],
   "source": [
    "station_info.head()"
   ]
  },
  {
   "cell_type": "code",
   "execution_count": 50,
   "metadata": {
    "collapsed": false
   },
   "outputs": [
    {
     "data": {
      "text/plain": [
       "<matplotlib.axes._subplots.AxesSubplot at 0x11a731ad0>"
      ]
     },
     "execution_count": 50,
     "metadata": {},
     "output_type": "execute_result"
    },
    {
     "data": {
      "image/png": "[encoded data removed]",
      "text/plain": [
       "<matplotlib.figure.Figure at 0x11a731410>"
      ]
     },
     "metadata": {},
     "output_type": "display_data"
    }
   ],
   "source": [
    "# Line 0\n",
    "line_nr = 0\n",
    "station_info.loc[line_nr,['n_feat_num','n_feat_cat']].plot(kind='bar', figsize=(16,6))\n",
    "#station_info.n_feat_cat.plot(kind='bar', figsize=(16,6))"
   ]
  },
  {
   "cell_type": "code",
   "execution_count": 51,
   "metadata": {
    "collapsed": false
   },
   "outputs": [
    {
     "data": {
      "text/plain": [
       "<matplotlib.axes._subplots.AxesSubplot at 0x11aa84690>"
      ]
     },
     "execution_count": 51,
     "metadata": {},
     "output_type": "execute_result"
    },
    {
     "data": {
      "image/png": "[encoded data removed]",
      "text/plain": [
       "<matplotlib.figure.Figure at 0x11aad4990>"
      ]
     },
     "metadata": {},
     "output_type": "display_data"
    }
   ],
   "source": [
    "# Line 1 and 2\n",
    "station_info.loc[1:2,['n_feat_num','n_feat_cat']].plot(kind='bar', figsize=(16,6))\n",
    "#station_info.n_feat_cat.plot(kind='bar', figsize=(16,6))"
   ]
  },
  {
   "cell_type": "code",
   "execution_count": 52,
   "metadata": {
    "collapsed": false
   },
   "outputs": [
    {
     "data": {
      "text/plain": [
       "<matplotlib.axes._subplots.AxesSubplot at 0x11ab6e610>"
      ]
     },
     "execution_count": 52,
     "metadata": {},
     "output_type": "execute_result"
    },
    {
     "data": {
      "image/png": "[encoded data removed]",
      "text/plain": [
       "<matplotlib.figure.Figure at 0x11ab7f150>"
      ]
     },
     "metadata": {},
     "output_type": "display_data"
    }
   ],
   "source": [
    "# Line 2 and 3\n",
    "station_info.loc[3,['n_feat_num','n_feat_cat']].plot(kind='bar', figsize=(16,6))\n"
   ]
  },
  {
   "cell_type": "code",
   "execution_count": 55,
   "metadata": {
    "collapsed": false
   },
   "outputs": [
    {
     "data": {
      "text/plain": [
       "1.00    25\n",
       "0.00    23\n",
       "0.31     1\n",
       "0.23     1\n",
       "0.50     1\n",
       "0.25     1\n",
       "Name: feat_num_w_t, dtype: int64"
      ]
     },
     "execution_count": 55,
     "metadata": {},
     "output_type": "execute_result"
    }
   ],
   "source": [
    "station_info['feat_num_w_t'].value_counts()"
   ]
  },
  {
   "cell_type": "code",
   "execution_count": 56,
   "metadata": {
    "collapsed": false
   },
   "outputs": [
    {
     "data": {
      "text/plain": [
       "0.33    14\n",
       "0.50    11\n",
       "0.23     3\n",
       "0.00     3\n",
       "0.40     1\n",
       "0.16     1\n",
       "0.35     1\n",
       "Name: feat_cat_w_t, dtype: int64"
      ]
     },
     "execution_count": 56,
     "metadata": {},
     "output_type": "execute_result"
    }
   ],
   "source": [
    "station_info.loc[station_info['n_feat_cat']>0,'feat_cat_w_t'].value_counts()"
   ]
  },
  {
   "cell_type": "markdown",
   "metadata": {},
   "source": [
    "### Are the feature numbers consistent?"
   ]
  },
  {
   "cell_type": "markdown",
   "metadata": {},
   "source": [
    "There are no common feature_nr in the three data sets...so that is consistent."
   ]
  },
  {
   "cell_type": "code",
   "execution_count": 57,
   "metadata": {
    "collapsed": false
   },
   "outputs": [
    {
     "name": "stdout",
     "output_type": "stream",
     "text": [
      "0\n",
      "0\n",
      "0\n"
     ]
    }
   ],
   "source": [
    "print(len(set(date_info.feature_nr.values) & set(cat_info.feature_nr.values)))\n",
    "print(len(set(date_info.feature_nr.values) & set(num_info.feature_nr.values)))\n",
    "print(len(set(num_info.feature_nr.values) & set(cat_info.feature_nr.values)))"
   ]
  },
  {
   "cell_type": "markdown",
   "metadata": {},
   "source": [
    "The combined feature numbers increase monotomically by 1...also consistent!"
   ]
  },
  {
   "cell_type": "code",
   "execution_count": 58,
   "metadata": {
    "collapsed": true
   },
   "outputs": [],
   "source": [
    "all_feat_nr = (set(date_info.feature_nr.values) | set(cat_info.feature_nr.values) | set(num_info.feature_nr.values))"
   ]
  },
  {
   "cell_type": "code",
   "execution_count": 59,
   "metadata": {
    "collapsed": false
   },
   "outputs": [
    {
     "data": {
      "text/plain": [
       "1"
      ]
     },
     "execution_count": 59,
     "metadata": {},
     "output_type": "execute_result"
    }
   ],
   "source": [
    "(max(all_feat_nr) - min(all_feat_nr) + 1) / len(all_feat_nr)"
   ]
  },
  {
   "cell_type": "markdown",
   "metadata": {
    "collapsed": true
   },
   "source": [
    "## Estimate number of faults per station for numeric features"
   ]
  },
  {
   "cell_type": "code",
   "execution_count": 66,
   "metadata": {
    "collapsed": false
   },
   "outputs": [
    {
     "name": "stdout",
     "output_type": "stream",
     "text": [
      "Returning <open file '/Volumes/My Book/kaggle_bosch/train_numeric.pkl', mode 'rb' at 0x11bfa2c00>\n"
     ]
    }
   ],
   "source": [
    "dat_num = func.load_data_file('train_numeric')\n",
    "\n",
    "# Get response data and ids\n",
    "y = dat_num['data']['y']\n",
    "ids = dat_num['data']['ids']\n",
    "\n",
    "# Get sample nr of faulty responses\n",
    "fault_ids = y[y.Response==1]\n",
    "fault_sample_nr = ids[ids.Id.isin(fault_ids.index)].index.values"
   ]
  },
  {
   "cell_type": "code",
   "execution_count": 67,
   "metadata": {
    "collapsed": false
   },
   "outputs": [],
   "source": [
    "# Use SKLearn StandardScaler to efficiently get the mean and std of the values of the numeric data of each feature\n",
    "all_scaler = StandardScaler(with_mean=False).fit(dat_num['data']['features'])\n",
    "fault_scaler = StandardScaler(with_mean=False).fit(dat_num['data']['features'][fault_sample_nr,:])"
   ]
  },
  {
   "cell_type": "code",
   "execution_count": 88,
   "metadata": {
    "collapsed": false
   },
   "outputs": [],
   "source": [
    "num_info['prod_passed'] = np.bincount(dat_num['data']['features'].indices)\n",
    "num_info['prod_passed_rel'] = num_info['prod_passed'].astype(float) / y.shape[0]\n",
    "num_info['prod_passed_val_m'] = all_scaler.mean_\n",
    "num_info['prod_passed_val_var'] = all_scaler.var_\n",
    "num_info['prod_passed_fault'] = np.bincount(dat_num['data']['features'][fault_sample_nr,:].indices)\n",
    "num_info['prod_passed_fault_rel'] = num_info['prod_passed_fault'].astype(float) / fault_ids.shape[0]\n",
    "num_info['prod_passed_fault_val_m'] = fault_scaler.mean_\n",
    "num_info['prod_passed_fault_val_var'] = fault_scaler.var_\n",
    "num_info['ratio_fault'] = num_info['prod_passed_fault'] / num_info['prod_passed']"
   ]
  },
  {
   "cell_type": "code",
   "execution_count": 89,
   "metadata": {
    "collapsed": false
   },
   "outputs": [
    {
     "data": {
      "text/html": [
       "<div>\n",
       "<table border=\"1\" class=\"dataframe\">\n",
       "  <thead>\n",
       "    <tr style=\"text-align: right;\">\n",
       "      <th></th>\n",
       "      <th>line</th>\n",
       "      <th>station</th>\n",
       "      <th>feature_nr</th>\n",
       "      <th>prod_passed</th>\n",
       "      <th>prod_passed_rel</th>\n",
       "      <th>prod_passed_val_m</th>\n",
       "      <th>prod_passed_val_std</th>\n",
       "      <th>prod_passed_fault</th>\n",
       "      <th>prod_passed_fault_rel</th>\n",
       "      <th>ratio_fault</th>\n",
       "      <th>prod_passed_fault_val_m</th>\n",
       "      <th>prod_passed_fault_val_std</th>\n",
       "      <th>prod_passed_val_var</th>\n",
       "      <th>prod_passed_fault_val_var</th>\n",
       "    </tr>\n",
       "  </thead>\n",
       "  <tbody>\n",
       "    <tr>\n",
       "      <th>0</th>\n",
       "      <td>0</td>\n",
       "      <td>0</td>\n",
       "      <td>0</td>\n",
       "      <td>673862</td>\n",
       "      <td>0.569262</td>\n",
       "      <td>0.000031</td>\n",
       "      <td>0.003663</td>\n",
       "      <td>3608</td>\n",
       "      <td>0.524495</td>\n",
       "      <td>0.005354</td>\n",
       "      <td>-0.000209</td>\n",
       "      <td>0.003160</td>\n",
       "      <td>0.003663</td>\n",
       "      <td>0.003160</td>\n",
       "    </tr>\n",
       "    <tr>\n",
       "      <th>1</th>\n",
       "      <td>0</td>\n",
       "      <td>0</td>\n",
       "      <td>2</td>\n",
       "      <td>673862</td>\n",
       "      <td>0.569262</td>\n",
       "      <td>0.000052</td>\n",
       "      <td>0.004902</td>\n",
       "      <td>3608</td>\n",
       "      <td>0.524495</td>\n",
       "      <td>0.005354</td>\n",
       "      <td>0.000729</td>\n",
       "      <td>0.004281</td>\n",
       "      <td>0.004902</td>\n",
       "      <td>0.004281</td>\n",
       "    </tr>\n",
       "    <tr>\n",
       "      <th>2</th>\n",
       "      <td>0</td>\n",
       "      <td>0</td>\n",
       "      <td>4</td>\n",
       "      <td>673862</td>\n",
       "      <td>0.569262</td>\n",
       "      <td>0.000023</td>\n",
       "      <td>0.025469</td>\n",
       "      <td>3608</td>\n",
       "      <td>0.524495</td>\n",
       "      <td>0.005354</td>\n",
       "      <td>-0.016215</td>\n",
       "      <td>0.020965</td>\n",
       "      <td>0.025469</td>\n",
       "      <td>0.020965</td>\n",
       "    </tr>\n",
       "    <tr>\n",
       "      <th>3</th>\n",
       "      <td>0</td>\n",
       "      <td>0</td>\n",
       "      <td>6</td>\n",
       "      <td>673862</td>\n",
       "      <td>0.569262</td>\n",
       "      <td>0.000008</td>\n",
       "      <td>0.025497</td>\n",
       "      <td>3608</td>\n",
       "      <td>0.524495</td>\n",
       "      <td>0.005354</td>\n",
       "      <td>-0.016067</td>\n",
       "      <td>0.021038</td>\n",
       "      <td>0.025497</td>\n",
       "      <td>0.021038</td>\n",
       "    </tr>\n",
       "    <tr>\n",
       "      <th>4</th>\n",
       "      <td>0</td>\n",
       "      <td>0</td>\n",
       "      <td>8</td>\n",
       "      <td>673862</td>\n",
       "      <td>0.569262</td>\n",
       "      <td>-0.000072</td>\n",
       "      <td>0.005090</td>\n",
       "      <td>3608</td>\n",
       "      <td>0.524495</td>\n",
       "      <td>0.005354</td>\n",
       "      <td>0.001804</td>\n",
       "      <td>0.004821</td>\n",
       "      <td>0.005090</td>\n",
       "      <td>0.004821</td>\n",
       "    </tr>\n",
       "  </tbody>\n",
       "</table>\n",
       "</div>"
      ],
      "text/plain": [
       "   line  station  feature_nr  prod_passed  prod_passed_rel  prod_passed_val_m  \\\n",
       "0     0        0           0       673862         0.569262           0.000031   \n",
       "1     0        0           2       673862         0.569262           0.000052   \n",
       "2     0        0           4       673862         0.569262           0.000023   \n",
       "3     0        0           6       673862         0.569262           0.000008   \n",
       "4     0        0           8       673862         0.569262          -0.000072   \n",
       "\n",
       "   prod_passed_val_std  prod_passed_fault  prod_passed_fault_rel  ratio_fault  \\\n",
       "0             0.003663               3608               0.524495     0.005354   \n",
       "1             0.004902               3608               0.524495     0.005354   \n",
       "2             0.025469               3608               0.524495     0.005354   \n",
       "3             0.025497               3608               0.524495     0.005354   \n",
       "4             0.005090               3608               0.524495     0.005354   \n",
       "\n",
       "   prod_passed_fault_val_m  prod_passed_fault_val_std  prod_passed_val_var  \\\n",
       "0                -0.000209                   0.003160             0.003663   \n",
       "1                 0.000729                   0.004281             0.004902   \n",
       "2                -0.016215                   0.020965             0.025469   \n",
       "3                -0.016067                   0.021038             0.025497   \n",
       "4                 0.001804                   0.004821             0.005090   \n",
       "\n",
       "   prod_passed_fault_val_var  \n",
       "0                   0.003160  \n",
       "1                   0.004281  \n",
       "2                   0.020965  \n",
       "3                   0.021038  \n",
       "4                   0.004821  "
      ]
     },
     "execution_count": 89,
     "metadata": {},
     "output_type": "execute_result"
    }
   ],
   "source": [
    "num_info.head()"
   ]
  },
  {
   "cell_type": "code",
   "execution_count": 90,
   "metadata": {
    "collapsed": true
   },
   "outputs": [],
   "source": [
    "num_info_agg = num_info.groupby(['line','station']).agg('mean') "
   ]
  },
  {
   "cell_type": "code",
   "execution_count": 91,
   "metadata": {
    "collapsed": false
   },
   "outputs": [
    {
     "data": {
      "text/html": [
       "<div>\n",
       "<table border=\"1\" class=\"dataframe\">\n",
       "  <thead>\n",
       "    <tr style=\"text-align: right;\">\n",
       "      <th></th>\n",
       "      <th></th>\n",
       "      <th>feature_nr</th>\n",
       "      <th>prod_passed</th>\n",
       "      <th>prod_passed_rel</th>\n",
       "      <th>prod_passed_val_m</th>\n",
       "      <th>prod_passed_val_std</th>\n",
       "      <th>prod_passed_fault</th>\n",
       "      <th>prod_passed_fault_rel</th>\n",
       "      <th>ratio_fault</th>\n",
       "      <th>prod_passed_fault_val_m</th>\n",
       "      <th>prod_passed_fault_val_std</th>\n",
       "      <th>prod_passed_val_var</th>\n",
       "      <th>prod_passed_fault_val_var</th>\n",
       "    </tr>\n",
       "    <tr>\n",
       "      <th>line</th>\n",
       "      <th>station</th>\n",
       "      <th></th>\n",
       "      <th></th>\n",
       "      <th></th>\n",
       "      <th></th>\n",
       "      <th></th>\n",
       "      <th></th>\n",
       "      <th></th>\n",
       "      <th></th>\n",
       "      <th></th>\n",
       "      <th></th>\n",
       "      <th></th>\n",
       "      <th></th>\n",
       "    </tr>\n",
       "  </thead>\n",
       "  <tbody>\n",
       "    <tr>\n",
       "      <th rowspan=\"5\" valign=\"top\">0</th>\n",
       "      <th>0</th>\n",
       "      <td>11.0</td>\n",
       "      <td>665674.833333</td>\n",
       "      <td>0.562346</td>\n",
       "      <td>0.000019</td>\n",
       "      <td>0.012329</td>\n",
       "      <td>3563.583333</td>\n",
       "      <td>0.518038</td>\n",
       "      <td>0.005353</td>\n",
       "      <td>-0.003861</td>\n",
       "      <td>0.010959</td>\n",
       "      <td>0.012329</td>\n",
       "      <td>0.010959</td>\n",
       "    </tr>\n",
       "    <tr>\n",
       "      <th>1</th>\n",
       "      <td>26.0</td>\n",
       "      <td>672599.500000</td>\n",
       "      <td>0.568195</td>\n",
       "      <td>-0.000029</td>\n",
       "      <td>0.006292</td>\n",
       "      <td>3601.500000</td>\n",
       "      <td>0.523550</td>\n",
       "      <td>0.005355</td>\n",
       "      <td>-0.000446</td>\n",
       "      <td>0.005361</td>\n",
       "      <td>0.006292</td>\n",
       "      <td>0.005361</td>\n",
       "    </tr>\n",
       "    <tr>\n",
       "      <th>2</th>\n",
       "      <td>48.0</td>\n",
       "      <td>296767.666667</td>\n",
       "      <td>0.250702</td>\n",
       "      <td>0.000048</td>\n",
       "      <td>0.006305</td>\n",
       "      <td>1587.777778</td>\n",
       "      <td>0.230815</td>\n",
       "      <td>0.004756</td>\n",
       "      <td>0.000241</td>\n",
       "      <td>0.005858</td>\n",
       "      <td>0.006305</td>\n",
       "      <td>0.005858</td>\n",
       "    </tr>\n",
       "    <tr>\n",
       "      <th>3</th>\n",
       "      <td>84.0</td>\n",
       "      <td>292991.333333</td>\n",
       "      <td>0.247512</td>\n",
       "      <td>-0.000005</td>\n",
       "      <td>0.006575</td>\n",
       "      <td>1565.222222</td>\n",
       "      <td>0.227536</td>\n",
       "      <td>0.004748</td>\n",
       "      <td>-0.000155</td>\n",
       "      <td>0.006070</td>\n",
       "      <td>0.006575</td>\n",
       "      <td>0.006070</td>\n",
       "    </tr>\n",
       "    <tr>\n",
       "      <th>4</th>\n",
       "      <td>106.5</td>\n",
       "      <td>326761.000000</td>\n",
       "      <td>0.276040</td>\n",
       "      <td>0.000006</td>\n",
       "      <td>0.000479</td>\n",
       "      <td>1764.500000</td>\n",
       "      <td>0.256505</td>\n",
       "      <td>0.005401</td>\n",
       "      <td>-0.001592</td>\n",
       "      <td>0.000596</td>\n",
       "      <td>0.000479</td>\n",
       "      <td>0.000596</td>\n",
       "    </tr>\n",
       "  </tbody>\n",
       "</table>\n",
       "</div>"
      ],
      "text/plain": [
       "              feature_nr    prod_passed  prod_passed_rel  prod_passed_val_m  \\\n",
       "line station                                                                  \n",
       "0    0              11.0  665674.833333         0.562346           0.000019   \n",
       "     1              26.0  672599.500000         0.568195          -0.000029   \n",
       "     2              48.0  296767.666667         0.250702           0.000048   \n",
       "     3              84.0  292991.333333         0.247512          -0.000005   \n",
       "     4             106.5  326761.000000         0.276040           0.000006   \n",
       "\n",
       "              prod_passed_val_std  prod_passed_fault  prod_passed_fault_rel  \\\n",
       "line station                                                                  \n",
       "0    0                   0.012329        3563.583333               0.518038   \n",
       "     1                   0.006292        3601.500000               0.523550   \n",
       "     2                   0.006305        1587.777778               0.230815   \n",
       "     3                   0.006575        1565.222222               0.227536   \n",
       "     4                   0.000479        1764.500000               0.256505   \n",
       "\n",
       "              ratio_fault  prod_passed_fault_val_m  prod_passed_fault_val_std  \\\n",
       "line station                                                                    \n",
       "0    0           0.005353                -0.003861                   0.010959   \n",
       "     1           0.005355                -0.000446                   0.005361   \n",
       "     2           0.004756                 0.000241                   0.005858   \n",
       "     3           0.004748                -0.000155                   0.006070   \n",
       "     4           0.005401                -0.001592                   0.000596   \n",
       "\n",
       "              prod_passed_val_var  prod_passed_fault_val_var  \n",
       "line station                                                  \n",
       "0    0                   0.012329                   0.010959  \n",
       "     1                   0.006292                   0.005361  \n",
       "     2                   0.006305                   0.005858  \n",
       "     3                   0.006575                   0.006070  \n",
       "     4                   0.000479                   0.000596  "
      ]
     },
     "execution_count": 91,
     "metadata": {},
     "output_type": "execute_result"
    }
   ],
   "source": [
    "num_info_agg.head()"
   ]
  },
  {
   "cell_type": "code",
   "execution_count": 92,
   "metadata": {
    "collapsed": false
   },
   "outputs": [
    {
     "data": {
      "text/plain": [
       "<matplotlib.axes._subplots.AxesSubplot at 0x143b162d0>"
      ]
     },
     "execution_count": 92,
     "metadata": {},
     "output_type": "execute_result"
    },
    {
     "data": {
      "image/png": "[encoded data removed]",
      "text/plain": [
       "<matplotlib.figure.Figure at 0x1451cc790>"
      ]
     },
     "metadata": {},
     "output_type": "display_data"
    }
   ],
   "source": [
    "# The plot below shows the relative amount of faulty and non-faulty products that passed this station. Mostly equal,\n",
    "# but Station 32 on line 3 is interesting. This means the almost all products that passed this station are faulty.\n",
    "# Couple of stations have higher ratio.\n",
    "num_info_agg[['prod_passed_rel','prod_passed_fault_rel']].plot(kind='bar', figsize=(16,4))"
   ]
  },
  {
   "cell_type": "code",
   "execution_count": 97,
   "metadata": {
    "collapsed": false
   },
   "outputs": [
    {
     "data": {
      "text/plain": [
       "<matplotlib.axes._subplots.AxesSubplot at 0x147292650>"
      ]
     },
     "execution_count": 97,
     "metadata": {},
     "output_type": "execute_result"
    },
    {
     "data": {
      "image/png": "[encoded data removed]",
      "text/plain": [
       "<matplotlib.figure.Figure at 0x1472ac0d0>"
      ]
     },
     "metadata": {},
     "output_type": "display_data"
    }
   ],
   "source": [
    "# Next plot shows the ratio of faulty versus non-faulty products. One station looks different...\n",
    "num_info_agg[['ratio_fault']].plot(kind='bar', figsize=(16,4))"
   ]
  },
  {
   "cell_type": "code",
   "execution_count": 93,
   "metadata": {
    "collapsed": false
   },
   "outputs": [
    {
     "data": {
      "text/plain": [
       "<matplotlib.axes._subplots.AxesSubplot at 0x1457bc4d0>"
      ]
     },
     "execution_count": 93,
     "metadata": {},
     "output_type": "execute_result"
    },
    {
     "data": {
      "image/png": "[encoded data removed]",
      "text/plain": [
       "<matplotlib.figure.Figure at 0x1450e9850>"
      ]
     },
     "metadata": {},
     "output_type": "display_data"
    }
   ],
   "source": [
    "# The plot below shows the mean of the value of for faulty and non-faulty products. Almost all stations have zero mean\n",
    "# for non-faulty products, but non-zero mean for faulty products. Potentially interesting feature!\n",
    "num_info_agg[['prod_passed_val_m','prod_passed_fault_val_m']].plot(kind='bar', figsize=(16,4))"
   ]
  },
  {
   "cell_type": "code",
   "execution_count": 96,
   "metadata": {
    "collapsed": false
   },
   "outputs": [
    {
     "data": {
      "text/plain": [
       "<matplotlib.axes._subplots.AxesSubplot at 0x146e79590>"
      ]
     },
     "execution_count": 96,
     "metadata": {},
     "output_type": "execute_result"
    },
    {
     "data": {
      "image/png": "[encoded data removed]",
      "text/plain": [
       "<matplotlib.figure.Figure at 0x1459374d0>"
      ]
     },
     "metadata": {},
     "output_type": "display_data"
    }
   ],
   "source": [
    "# The plot below shows the variance of the numerical value for faulty and non-faulty products per station.\n",
    "# Weird that faulty products have a lower variance than non-faulty, I would expect the other way around.\n",
    "num_info_agg[['prod_passed_val_var','prod_passed_fault_val_var']].plot(kind='bar', figsize=(16,4))"
   ]
  },
  {
   "cell_type": "markdown",
   "metadata": {},
   "source": [
    "## Estimate number of faults per station for categorical features"
   ]
  },
  {
   "cell_type": "code",
   "execution_count": 98,
   "metadata": {
    "collapsed": false
   },
   "outputs": [
    {
     "name": "stdout",
     "output_type": "stream",
     "text": [
      "Returning <open file '/Volumes/My Book/kaggle_bosch/train_categorical_to_num.pkl', mode 'rb' at 0x11bfa29c0>\n"
     ]
    }
   ],
   "source": [
    "dat_cat = func.load_data_file('train_categorical_to_num')\n",
    "\n",
    "y = dat_cat['data']['y']\n",
    "ids = dat_cat['data']['ids']"
   ]
  },
  {
   "cell_type": "code",
   "execution_count": 101,
   "metadata": {
    "collapsed": false
   },
   "outputs": [],
   "source": [
    "cat_info['prod_passed'] = np.bincount(dat_cat['data']['features'].indices)\n",
    "cat_info['prod_passed_rel'] = cat_info['prod_passed'].astype(float) / y.shape[0]\n",
    "cat_info['prod_passed_fault'] = np.bincount(dat_cat['data']['features'][fault_sample_nr,:].indices)\n",
    "cat_info['prod_passed_fault_rel'] = cat_info['prod_passed_fault'].astype(float) / fault_ids.shape[0]\n",
    "cat_info['ratio_fault'] = cat_info['prod_passed_fault_rel'] / cat_info['prod_passed_rel']"
   ]
  },
  {
   "cell_type": "code",
   "execution_count": 102,
   "metadata": {
    "collapsed": false
   },
   "outputs": [],
   "source": [
    "cat_info_agg = cat_info.groupby(['line','station']).agg('mean') "
   ]
  },
  {
   "cell_type": "code",
   "execution_count": 103,
   "metadata": {
    "collapsed": false
   },
   "outputs": [
    {
     "data": {
      "text/plain": [
       "<matplotlib.axes._subplots.AxesSubplot at 0x1213c40d0>"
      ]
     },
     "execution_count": 103,
     "metadata": {},
     "output_type": "execute_result"
    },
    {
     "data": {
      "image/png": "[encoded data removed]",
      "text/plain": [
       "<matplotlib.figure.Figure at 0x1213c4150>"
      ]
     },
     "metadata": {},
     "output_type": "display_data"
    }
   ],
   "source": [
    "# The plot below shows the relative amount of faulty and non-faulty products that passed this station. Mostly equal,\n",
    "# but Station 32 on line 3 is interesting. This means the almost all products that passed this station are faulty.\n",
    "# Couple of stations have higher ratio.\n",
    "cat_info_agg[['prod_passed_rel','prod_passed_fault_rel']].plot(kind='bar', figsize=(16,4))"
   ]
  },
  {
   "cell_type": "code",
   "execution_count": 104,
   "metadata": {
    "collapsed": false
   },
   "outputs": [
    {
     "data": {
      "text/plain": [
       "<matplotlib.axes._subplots.AxesSubplot at 0x12194ac90>"
      ]
     },
     "execution_count": 104,
     "metadata": {},
     "output_type": "execute_result"
    },
    {
     "data": {
      "image/png": "[encoded data removed]",
      "text/plain": [
       "<matplotlib.figure.Figure at 0x12194a890>"
      ]
     },
     "metadata": {},
     "output_type": "display_data"
    }
   ],
   "source": [
    "# Next plot shows the ratio of faulty versus non-faulty products. One station looks different...\n",
    "cat_info_agg[['ratio_fault']].plot(kind='bar', figsize=(16,4))"
   ]
  },
  {
   "cell_type": "code",
   "execution_count": null,
   "metadata": {
    "collapsed": true
   },
   "outputs": [],
   "source": []
  }
 ],
 "metadata": {
  "kernelspec": {
   "display_name": "Python 2",
   "language": "python",
   "name": "python2"
  },
  "language_info": {
   "codemirror_mode": {
    "name": "ipython",
    "version": 2
   },
   "file_extension": ".py",
   "mimetype": "text/x-python",
   "name": "python",
   "nbconvert_exporter": "python",
   "pygments_lexer": "ipython2",
   "version": "2.7.11"
  }
 },
 "nbformat": 4,
 "nbformat_minor": 0
}
