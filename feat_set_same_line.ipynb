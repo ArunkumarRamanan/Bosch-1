{
 "cells": [
  {
   "cell_type": "code",
   "execution_count": 2,
   "metadata": {
    "collapsed": true
   },
   "outputs": [],
   "source": [
    "import os\n",
    "import re\n",
    "import pickle\n",
    "import time\n",
    "import datetime\n",
    "\n",
    "import numpy as np\n",
    "import pandas as pd\n",
    "\n",
    "import seaborn as sns\n",
    "import matplotlib.pyplot as plt\n",
    "import matplotlib.gridspec as gridspec\n",
    "\n",
    "from scipy.sparse import csr_matrix, vstack\n",
    "\n",
    "%matplotlib inline\n",
    "\n",
    "# Custom modules\n",
    "import const\n",
    "import func"
   ]
  },
  {
   "cell_type": "markdown",
   "metadata": {},
   "source": [
    "## Load data"
   ]
  },
  {
   "cell_type": "code",
   "execution_count": 3,
   "metadata": {
    "collapsed": false
   },
   "outputs": [
    {
     "data": {
      "text/html": [
       "<div>\n",
       "<table border=\"1\" class=\"dataframe\">\n",
       "  <thead>\n",
       "    <tr style=\"text-align: right;\">\n",
       "      <th></th>\n",
       "      <th>line</th>\n",
       "      <th>station</th>\n",
       "      <th>feature_nr</th>\n",
       "      <th>feat_nr_dat</th>\n",
       "      <th>name_dat</th>\n",
       "      <th>name_cat</th>\n",
       "      <th>name_num</th>\n",
       "      <th>col_dat</th>\n",
       "      <th>col_num</th>\n",
       "      <th>col_cat</th>\n",
       "      <th>station_V2</th>\n",
       "      <th>line_V2</th>\n",
       "    </tr>\n",
       "  </thead>\n",
       "  <tbody>\n",
       "    <tr>\n",
       "      <th>0</th>\n",
       "      <td>0</td>\n",
       "      <td>0</td>\n",
       "      <td>0</td>\n",
       "      <td>1.0</td>\n",
       "      <td>L0_S0_D1</td>\n",
       "      <td>NaN</td>\n",
       "      <td>L0_S0_F0</td>\n",
       "      <td>0.0</td>\n",
       "      <td>0.0</td>\n",
       "      <td>NaN</td>\n",
       "      <td>0.0</td>\n",
       "      <td>1.0</td>\n",
       "    </tr>\n",
       "    <tr>\n",
       "      <th>1</th>\n",
       "      <td>0</td>\n",
       "      <td>0</td>\n",
       "      <td>2</td>\n",
       "      <td>3.0</td>\n",
       "      <td>L0_S0_D3</td>\n",
       "      <td>NaN</td>\n",
       "      <td>L0_S0_F2</td>\n",
       "      <td>1.0</td>\n",
       "      <td>1.0</td>\n",
       "      <td>NaN</td>\n",
       "      <td>0.0</td>\n",
       "      <td>1.0</td>\n",
       "    </tr>\n",
       "    <tr>\n",
       "      <th>2</th>\n",
       "      <td>0</td>\n",
       "      <td>0</td>\n",
       "      <td>4</td>\n",
       "      <td>5.0</td>\n",
       "      <td>L0_S0_D5</td>\n",
       "      <td>NaN</td>\n",
       "      <td>L0_S0_F4</td>\n",
       "      <td>2.0</td>\n",
       "      <td>2.0</td>\n",
       "      <td>NaN</td>\n",
       "      <td>0.0</td>\n",
       "      <td>1.0</td>\n",
       "    </tr>\n",
       "  </tbody>\n",
       "</table>\n",
       "</div>"
      ],
      "text/plain": [
       "   line  station  feature_nr  feat_nr_dat  name_dat name_cat  name_num  \\\n",
       "0     0        0           0          1.0  L0_S0_D1      NaN  L0_S0_F0   \n",
       "1     0        0           2          3.0  L0_S0_D3      NaN  L0_S0_F2   \n",
       "2     0        0           4          5.0  L0_S0_D5      NaN  L0_S0_F4   \n",
       "\n",
       "   col_dat  col_num  col_cat  station_V2  line_V2  \n",
       "0      0.0      0.0      NaN         0.0      1.0  \n",
       "1      1.0      1.0      NaN         0.0      1.0  \n",
       "2      2.0      2.0      NaN         0.0      1.0  "
      ]
     },
     "execution_count": 3,
     "metadata": {},
     "output_type": "execute_result"
    }
   ],
   "source": [
    "lut = pd.read_csv(const.LOOK_UP_TABLE)\n",
    "lut.head(3)"
   ]
  },
  {
   "cell_type": "code",
   "execution_count": 4,
   "metadata": {
    "collapsed": false
   },
   "outputs": [
    {
     "name": "stdout",
     "output_type": "stream",
     "text": [
      "Returning <open file '/Volumes/My Book/kaggle_bosch/train_date.pkl', mode 'rb' at 0x115c50d20>.pkl\n",
      "Returning <open file '/Volumes/My Book/kaggle_bosch/test_date.pkl', mode 'rb' at 0x115c50d20>.pkl\n"
     ]
    }
   ],
   "source": [
    "dat = func.load_data_file(const.TRAIN_FILES[2])\n",
    "dat_train = dat['data']['features']\n",
    "id_train = dat['data']['ids']\n",
    "\n",
    "dat = func.load_data_file(const.TEST_FILES[2])\n",
    "\n",
    "dat_data = vstack([dat_train, dat['data']['features']], format='csr')\n",
    "ids = pd.concat([id_train, dat['data']['ids']], axis=0)"
   ]
  },
  {
   "cell_type": "markdown",
   "metadata": {},
   "source": [
    "## Calculate features based on base line definition"
   ]
  },
  {
   "cell_type": "code",
   "execution_count": 29,
   "metadata": {
    "collapsed": false
   },
   "outputs": [],
   "source": [
    "# First get max per line for all train and test samples\n",
    "df = pd.DataFrame(columns=['L0max','L1max','L2max','L3max'], index=ids.Id)\n",
    "for l in range(4):\n",
    "    col_date = [int(i) for i in lut[lut['line']==l].col_dat.values if not np.isnan(i)]\n",
    "\n",
    "    df['L{}max'.format(l)] = dat_data[:, col_date].max(1).todense().A1\n",
    "    \n",
    "    df['L{}max'.format(l)].replace(0, np.nan, inplace=True)\n",
    "    df['L{}max'.format(l)].round(2)\n",
    "\n",
    "# To go row index to check sorting afterwards\n",
    "df.reset_index(inplace=True)\n",
    "df.reset_index(inplace=True)\n",
    "\n",
    "# Sort by ID\n",
    "df.sort_values(['Id'], inplace=True)\n",
    "\n",
    "for col in df.columns:\n",
    "    df[col + '_prev'] = df[col].shift(1)\n",
    "    df[col + '_next'] = df[col].shift(-1)\n",
    "\n",
    "df.set_index('Id', inplace=True)"
   ]
  },
  {
   "cell_type": "code",
   "execution_count": 30,
   "metadata": {
    "collapsed": true
   },
   "outputs": [],
   "source": [
    "feat_cols = []\n",
    "\n",
    "for l in range(4):\n",
    "    df['sameL{}_next'.format(l)] = 2 * (df['L{}max'.format(l)]==df['L{}max_next'.format(l)]).astype(int) + \\\n",
    "                              1 * ((df['L{}max'.format(l)].isnull()) & (df['L{}max_next'.format(l)].isnull())).astype(int)\n",
    "        \n",
    "    df['sameL{}_prev'.format(l)] = 2 * (df['L{}max'.format(l)]==df['L{}max_prev'.format(l)]).astype(int) + \\\n",
    "                              1 * ((df['L{}max'.format(l)].isnull()) & (df['L{}max_prev'.format(l)].isnull())).astype(int)\n",
    "        \n",
    "    feat_cols += ['sameL{}_prev'.format(l), 'sameL{}_next'.format(l)]\n"
   ]
  },
  {
   "cell_type": "code",
   "execution_count": 21,
   "metadata": {
    "collapsed": false
   },
   "outputs": [],
   "source": [
    "df[feat_cols].to_csv(os.path.join(const.DATA_PATH, 'feat_set_jayjay_same_L_new.csv'), index_label='ID')"
   ]
  },
  {
   "cell_type": "markdown",
   "metadata": {},
   "source": [
    "## Calculate features based on new line definition"
   ]
  },
  {
   "cell_type": "code",
   "execution_count": 32,
   "metadata": {
    "collapsed": false
   },
   "outputs": [
    {
     "name": "stdout",
     "output_type": "stream",
     "text": [
      "[ 1.   2.   3.1  3.2  3.3  4.1  4.   4.2  4.3  4.4  5.   6.   7. ]\n"
     ]
    }
   ],
   "source": [
    "line_V2s = lut['line_V2'].unique()\n",
    "print line_V2s"
   ]
  },
  {
   "cell_type": "code",
   "execution_count": 33,
   "metadata": {
    "collapsed": true
   },
   "outputs": [],
   "source": [
    "# First get max per line for all train and test samples\n",
    "df = pd.DataFrame(columns=['L{}_V2_MAX'.format(x) for x in line_V2s], index=ids.Id)\n",
    "for l in line_V2s:\n",
    "    col_date = [int(i) for i in lut[lut['line_V2']==l].col_dat.values if not np.isnan(i)]\n",
    "\n",
    "    df['L{}_V2_MAX'.format(l)] = dat_data[:, col_date].max(1).todense().A1\n",
    "    \n",
    "    df['L{}_V2_MAX'.format(l)].replace(0, np.nan, inplace=True)\n",
    "\n",
    "# To go row index to check sorting afterwards\n",
    "df.reset_index(inplace=True)\n",
    "df.reset_index(inplace=True)\n",
    "\n",
    "# Sort by ID\n",
    "df.sort_values(['Id'], inplace=True)\n",
    "\n",
    "for col in df.columns:\n",
    "    df[col + '_prev'] = df[col].shift(1)\n",
    "    df[col + '_next'] = df[col].shift(-1)\n",
    "\n",
    "df.set_index('Id', inplace=True)"
   ]
  },
  {
   "cell_type": "code",
   "execution_count": 34,
   "metadata": {
    "collapsed": false
   },
   "outputs": [
    {
     "data": {
      "text/html": [
       "<div>\n",
       "<table border=\"1\" class=\"dataframe\">\n",
       "  <thead>\n",
       "    <tr style=\"text-align: right;\">\n",
       "      <th></th>\n",
       "      <th>index</th>\n",
       "      <th>L1.0_V2_MAX</th>\n",
       "      <th>L2.0_V2_MAX</th>\n",
       "      <th>L3.1_V2_MAX</th>\n",
       "      <th>L3.2_V2_MAX</th>\n",
       "      <th>L3.3_V2_MAX</th>\n",
       "      <th>L4.1_V2_MAX</th>\n",
       "      <th>L4.0_V2_MAX</th>\n",
       "      <th>L4.2_V2_MAX</th>\n",
       "      <th>L4.3_V2_MAX</th>\n",
       "      <th>...</th>\n",
       "      <th>L4.3_V2_MAX_prev</th>\n",
       "      <th>L4.3_V2_MAX_next</th>\n",
       "      <th>L4.4_V2_MAX_prev</th>\n",
       "      <th>L4.4_V2_MAX_next</th>\n",
       "      <th>L5.0_V2_MAX_prev</th>\n",
       "      <th>L5.0_V2_MAX_next</th>\n",
       "      <th>L6.0_V2_MAX_prev</th>\n",
       "      <th>L6.0_V2_MAX_next</th>\n",
       "      <th>L7.0_V2_MAX_prev</th>\n",
       "      <th>L7.0_V2_MAX_next</th>\n",
       "    </tr>\n",
       "    <tr>\n",
       "      <th>Id</th>\n",
       "      <th></th>\n",
       "      <th></th>\n",
       "      <th></th>\n",
       "      <th></th>\n",
       "      <th></th>\n",
       "      <th></th>\n",
       "      <th></th>\n",
       "      <th></th>\n",
       "      <th></th>\n",
       "      <th></th>\n",
       "      <th></th>\n",
       "      <th></th>\n",
       "      <th></th>\n",
       "      <th></th>\n",
       "      <th></th>\n",
       "      <th></th>\n",
       "      <th></th>\n",
       "      <th></th>\n",
       "      <th></th>\n",
       "      <th></th>\n",
       "      <th></th>\n",
       "    </tr>\n",
       "  </thead>\n",
       "  <tbody>\n",
       "    <tr>\n",
       "      <th>1</th>\n",
       "      <td>1183747</td>\n",
       "      <td>NaN</td>\n",
       "      <td>NaN</td>\n",
       "      <td>NaN</td>\n",
       "      <td>NaN</td>\n",
       "      <td>792.770020</td>\n",
       "      <td>NaN</td>\n",
       "      <td>NaN</td>\n",
       "      <td>NaN</td>\n",
       "      <td>NaN</td>\n",
       "      <td>...</td>\n",
       "      <td>NaN</td>\n",
       "      <td>NaN</td>\n",
       "      <td>NaN</td>\n",
       "      <td>NaN</td>\n",
       "      <td>NaN</td>\n",
       "      <td>1045.959961</td>\n",
       "      <td>NaN</td>\n",
       "      <td>1060.069946</td>\n",
       "      <td>NaN</td>\n",
       "      <td>NaN</td>\n",
       "    </tr>\n",
       "    <tr>\n",
       "      <th>2</th>\n",
       "      <td>1183748</td>\n",
       "      <td>NaN</td>\n",
       "      <td>NaN</td>\n",
       "      <td>1025.640015</td>\n",
       "      <td>NaN</td>\n",
       "      <td>NaN</td>\n",
       "      <td>NaN</td>\n",
       "      <td>NaN</td>\n",
       "      <td>NaN</td>\n",
       "      <td>NaN</td>\n",
       "      <td>...</td>\n",
       "      <td>NaN</td>\n",
       "      <td>NaN</td>\n",
       "      <td>NaN</td>\n",
       "      <td>NaN</td>\n",
       "      <td>794.719971</td>\n",
       "      <td>704.109985</td>\n",
       "      <td>800.700012</td>\n",
       "      <td>711.080017</td>\n",
       "      <td>NaN</td>\n",
       "      <td>NaN</td>\n",
       "    </tr>\n",
       "    <tr>\n",
       "      <th>3</th>\n",
       "      <td>1183749</td>\n",
       "      <td>NaN</td>\n",
       "      <td>NaN</td>\n",
       "      <td>NaN</td>\n",
       "      <td>NaN</td>\n",
       "      <td>671.950012</td>\n",
       "      <td>NaN</td>\n",
       "      <td>NaN</td>\n",
       "      <td>NaN</td>\n",
       "      <td>NaN</td>\n",
       "      <td>...</td>\n",
       "      <td>NaN</td>\n",
       "      <td>NaN</td>\n",
       "      <td>NaN</td>\n",
       "      <td>NaN</td>\n",
       "      <td>1045.959961</td>\n",
       "      <td>NaN</td>\n",
       "      <td>1060.069946</td>\n",
       "      <td>87.290001</td>\n",
       "      <td>NaN</td>\n",
       "      <td>NaN</td>\n",
       "    </tr>\n",
       "  </tbody>\n",
       "</table>\n",
       "<p>3 rows × 44 columns</p>\n",
       "</div>"
      ],
      "text/plain": [
       "      index  L1.0_V2_MAX  L2.0_V2_MAX  L3.1_V2_MAX  L3.2_V2_MAX  L3.3_V2_MAX  \\\n",
       "Id                                                                             \n",
       "1   1183747          NaN          NaN          NaN          NaN   792.770020   \n",
       "2   1183748          NaN          NaN  1025.640015          NaN          NaN   \n",
       "3   1183749          NaN          NaN          NaN          NaN   671.950012   \n",
       "\n",
       "    L4.1_V2_MAX  L4.0_V2_MAX  L4.2_V2_MAX  L4.3_V2_MAX        ...         \\\n",
       "Id                                                            ...          \n",
       "1           NaN          NaN          NaN          NaN        ...          \n",
       "2           NaN          NaN          NaN          NaN        ...          \n",
       "3           NaN          NaN          NaN          NaN        ...          \n",
       "\n",
       "    L4.3_V2_MAX_prev  L4.3_V2_MAX_next  L4.4_V2_MAX_prev  L4.4_V2_MAX_next  \\\n",
       "Id                                                                           \n",
       "1                NaN               NaN               NaN               NaN   \n",
       "2                NaN               NaN               NaN               NaN   \n",
       "3                NaN               NaN               NaN               NaN   \n",
       "\n",
       "    L5.0_V2_MAX_prev  L5.0_V2_MAX_next  L6.0_V2_MAX_prev  L6.0_V2_MAX_next  \\\n",
       "Id                                                                           \n",
       "1                NaN       1045.959961               NaN       1060.069946   \n",
       "2         794.719971        704.109985        800.700012        711.080017   \n",
       "3        1045.959961               NaN       1060.069946         87.290001   \n",
       "\n",
       "    L7.0_V2_MAX_prev  L7.0_V2_MAX_next  \n",
       "Id                                      \n",
       "1                NaN               NaN  \n",
       "2                NaN               NaN  \n",
       "3                NaN               NaN  \n",
       "\n",
       "[3 rows x 44 columns]"
      ]
     },
     "execution_count": 34,
     "metadata": {},
     "output_type": "execute_result"
    }
   ],
   "source": [
    "df.head(3)"
   ]
  },
  {
   "cell_type": "code",
   "execution_count": 35,
   "metadata": {
    "collapsed": true
   },
   "outputs": [],
   "source": [
    "feat_cols = []\n",
    "\n",
    "for l in line_V2s:\n",
    "    df['sameL{}_V2_next'.format(l)] = 2 * (df['L{}_V2_MAX'.format(l)]==df['L{}_V2_MAX_next'.format(l)]).astype(int) + \\\n",
    "                              1 * ((df['L{}_V2_MAX'.format(l)].isnull()) & (df['L{}_V2_MAX_next'.format(l)].isnull())).astype(int)\n",
    "        \n",
    "    df['sameL{}_V2_prev'.format(l)] = 2 * (df['L{}_V2_MAX'.format(l)]==df['L{}_V2_MAX_prev'.format(l)]).astype(int) + \\\n",
    "                              1 * ((df['L{}_V2_MAX'.format(l)].isnull()) & (df['L{}_V2_MAX_prev'.format(l)].isnull())).astype(int)\n",
    "        \n",
    "    feat_cols += ['sameL{}_V2_prev'.format(l), 'sameL{}_V2_next'.format(l)]\n"
   ]
  },
  {
   "cell_type": "code",
   "execution_count": 36,
   "metadata": {
    "collapsed": false
   },
   "outputs": [
    {
     "name": "stdout",
     "output_type": "stream",
     "text": [
      "0    1806883\n",
      "1     470769\n",
      "2      89843\n",
      "Name: sameL1.0_V2_next, dtype: int64\n",
      "1    1520559\n",
      "0     817657\n",
      "2      29279\n",
      "Name: sameL2.0_V2_next, dtype: int64\n",
      "1    2274600\n",
      "0      91436\n",
      "2       1459\n",
      "Name: sameL3.1_V2_next, dtype: int64\n",
      "1    2262296\n",
      "0     102192\n",
      "2       3007\n",
      "Name: sameL3.2_V2_next, dtype: int64\n",
      "1    1878591\n",
      "0     477023\n",
      "2      11881\n",
      "Name: sameL3.3_V2_next, dtype: int64\n",
      "1    2154762\n",
      "0     208479\n",
      "2       4254\n",
      "Name: sameL4.1_V2_next, dtype: int64\n",
      "1    2262677\n",
      "0     102608\n",
      "2       2210\n",
      "Name: sameL4.0_V2_next, dtype: int64\n",
      "1    2339544\n",
      "0      27345\n",
      "2        606\n",
      "Name: sameL4.2_V2_next, dtype: int64\n",
      "1    2350903\n",
      "0      16335\n",
      "2        257\n",
      "Name: sameL4.3_V2_next, dtype: int64\n",
      "1    2298473\n",
      "0      67518\n",
      "2       1504\n",
      "Name: sameL4.4_V2_next, dtype: int64\n",
      "1    1182329\n",
      "0    1150975\n",
      "2      34191\n",
      "Name: sameL5.0_V2_next, dtype: int64\n",
      "0    2267265\n",
      "2      88471\n",
      "1      11759\n",
      "Name: sameL6.0_V2_next, dtype: int64\n",
      "1    2138683\n",
      "0     223096\n",
      "2       5716\n",
      "Name: sameL7.0_V2_next, dtype: int64\n"
     ]
    }
   ],
   "source": [
    "for l in line_V2s:\n",
    "    print df['sameL{}_V2_next'.format(l)].value_counts()"
   ]
  },
  {
   "cell_type": "code",
   "execution_count": 37,
   "metadata": {
    "collapsed": true
   },
   "outputs": [],
   "source": [
    "df[feat_cols].to_csv(os.path.join(const.DATA_PATH, 'feat_set_V2_same_L_new.csv'), index_label='ID')"
   ]
  },
  {
   "cell_type": "code",
   "execution_count": null,
   "metadata": {
    "collapsed": true
   },
   "outputs": [],
   "source": []
  }
 ],
 "metadata": {
  "kernelspec": {
   "display_name": "Python 2",
   "language": "python",
   "name": "python2"
  }
 },
 "nbformat": 4,
 "nbformat_minor": 0
}
