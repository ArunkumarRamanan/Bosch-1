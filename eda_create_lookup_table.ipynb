{
 "cells": [
  {
   "cell_type": "markdown",
   "metadata": {},
   "source": [
    "# Create a lookup table between date column index and other indices\n",
    "(Excluding ID / Reponse columns)"
   ]
  },
  {
   "cell_type": "code",
   "execution_count": 1,
   "metadata": {
    "collapsed": true
   },
   "outputs": [],
   "source": [
    "import os\n",
    "import re\n",
    "import pickle\n",
    "import time\n",
    "\n",
    "import numpy as np\n",
    "import pandas as pd\n",
    "\n",
    "import seaborn as sns\n",
    "import matplotlib.pyplot as plt\n",
    "\n",
    "from scipy.sparse import csr_matrix\n",
    "\n",
    "%matplotlib inline\n",
    "\n",
    "# Custom modules\n",
    "import const\n",
    "import func"
   ]
  },
  {
   "cell_type": "markdown",
   "metadata": {},
   "source": [
    "## Load data"
   ]
  },
  {
   "cell_type": "code",
   "execution_count": 2,
   "metadata": {
    "collapsed": false
   },
   "outputs": [
    {
     "data": {
      "text/plain": [
       "['train_numeric', 'train_categorical_to_num', 'train_date']"
      ]
     },
     "execution_count": 2,
     "metadata": {},
     "output_type": "execute_result"
    }
   ],
   "source": [
    "const.TRAIN_FILES"
   ]
  },
  {
   "cell_type": "code",
   "execution_count": 3,
   "metadata": {
    "collapsed": false
   },
   "outputs": [],
   "source": [
    "[num_info, cat_info, date_info] = [func.get_station_info(f) for f in const.TRAIN_FILES]\n",
    "\n",
    "# Date features refer to numeric/categorical features\n",
    "date_info['ref_feat_nr'] = date_info['feature_nr'] - 1\n",
    "date_info.columns = ['line','station','feat_nr_dat', 'name_dat','feature_nr']"
   ]
  },
  {
   "cell_type": "code",
   "execution_count": 4,
   "metadata": {
    "collapsed": false
   },
   "outputs": [
    {
     "data": {
      "text/html": [
       "<div>\n",
       "<table border=\"1\" class=\"dataframe\">\n",
       "  <thead>\n",
       "    <tr style=\"text-align: right;\">\n",
       "      <th></th>\n",
       "      <th>line</th>\n",
       "      <th>station</th>\n",
       "      <th>feat_nr_dat</th>\n",
       "      <th>name_dat</th>\n",
       "      <th>feature_nr</th>\n",
       "    </tr>\n",
       "  </thead>\n",
       "  <tbody>\n",
       "    <tr>\n",
       "      <th>0</th>\n",
       "      <td>0</td>\n",
       "      <td>0</td>\n",
       "      <td>1</td>\n",
       "      <td>L0_S0_D1</td>\n",
       "      <td>0</td>\n",
       "    </tr>\n",
       "    <tr>\n",
       "      <th>1</th>\n",
       "      <td>0</td>\n",
       "      <td>0</td>\n",
       "      <td>3</td>\n",
       "      <td>L0_S0_D3</td>\n",
       "      <td>2</td>\n",
       "    </tr>\n",
       "    <tr>\n",
       "      <th>2</th>\n",
       "      <td>0</td>\n",
       "      <td>0</td>\n",
       "      <td>5</td>\n",
       "      <td>L0_S0_D5</td>\n",
       "      <td>4</td>\n",
       "    </tr>\n",
       "    <tr>\n",
       "      <th>3</th>\n",
       "      <td>0</td>\n",
       "      <td>0</td>\n",
       "      <td>7</td>\n",
       "      <td>L0_S0_D7</td>\n",
       "      <td>6</td>\n",
       "    </tr>\n",
       "    <tr>\n",
       "      <th>4</th>\n",
       "      <td>0</td>\n",
       "      <td>0</td>\n",
       "      <td>9</td>\n",
       "      <td>L0_S0_D9</td>\n",
       "      <td>8</td>\n",
       "    </tr>\n",
       "  </tbody>\n",
       "</table>\n",
       "</div>"
      ],
      "text/plain": [
       "   line  station  feat_nr_dat  name_dat  feature_nr\n",
       "0     0        0            1  L0_S0_D1           0\n",
       "1     0        0            3  L0_S0_D3           2\n",
       "2     0        0            5  L0_S0_D5           4\n",
       "3     0        0            7  L0_S0_D7           6\n",
       "4     0        0            9  L0_S0_D9           8"
      ]
     },
     "execution_count": 4,
     "metadata": {},
     "output_type": "execute_result"
    }
   ],
   "source": [
    "date_info.head()"
   ]
  },
  {
   "cell_type": "code",
   "execution_count": 5,
   "metadata": {
    "collapsed": false
   },
   "outputs": [],
   "source": [
    "date_info.set_index(['line','station','feature_nr'], inplace=True)\n",
    "num_info.set_index(['line','station','feature_nr'], inplace=True)\n",
    "cat_info.set_index(['line','station','feature_nr'], inplace=True)"
   ]
  },
  {
   "cell_type": "markdown",
   "metadata": {},
   "source": [
    "### Date info LUT"
   ]
  },
  {
   "cell_type": "code",
   "execution_count": 6,
   "metadata": {
    "collapsed": false
   },
   "outputs": [
    {
     "data": {
      "text/html": [
       "<div>\n",
       "<table border=\"1\" class=\"dataframe\">\n",
       "  <thead>\n",
       "    <tr style=\"text-align: right;\">\n",
       "      <th></th>\n",
       "      <th></th>\n",
       "      <th></th>\n",
       "      <th>feat_nr_dat</th>\n",
       "      <th>name_dat</th>\n",
       "    </tr>\n",
       "    <tr>\n",
       "      <th>line</th>\n",
       "      <th>station</th>\n",
       "      <th>feature_nr</th>\n",
       "      <th></th>\n",
       "      <th></th>\n",
       "    </tr>\n",
       "  </thead>\n",
       "  <tbody>\n",
       "    <tr>\n",
       "      <th rowspan=\"5\" valign=\"top\">0</th>\n",
       "      <th rowspan=\"5\" valign=\"top\">0</th>\n",
       "      <th>0</th>\n",
       "      <td>1</td>\n",
       "      <td>L0_S0_D1</td>\n",
       "    </tr>\n",
       "    <tr>\n",
       "      <th>2</th>\n",
       "      <td>3</td>\n",
       "      <td>L0_S0_D3</td>\n",
       "    </tr>\n",
       "    <tr>\n",
       "      <th>4</th>\n",
       "      <td>5</td>\n",
       "      <td>L0_S0_D5</td>\n",
       "    </tr>\n",
       "    <tr>\n",
       "      <th>6</th>\n",
       "      <td>7</td>\n",
       "      <td>L0_S0_D7</td>\n",
       "    </tr>\n",
       "    <tr>\n",
       "      <th>8</th>\n",
       "      <td>9</td>\n",
       "      <td>L0_S0_D9</td>\n",
       "    </tr>\n",
       "  </tbody>\n",
       "</table>\n",
       "</div>"
      ],
      "text/plain": [
       "                         feat_nr_dat  name_dat\n",
       "line station feature_nr                       \n",
       "0    0       0                     1  L0_S0_D1\n",
       "             2                     3  L0_S0_D3\n",
       "             4                     5  L0_S0_D5\n",
       "             6                     7  L0_S0_D7\n",
       "             8                     9  L0_S0_D9"
      ]
     },
     "execution_count": 6,
     "metadata": {},
     "output_type": "execute_result"
    }
   ],
   "source": [
    "date_info.head()"
   ]
  },
  {
   "cell_type": "code",
   "execution_count": 7,
   "metadata": {
    "collapsed": false
   },
   "outputs": [],
   "source": [
    "num_info.columns = ['name_num']\n",
    "cat_info.columns = ['name_cat']"
   ]
  },
  {
   "cell_type": "code",
   "execution_count": 8,
   "metadata": {
    "collapsed": false
   },
   "outputs": [
    {
     "data": {
      "text/html": [
       "<div>\n",
       "<table border=\"1\" class=\"dataframe\">\n",
       "  <thead>\n",
       "    <tr style=\"text-align: right;\">\n",
       "      <th></th>\n",
       "      <th></th>\n",
       "      <th></th>\n",
       "      <th>name_num</th>\n",
       "    </tr>\n",
       "    <tr>\n",
       "      <th>line</th>\n",
       "      <th>station</th>\n",
       "      <th>feature_nr</th>\n",
       "      <th></th>\n",
       "    </tr>\n",
       "  </thead>\n",
       "  <tbody>\n",
       "    <tr>\n",
       "      <th rowspan=\"5\" valign=\"top\">0</th>\n",
       "      <th rowspan=\"5\" valign=\"top\">0</th>\n",
       "      <th>0</th>\n",
       "      <td>L0_S0_F0</td>\n",
       "    </tr>\n",
       "    <tr>\n",
       "      <th>2</th>\n",
       "      <td>L0_S0_F2</td>\n",
       "    </tr>\n",
       "    <tr>\n",
       "      <th>4</th>\n",
       "      <td>L0_S0_F4</td>\n",
       "    </tr>\n",
       "    <tr>\n",
       "      <th>6</th>\n",
       "      <td>L0_S0_F6</td>\n",
       "    </tr>\n",
       "    <tr>\n",
       "      <th>8</th>\n",
       "      <td>L0_S0_F8</td>\n",
       "    </tr>\n",
       "  </tbody>\n",
       "</table>\n",
       "</div>"
      ],
      "text/plain": [
       "                         name_num\n",
       "line station feature_nr          \n",
       "0    0       0           L0_S0_F0\n",
       "             2           L0_S0_F2\n",
       "             4           L0_S0_F4\n",
       "             6           L0_S0_F6\n",
       "             8           L0_S0_F8"
      ]
     },
     "execution_count": 8,
     "metadata": {},
     "output_type": "execute_result"
    }
   ],
   "source": [
    "num_info.head()"
   ]
  },
  {
   "cell_type": "code",
   "execution_count": 9,
   "metadata": {
    "collapsed": false
   },
   "outputs": [
    {
     "data": {
      "text/html": [
       "<div>\n",
       "<table border=\"1\" class=\"dataframe\">\n",
       "  <thead>\n",
       "    <tr style=\"text-align: right;\">\n",
       "      <th></th>\n",
       "      <th>line</th>\n",
       "      <th>station</th>\n",
       "      <th>feature_nr</th>\n",
       "      <th>feat_nr_dat</th>\n",
       "      <th>name_dat</th>\n",
       "      <th>name_cat</th>\n",
       "      <th>name_num</th>\n",
       "    </tr>\n",
       "  </thead>\n",
       "  <tbody>\n",
       "    <tr>\n",
       "      <th>517</th>\n",
       "      <td>1</td>\n",
       "      <td>24</td>\n",
       "      <td>701</td>\n",
       "      <td>702.0</td>\n",
       "      <td>L1_S24_D702</td>\n",
       "      <td>L1_S24_F701</td>\n",
       "      <td>NaN</td>\n",
       "    </tr>\n",
       "    <tr>\n",
       "      <th>923</th>\n",
       "      <td>1</td>\n",
       "      <td>24</td>\n",
       "      <td>1239</td>\n",
       "      <td>NaN</td>\n",
       "      <td>NaN</td>\n",
       "      <td>L1_S24_F1239</td>\n",
       "      <td>NaN</td>\n",
       "    </tr>\n",
       "    <tr>\n",
       "      <th>2924</th>\n",
       "      <td>3</td>\n",
       "      <td>38</td>\n",
       "      <td>3955</td>\n",
       "      <td>NaN</td>\n",
       "      <td>NaN</td>\n",
       "      <td>L3_S38_F3955</td>\n",
       "      <td>NaN</td>\n",
       "    </tr>\n",
       "    <tr>\n",
       "      <th>179</th>\n",
       "      <td>0</td>\n",
       "      <td>10</td>\n",
       "      <td>245</td>\n",
       "      <td>246.0</td>\n",
       "      <td>L0_S10_D246</td>\n",
       "      <td>L0_S10_F245</td>\n",
       "      <td>NaN</td>\n",
       "    </tr>\n",
       "    <tr>\n",
       "      <th>1201</th>\n",
       "      <td>1</td>\n",
       "      <td>24</td>\n",
       "      <td>1602</td>\n",
       "      <td>NaN</td>\n",
       "      <td>NaN</td>\n",
       "      <td>L1_S24_F1602</td>\n",
       "      <td>NaN</td>\n",
       "    </tr>\n",
       "    <tr>\n",
       "      <th>1539</th>\n",
       "      <td>1</td>\n",
       "      <td>25</td>\n",
       "      <td>2049</td>\n",
       "      <td>NaN</td>\n",
       "      <td>NaN</td>\n",
       "      <td>L1_S25_F2049</td>\n",
       "      <td>NaN</td>\n",
       "    </tr>\n",
       "    <tr>\n",
       "      <th>1443</th>\n",
       "      <td>1</td>\n",
       "      <td>25</td>\n",
       "      <td>1928</td>\n",
       "      <td>NaN</td>\n",
       "      <td>NaN</td>\n",
       "      <td>L1_S25_F1928</td>\n",
       "      <td>NaN</td>\n",
       "    </tr>\n",
       "    <tr>\n",
       "      <th>241</th>\n",
       "      <td>0</td>\n",
       "      <td>11</td>\n",
       "      <td>326</td>\n",
       "      <td>NaN</td>\n",
       "      <td>NaN</td>\n",
       "      <td>NaN</td>\n",
       "      <td>L0_S11_F326</td>\n",
       "    </tr>\n",
       "    <tr>\n",
       "      <th>2511</th>\n",
       "      <td>3</td>\n",
       "      <td>29</td>\n",
       "      <td>3401</td>\n",
       "      <td>3402.0</td>\n",
       "      <td>L3_S29_D3402</td>\n",
       "      <td>NaN</td>\n",
       "      <td>L3_S29_F3401</td>\n",
       "    </tr>\n",
       "    <tr>\n",
       "      <th>70</th>\n",
       "      <td>0</td>\n",
       "      <td>3</td>\n",
       "      <td>101</td>\n",
       "      <td>102.0</td>\n",
       "      <td>L0_S3_D102</td>\n",
       "      <td>L0_S3_F101</td>\n",
       "      <td>NaN</td>\n",
       "    </tr>\n",
       "  </tbody>\n",
       "</table>\n",
       "</div>"
      ],
      "text/plain": [
       "      line  station  feature_nr  feat_nr_dat      name_dat      name_cat  \\\n",
       "517      1       24         701        702.0   L1_S24_D702   L1_S24_F701   \n",
       "923      1       24        1239          NaN           NaN  L1_S24_F1239   \n",
       "2924     3       38        3955          NaN           NaN  L3_S38_F3955   \n",
       "179      0       10         245        246.0   L0_S10_D246   L0_S10_F245   \n",
       "1201     1       24        1602          NaN           NaN  L1_S24_F1602   \n",
       "1539     1       25        2049          NaN           NaN  L1_S25_F2049   \n",
       "1443     1       25        1928          NaN           NaN  L1_S25_F1928   \n",
       "241      0       11         326          NaN           NaN           NaN   \n",
       "2511     3       29        3401       3402.0  L3_S29_D3402           NaN   \n",
       "70       0        3         101        102.0    L0_S3_D102    L0_S3_F101   \n",
       "\n",
       "          name_num  \n",
       "517            NaN  \n",
       "923            NaN  \n",
       "2924           NaN  \n",
       "179            NaN  \n",
       "1201           NaN  \n",
       "1539           NaN  \n",
       "1443           NaN  \n",
       "241    L0_S11_F326  \n",
       "2511  L3_S29_F3401  \n",
       "70             NaN  "
      ]
     },
     "execution_count": 9,
     "metadata": {},
     "output_type": "execute_result"
    }
   ],
   "source": [
    "date_info = date_info.merge(cat_info,\n",
    "                            how='outer',\n",
    "                            left_index=True,\n",
    "                            right_index=True). \\\n",
    "                      merge(num_info, \n",
    "                            how='outer',\n",
    "                            left_index=True,\n",
    "                            right_index=True). \\\n",
    "                      reset_index()\n",
    "date_info.sample(10)"
   ]
  },
  {
   "cell_type": "code",
   "execution_count": 10,
   "metadata": {
    "collapsed": false
   },
   "outputs": [
    {
     "data": {
      "text/plain": [
       "\"\\ndate_info = date_info.merge(cat_info[['feature_nr','name']], \\n                            left_on='ref_feature_nr_dat', \\n                            right_on='feature_nr', \\n                            how='outer',\\n                            suffixes=('','_cat')).                       merge(num_info[['feature_nr','name']], \\n                            left_on='ref_feature_nr_dat', \\n                            right_on='feature_nr', \\n                            how='outer',\\n                            suffixes=('','_num'))\\n\""
      ]
     },
     "execution_count": 10,
     "metadata": {},
     "output_type": "execute_result"
    }
   ],
   "source": [
    "'''\n",
    "date_info = date_info.merge(cat_info[['feature_nr','name']], \n",
    "                            left_on='ref_feature_nr_dat', \n",
    "                            right_on='feature_nr', \n",
    "                            how='outer',\n",
    "                            suffixes=('','_cat')). \\\n",
    "                      merge(num_info[['feature_nr','name']], \n",
    "                            left_on='ref_feature_nr_dat', \n",
    "                            right_on='feature_nr', \n",
    "                            how='outer',\n",
    "                            suffixes=('','_num'))\n",
    "'''"
   ]
  },
  {
   "cell_type": "code",
   "execution_count": 11,
   "metadata": {
    "collapsed": false
   },
   "outputs": [
    {
     "data": {
      "text/html": [
       "<div>\n",
       "<table border=\"1\" class=\"dataframe\">\n",
       "  <thead>\n",
       "    <tr style=\"text-align: right;\">\n",
       "      <th></th>\n",
       "      <th>line</th>\n",
       "      <th>station</th>\n",
       "      <th>feature_nr</th>\n",
       "      <th>feat_nr_dat</th>\n",
       "      <th>name_dat</th>\n",
       "      <th>name_cat</th>\n",
       "      <th>name_num</th>\n",
       "    </tr>\n",
       "  </thead>\n",
       "  <tbody>\n",
       "    <tr>\n",
       "      <th>0</th>\n",
       "      <td>0</td>\n",
       "      <td>0</td>\n",
       "      <td>0</td>\n",
       "      <td>1.0</td>\n",
       "      <td>L0_S0_D1</td>\n",
       "      <td>NaN</td>\n",
       "      <td>L0_S0_F0</td>\n",
       "    </tr>\n",
       "    <tr>\n",
       "      <th>1</th>\n",
       "      <td>0</td>\n",
       "      <td>0</td>\n",
       "      <td>2</td>\n",
       "      <td>3.0</td>\n",
       "      <td>L0_S0_D3</td>\n",
       "      <td>NaN</td>\n",
       "      <td>L0_S0_F2</td>\n",
       "    </tr>\n",
       "    <tr>\n",
       "      <th>2</th>\n",
       "      <td>0</td>\n",
       "      <td>0</td>\n",
       "      <td>4</td>\n",
       "      <td>5.0</td>\n",
       "      <td>L0_S0_D5</td>\n",
       "      <td>NaN</td>\n",
       "      <td>L0_S0_F4</td>\n",
       "    </tr>\n",
       "    <tr>\n",
       "      <th>3</th>\n",
       "      <td>0</td>\n",
       "      <td>0</td>\n",
       "      <td>6</td>\n",
       "      <td>7.0</td>\n",
       "      <td>L0_S0_D7</td>\n",
       "      <td>NaN</td>\n",
       "      <td>L0_S0_F6</td>\n",
       "    </tr>\n",
       "    <tr>\n",
       "      <th>4</th>\n",
       "      <td>0</td>\n",
       "      <td>0</td>\n",
       "      <td>8</td>\n",
       "      <td>9.0</td>\n",
       "      <td>L0_S0_D9</td>\n",
       "      <td>NaN</td>\n",
       "      <td>L0_S0_F8</td>\n",
       "    </tr>\n",
       "    <tr>\n",
       "      <th>5</th>\n",
       "      <td>0</td>\n",
       "      <td>0</td>\n",
       "      <td>10</td>\n",
       "      <td>11.0</td>\n",
       "      <td>L0_S0_D11</td>\n",
       "      <td>NaN</td>\n",
       "      <td>L0_S0_F10</td>\n",
       "    </tr>\n",
       "    <tr>\n",
       "      <th>6</th>\n",
       "      <td>0</td>\n",
       "      <td>0</td>\n",
       "      <td>12</td>\n",
       "      <td>13.0</td>\n",
       "      <td>L0_S0_D13</td>\n",
       "      <td>NaN</td>\n",
       "      <td>L0_S0_F12</td>\n",
       "    </tr>\n",
       "    <tr>\n",
       "      <th>7</th>\n",
       "      <td>0</td>\n",
       "      <td>0</td>\n",
       "      <td>14</td>\n",
       "      <td>15.0</td>\n",
       "      <td>L0_S0_D15</td>\n",
       "      <td>NaN</td>\n",
       "      <td>L0_S0_F14</td>\n",
       "    </tr>\n",
       "    <tr>\n",
       "      <th>8</th>\n",
       "      <td>0</td>\n",
       "      <td>0</td>\n",
       "      <td>16</td>\n",
       "      <td>17.0</td>\n",
       "      <td>L0_S0_D17</td>\n",
       "      <td>NaN</td>\n",
       "      <td>L0_S0_F16</td>\n",
       "    </tr>\n",
       "    <tr>\n",
       "      <th>9</th>\n",
       "      <td>0</td>\n",
       "      <td>0</td>\n",
       "      <td>18</td>\n",
       "      <td>19.0</td>\n",
       "      <td>L0_S0_D19</td>\n",
       "      <td>NaN</td>\n",
       "      <td>L0_S0_F18</td>\n",
       "    </tr>\n",
       "    <tr>\n",
       "      <th>10</th>\n",
       "      <td>0</td>\n",
       "      <td>0</td>\n",
       "      <td>20</td>\n",
       "      <td>21.0</td>\n",
       "      <td>L0_S0_D21</td>\n",
       "      <td>NaN</td>\n",
       "      <td>L0_S0_F20</td>\n",
       "    </tr>\n",
       "    <tr>\n",
       "      <th>11</th>\n",
       "      <td>0</td>\n",
       "      <td>0</td>\n",
       "      <td>22</td>\n",
       "      <td>23.0</td>\n",
       "      <td>L0_S0_D23</td>\n",
       "      <td>NaN</td>\n",
       "      <td>L0_S0_F22</td>\n",
       "    </tr>\n",
       "    <tr>\n",
       "      <th>12</th>\n",
       "      <td>0</td>\n",
       "      <td>1</td>\n",
       "      <td>24</td>\n",
       "      <td>NaN</td>\n",
       "      <td>NaN</td>\n",
       "      <td>NaN</td>\n",
       "      <td>L0_S1_F24</td>\n",
       "    </tr>\n",
       "    <tr>\n",
       "      <th>13</th>\n",
       "      <td>0</td>\n",
       "      <td>1</td>\n",
       "      <td>25</td>\n",
       "      <td>26.0</td>\n",
       "      <td>L0_S1_D26</td>\n",
       "      <td>L0_S1_F25</td>\n",
       "      <td>NaN</td>\n",
       "    </tr>\n",
       "    <tr>\n",
       "      <th>14</th>\n",
       "      <td>0</td>\n",
       "      <td>1</td>\n",
       "      <td>27</td>\n",
       "      <td>NaN</td>\n",
       "      <td>NaN</td>\n",
       "      <td>L0_S1_F27</td>\n",
       "      <td>NaN</td>\n",
       "    </tr>\n",
       "    <tr>\n",
       "      <th>15</th>\n",
       "      <td>0</td>\n",
       "      <td>1</td>\n",
       "      <td>28</td>\n",
       "      <td>NaN</td>\n",
       "      <td>NaN</td>\n",
       "      <td>NaN</td>\n",
       "      <td>L0_S1_F28</td>\n",
       "    </tr>\n",
       "    <tr>\n",
       "      <th>16</th>\n",
       "      <td>0</td>\n",
       "      <td>1</td>\n",
       "      <td>29</td>\n",
       "      <td>30.0</td>\n",
       "      <td>L0_S1_D30</td>\n",
       "      <td>L0_S1_F29</td>\n",
       "      <td>NaN</td>\n",
       "    </tr>\n",
       "    <tr>\n",
       "      <th>17</th>\n",
       "      <td>0</td>\n",
       "      <td>1</td>\n",
       "      <td>31</td>\n",
       "      <td>NaN</td>\n",
       "      <td>NaN</td>\n",
       "      <td>L0_S1_F31</td>\n",
       "      <td>NaN</td>\n",
       "    </tr>\n",
       "    <tr>\n",
       "      <th>18</th>\n",
       "      <td>0</td>\n",
       "      <td>2</td>\n",
       "      <td>32</td>\n",
       "      <td>NaN</td>\n",
       "      <td>NaN</td>\n",
       "      <td>NaN</td>\n",
       "      <td>L0_S2_F32</td>\n",
       "    </tr>\n",
       "    <tr>\n",
       "      <th>19</th>\n",
       "      <td>0</td>\n",
       "      <td>2</td>\n",
       "      <td>33</td>\n",
       "      <td>34.0</td>\n",
       "      <td>L0_S2_D34</td>\n",
       "      <td>L0_S2_F33</td>\n",
       "      <td>NaN</td>\n",
       "    </tr>\n",
       "  </tbody>\n",
       "</table>\n",
       "</div>"
      ],
      "text/plain": [
       "    line  station  feature_nr  feat_nr_dat   name_dat   name_cat   name_num\n",
       "0      0        0           0          1.0   L0_S0_D1        NaN   L0_S0_F0\n",
       "1      0        0           2          3.0   L0_S0_D3        NaN   L0_S0_F2\n",
       "2      0        0           4          5.0   L0_S0_D5        NaN   L0_S0_F4\n",
       "3      0        0           6          7.0   L0_S0_D7        NaN   L0_S0_F6\n",
       "4      0        0           8          9.0   L0_S0_D9        NaN   L0_S0_F8\n",
       "5      0        0          10         11.0  L0_S0_D11        NaN  L0_S0_F10\n",
       "6      0        0          12         13.0  L0_S0_D13        NaN  L0_S0_F12\n",
       "7      0        0          14         15.0  L0_S0_D15        NaN  L0_S0_F14\n",
       "8      0        0          16         17.0  L0_S0_D17        NaN  L0_S0_F16\n",
       "9      0        0          18         19.0  L0_S0_D19        NaN  L0_S0_F18\n",
       "10     0        0          20         21.0  L0_S0_D21        NaN  L0_S0_F20\n",
       "11     0        0          22         23.0  L0_S0_D23        NaN  L0_S0_F22\n",
       "12     0        1          24          NaN        NaN        NaN  L0_S1_F24\n",
       "13     0        1          25         26.0  L0_S1_D26  L0_S1_F25        NaN\n",
       "14     0        1          27          NaN        NaN  L0_S1_F27        NaN\n",
       "15     0        1          28          NaN        NaN        NaN  L0_S1_F28\n",
       "16     0        1          29         30.0  L0_S1_D30  L0_S1_F29        NaN\n",
       "17     0        1          31          NaN        NaN  L0_S1_F31        NaN\n",
       "18     0        2          32          NaN        NaN        NaN  L0_S2_F32\n",
       "19     0        2          33         34.0  L0_S2_D34  L0_S2_F33        NaN"
      ]
     },
     "execution_count": 11,
     "metadata": {},
     "output_type": "execute_result"
    }
   ],
   "source": [
    "date_info.head(20)"
   ]
  },
  {
   "cell_type": "markdown",
   "metadata": {},
   "source": [
    "### Update wrong numeric features"
   ]
  },
  {
   "cell_type": "code",
   "execution_count": 12,
   "metadata": {
    "collapsed": true
   },
   "outputs": [],
   "source": [
    "# Feature number L3_S37_D3942 is wrongly labeled, the feature belongs to L3 Station 36\n",
    "# However, if you look at the timestamp values it belongs the something else...\n",
    "# So the category label has the wrong label: L3_S36_F3941..."
   ]
  },
  {
   "cell_type": "code",
   "execution_count": 13,
   "metadata": {
    "collapsed": false
   },
   "outputs": [],
   "source": [
    "date_info.loc[(date_info.feature_nr==3941) & (date_info.station==37),['name_cat']] = ['L3_S36_F3941']\n",
    "date_info.drop( date_info[(date_info.feature_nr==3941) & (date_info.station==36)].index, axis=0, inplace=True)"
   ]
  },
  {
   "cell_type": "code",
   "execution_count": 14,
   "metadata": {
    "collapsed": false
   },
   "outputs": [
    {
     "data": {
      "text/plain": [
       "2047    1\n",
       "1350    1\n",
       "3395    1\n",
       "1346    1\n",
       "1344    1\n",
       "Name: feature_nr, dtype: int64"
      ]
     },
     "execution_count": 14,
     "metadata": {},
     "output_type": "execute_result"
    }
   ],
   "source": [
    "# If all are correctly labeled there shouldn't not be any duplicates\n",
    "date_info.feature_nr.value_counts().head()"
   ]
  },
  {
   "cell_type": "markdown",
   "metadata": {},
   "source": [
    "### Save look-up table"
   ]
  },
  {
   "cell_type": "code",
   "execution_count": 15,
   "metadata": {
    "collapsed": true
   },
   "outputs": [],
   "source": [
    "date_info.to_csv(os.path.join(const.DATA_PATH,'date_feat_lut.csv'), index=False)"
   ]
  },
  {
   "cell_type": "code",
   "execution_count": null,
   "metadata": {
    "collapsed": true
   },
   "outputs": [],
   "source": []
  }
 ],
 "metadata": {
  "kernelspec": {
   "display_name": "Python 2",
   "language": "python",
   "name": "python2"
  },
  "language_info": {
   "codemirror_mode": {
    "name": "ipython",
    "version": 2
   },
   "file_extension": ".py",
   "mimetype": "text/x-python",
   "name": "python",
   "nbconvert_exporter": "python",
   "pygments_lexer": "ipython2",
   "version": "2.7.11"
  }
 },
 "nbformat": 4,
 "nbformat_minor": 0
}
